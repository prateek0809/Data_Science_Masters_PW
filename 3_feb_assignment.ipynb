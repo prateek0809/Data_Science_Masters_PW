{
 "cells": [
  {
   "cell_type": "markdown",
   "id": "7f0fcdbb",
   "metadata": {},
   "source": [
    "# PW Data Science Masters"
   ]
  },
  {
   "cell_type": "markdown",
   "id": "19d50aa6",
   "metadata": {},
   "source": [
    "## Assignment - 4"
   ]
  },
  {
   "cell_type": "markdown",
   "id": "d4ca283a",
   "metadata": {},
   "source": [
    "Q1. Which keyword is used to create a function? Create a function to return a list of odd numbers in the \n",
    "range of 1 to 25."
   ]
  },
  {
   "cell_type": "markdown",
   "id": "4353c54c",
   "metadata": {},
   "source": [
    "Ans. 'def' keyword is used to create a function in Python."
   ]
  },
  {
   "cell_type": "code",
   "execution_count": 1,
   "id": "d7069c98",
   "metadata": {},
   "outputs": [
    {
     "name": "stdout",
     "output_type": "stream",
     "text": [
      "[1, 3, 5, 7, 9, 11, 13, 15, 17, 19, 21, 23, 25]\n"
     ]
    }
   ],
   "source": [
    "#function to return a list of odd numbers in the range of 1 to 25\n",
    "\n",
    "def odd():\n",
    "    l = [x for x in range(1,26) if x % 2 != 0]\n",
    "    return l\n",
    "\n",
    "print(odd())"
   ]
  },
  {
   "cell_type": "markdown",
   "id": "aa99b0fd",
   "metadata": {},
   "source": [
    "Q2. Why *args and **kwargs is used in some functions? Create a function each for *args and **kwargs to \n",
    "demonstrate their use."
   ]
  },
  {
   "cell_type": "markdown",
   "id": "6bcafb95",
   "metadata": {},
   "source": [
    "Ans.  \n",
    "*args is used to pass a variable number of arguments to a function in Python. It is used to pass a non-keyworded, variable-length argument list.\n",
    "\n",
    "**kwargs is used to pass a keyworded, variable-length argument list in Python. **kwargs as being a dictionary that maps each keyword to the value that we pass alongside it. "
   ]
  },
  {
   "cell_type": "code",
   "execution_count": 2,
   "id": "f7c43691",
   "metadata": {},
   "outputs": [
    {
     "name": "stdout",
     "output_type": "stream",
     "text": [
      "[0, 2, 4, 6, 8]\n"
     ]
    }
   ],
   "source": [
    "#function for *args \n",
    "\n",
    "def even(*numbers):\n",
    "    l = [x for x in numbers if x % 2 == 0]\n",
    "    return l\n",
    "\n",
    "print(even(0,1,2,3,4,5,6,7,8,9))"
   ]
  },
  {
   "cell_type": "code",
   "execution_count": 3,
   "id": "34ed20cb",
   "metadata": {},
   "outputs": [
    {
     "name": "stdout",
     "output_type": "stream",
     "text": [
      "{'Mathematics': 90, 'Science': 86, 'Computer_Applications': 98}\n"
     ]
    }
   ],
   "source": [
    "#function for **kwargs\n",
    "\n",
    "def details(**marks):\n",
    "    return marks\n",
    "\n",
    "print(details(Mathematics = 90, Science  = 86, Computer_Applications = 98))"
   ]
  },
  {
   "cell_type": "markdown",
   "id": "ab22021f",
   "metadata": {},
   "source": [
    "Q3.  What is an iterator in python? Name the method used to initialise the iterator object and the method \n",
    "used for iteration. Use these methods to print the first five elements of the given list [2, 4, 6, 8, 10, 12, 14, 16, \n",
    "18, 20]."
   ]
  },
  {
   "cell_type": "markdown",
   "id": "87ce8c36",
   "metadata": {},
   "source": [
    "Ans. An iterator is an object that contains a countable number of values. It is an object that can be iterated upon which means we can traverse through all the values.\n",
    "\n",
    "In Python, an iterator is an object which implements the iterator methods __iter__() and __next__()."
   ]
  },
  {
   "cell_type": "code",
   "execution_count": 4,
   "id": "dc7d15a3",
   "metadata": {},
   "outputs": [
    {
     "name": "stdout",
     "output_type": "stream",
     "text": [
      "2 4 6 8 10 "
     ]
    }
   ],
   "source": [
    "l = iter([2, 4, 6, 8, 10, 12, 14, 16, 18, 20])\n",
    "\n",
    "for i in range(5):\n",
    "    print(next(l),end=' ')"
   ]
  },
  {
   "cell_type": "markdown",
   "id": "1b7cdc38",
   "metadata": {},
   "source": [
    "Q4.  What is a generator function in python? Why yield keyword is used? Give an example of a generator \n",
    "function."
   ]
  },
  {
   "cell_type": "markdown",
   "id": "3ab481ee",
   "metadata": {},
   "source": [
    "Ans. A generator-function is defined like a normal function, but it is used to generate a value. If the body of a def contains yield, the function automatically becomes a generator function. \n",
    "\n",
    "yield keyword is used to create a generator function. A type of function that is memory efficient and can be used like an iterator object."
   ]
  },
  {
   "cell_type": "code",
   "execution_count": 5,
   "id": "9dce639e",
   "metadata": {},
   "outputs": [
    {
     "name": "stdout",
     "output_type": "stream",
     "text": [
      "10\n"
     ]
    }
   ],
   "source": [
    "# Example of Generator Function\n",
    "\n",
    "def add(n):\n",
    "    a = 0\n",
    "    while a < n:\n",
    "        yield a \n",
    "        a += 1\n",
    "        \n",
    "sum = 0\n",
    "for i in add(5):\n",
    "    sum += i\n",
    "    \n",
    "print(sum)    "
   ]
  },
  {
   "cell_type": "markdown",
   "id": "57ce7c69",
   "metadata": {},
   "source": [
    "Q5. Create a generator function for prime numbers less than 1000. Use the next() method to print the \n",
    "first 20 prime numbers."
   ]
  },
  {
   "cell_type": "code",
   "execution_count": 20,
   "id": "c57a9228",
   "metadata": {},
   "outputs": [
    {
     "name": "stdout",
     "output_type": "stream",
     "text": [
      "2 3 5 7 11 13 17 19 23 29 31 37 41 43 47 53 59 61 67 71 "
     ]
    }
   ],
   "source": [
    "def prime():\n",
    "    for i in range(2,1000):\n",
    "        f = 0\n",
    "        for j in range(2,i//2+1):\n",
    "            if i % j == 0:\n",
    "                f = 1\n",
    "                break\n",
    "        if f == 0:\n",
    "            yield i\n",
    "    \n",
    "p = prime()\n",
    "\n",
    "for i in range(20):\n",
    "    print(next(p),end=' ')"
   ]
  }
 ],
 "metadata": {
  "kernelspec": {
   "display_name": "Python 3 (ipykernel)",
   "language": "python",
   "name": "python3"
  },
  "language_info": {
   "codemirror_mode": {
    "name": "ipython",
    "version": 3
   },
   "file_extension": ".py",
   "mimetype": "text/x-python",
   "name": "python",
   "nbconvert_exporter": "python",
   "pygments_lexer": "ipython3",
   "version": "3.9.16"
  }
 },
 "nbformat": 4,
 "nbformat_minor": 5
}
