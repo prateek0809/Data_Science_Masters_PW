{
 "cells": [
  {
   "cell_type": "markdown",
   "id": "fe33411b",
   "metadata": {},
   "source": [
    "# PW Data Science Matsers"
   ]
  },
  {
   "cell_type": "markdown",
   "id": "da6f3bcb",
   "metadata": {},
   "source": [
    "## Assignment - 7"
   ]
  },
  {
   "cell_type": "markdown",
   "id": "71a23fd0",
   "metadata": {},
   "source": [
    "Q1. Create a function which will take a list as an argument and return the product of all the numbers \n",
    "after creating a flat list.\n",
    "\n",
    "Use the below-given list as an argument for your function.\n",
    "\n",
    "\n",
    "list1 = [1,2,3,4, [44,55,66, True], False, (34,56,78,89,34), {1,2,3,3,2,1}, {1:34, \"key2\": [55, 67, 78, 89], 4: (45, \n",
    "22, 61, 34)}, [56, 'data science'], 'Machine Learning']\n",
    "\n",
    "\n",
    "Note: you must extract numeric keys and values of the dictionary also."
   ]
  },
  {
   "cell_type": "code",
   "execution_count": 1,
   "id": "edcbca95",
   "metadata": {},
   "outputs": [
    {
     "name": "stdout",
     "output_type": "stream",
     "text": [
      "2315262738624675840\n"
     ]
    }
   ],
   "source": [
    "from typing import List\n",
    "  \n",
    "def product(lst: List):  \n",
    "    flat_list = []\n",
    "    def flatten(lst):\n",
    "        for item in lst:\n",
    "            if type(item) in (list, tuple, set, dict):\n",
    "                flatten(item)\n",
    "            elif type(item) == int:\n",
    "                flat_list.append(item)\n",
    "    \n",
    "    flatten(lst)\n",
    "    prod = 1\n",
    "    for item in flat_list:\n",
    "        prod *= item\n",
    "    return prod\n",
    "\n",
    "list1 = [1,2,3,4, [44,55,66, True], False, (34,56,78,89,34), {1,2,3,3,2,1}, {1:34, \n",
    "        \"key2\": [55, 67, 78, 89], 4: (45, 22, 61, 34)}, [56, 'data science'], 'Machine Learning']\n",
    "print(product(list1))"
   ]
  },
  {
   "cell_type": "markdown",
   "id": "b320429d",
   "metadata": {},
   "source": [
    "Q2. Write a python program for encrypting a message sent to you by your friend. The logic of encryption \n",
    "should be such that, for a the output should be z. For b, the output should be y. For c, the output should \n",
    "be x respectively. Also, the whitespace should be replaced with a dollar sign. Keep the punctuation \n",
    "marks unchanged.\n",
    "\n",
    "\n",
    "Input Sentence: I want to become a Data Scientist.\n",
    "\n",
    "\n",
    "Encrypt the above input sentence using the program you just created.\n",
    "\n",
    "\n",
    "Note: Convert the given input sentence into lowercase before encrypting. The final output should be \n",
    "lowercase."
   ]
  },
  {
   "cell_type": "code",
   "execution_count": 2,
   "id": "d0a984c0",
   "metadata": {},
   "outputs": [
    {
     "name": "stdout",
     "output_type": "stream",
     "text": [
      "Encrypted Sentence is:  r$dzmg$gl$yvxlnv$z$wzgz$hxrvmgrhg.\n"
     ]
    }
   ],
   "source": [
    "def encrypt(sentence):\n",
    "    \n",
    "    sentence = sentence.lower()\n",
    "    \n",
    "    encryption = {}\n",
    "    for i in range(26):\n",
    "        encryption[chr(i + ord('a'))] = chr((25-i) + ord('a')) \n",
    "    encryption[' '] = '$'\n",
    "    \n",
    "    encrypt_sentence = ''\n",
    "    for char in sentence:\n",
    "        if char in encryption:\n",
    "            encrypt_sentence += encryption[char]\n",
    "        else:\n",
    "            encrypt_sentence += char\n",
    "            \n",
    "    return encrypt_sentence\n",
    "\n",
    "sentence = 'I want to become a Data Scientist.'\n",
    "encrypt_sentence = encrypt(sentence)\n",
    "print('Encrypted Sentence is: ', encrypt_sentence)"
   ]
  }
 ],
 "metadata": {
  "kernelspec": {
   "display_name": "Python 3 (ipykernel)",
   "language": "python",
   "name": "python3"
  },
  "language_info": {
   "codemirror_mode": {
    "name": "ipython",
    "version": 3
   },
   "file_extension": ".py",
   "mimetype": "text/x-python",
   "name": "python",
   "nbconvert_exporter": "python",
   "pygments_lexer": "ipython3",
   "version": "3.9.16"
  }
 },
 "nbformat": 4,
 "nbformat_minor": 5
}
