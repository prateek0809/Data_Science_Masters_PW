{
 "cells": [
  {
   "cell_type": "markdown",
   "id": "6fca81f5",
   "metadata": {},
   "source": [
    "# PW Data Science Masters"
   ]
  },
  {
   "cell_type": "markdown",
   "id": "7983af77",
   "metadata": {},
   "source": [
    "## Assignment - 10"
   ]
  },
  {
   "cell_type": "markdown",
   "id": "733fc14d",
   "metadata": {},
   "source": [
    "Q1. Which function is used to open a file? What are the different modes of opening a file? Explain each mode \n",
    "of file opening."
   ]
  },
  {
   "cell_type": "markdown",
   "id": "8e166e33",
   "metadata": {},
   "source": [
    "Ans- open() function is used to open a file and open() function takes two parameters; filename, and mode. \n",
    "\n",
    "There are four different methods (modes) for opening a file:\n",
    "\n",
    "\"r\" - Read - Default value. Opens a file for reading, error if the file does not exist\n",
    "\n",
    "\"a\" - Append - Opens a file for appending, creates the file if it does not exist\n",
    "\n",
    "\"w\" - Write - Opens a file for writing, creates the file if it does not exist\n",
    "\n",
    "\"x\" - Create - Creates the specified file, returns an error if the file exist\n",
    "\n",
    "\"b\" - binary mode\n",
    "\n",
    "\"t\" - text mode (default)\n",
    "\n",
    "\"+\" - open a disk file for updating (reading and writing)\n",
    "\n",
    "\"U\" - universal newline mode (deprecated)"
   ]
  },
  {
   "cell_type": "markdown",
   "id": "5b726b16",
   "metadata": {},
   "source": [
    "Q2. Why close() function is used? Why is it important to close a file?"
   ]
  },
  {
   "cell_type": "markdown",
   "id": "3fa33231",
   "metadata": {},
   "source": [
    "Ans- The close() function is used close an open file.. it’s important to close files in Python. Because files are limited resources managed by the operating system, making sure files are closed after use will protect against hard-to-debug issues like running out of file handles or experiencing corrupted data. The best defense is always to open files with a context manager."
   ]
  },
  {
   "cell_type": "markdown",
   "id": "cf8c57b1",
   "metadata": {},
   "source": [
    "Q3. Write a python program to create a text file. Write ‘I want to become a Data Scientist’ in that file. Then \n",
    "close the file. Open this file and read the content of the file. "
   ]
  },
  {
   "cell_type": "code",
   "execution_count": 1,
   "id": "516dea56",
   "metadata": {},
   "outputs": [],
   "source": [
    "with open('assign.txt','w') as f:\n",
    "    f.write('I want to become a Data Scientist.')"
   ]
  },
  {
   "cell_type": "code",
   "execution_count": 2,
   "id": "ae1dce37",
   "metadata": {},
   "outputs": [
    {
     "name": "stdout",
     "output_type": "stream",
     "text": [
      "I want to become a Data Scientist.\n"
     ]
    }
   ],
   "source": [
    "with open('assign.txt','r') as f:\n",
    "    file = f.read()\n",
    "    print(file)"
   ]
  },
  {
   "cell_type": "markdown",
   "id": "0a61a27a",
   "metadata": {},
   "source": [
    "Q4. Explain the following with python code: read(), readline() and readlines()."
   ]
  },
  {
   "cell_type": "markdown",
   "id": "a631a1d9",
   "metadata": {},
   "source": [
    "Ans:- 1. read() method:\n",
    "read() returns the read bytes in form of a string. Reads n bytes, if no n specified, reads the entire file."
   ]
  },
  {
   "cell_type": "code",
   "execution_count": 3,
   "id": "f0128fe9",
   "metadata": {},
   "outputs": [],
   "source": [
    "with open('mark.txt','w') as f:\n",
    "    f.write('I want to become a Data Scientist.\\nPython is the best programming language in the world in 2020.\\nPW Skills Data Science Masters course is the best course.')"
   ]
  },
  {
   "cell_type": "code",
   "execution_count": 4,
   "id": "4ac42a8c",
   "metadata": {},
   "outputs": [
    {
     "name": "stdout",
     "output_type": "stream",
     "text": [
      "I want to become a Data Scientist.\n",
      "Python is the best programming language in the world in 2020.\n",
      "PW Skills Data Science Masters course is the best course.\n"
     ]
    }
   ],
   "source": [
    "with open('mark.txt','r') as f:\n",
    "    file = f.read()\n",
    "    print(file)"
   ]
  },
  {
   "cell_type": "markdown",
   "id": "d01fc9b8",
   "metadata": {},
   "source": [
    "2. readline() method:\n",
    "readline() method will return a line from the file when called."
   ]
  },
  {
   "cell_type": "code",
   "execution_count": 5,
   "id": "be3b64f8",
   "metadata": {},
   "outputs": [
    {
     "name": "stdout",
     "output_type": "stream",
     "text": [
      "I want to become a Data Scientist.\n",
      "\n"
     ]
    }
   ],
   "source": [
    "with open('mark.txt','r') as f:\n",
    "    file = f.readline()\n",
    "    print(file)"
   ]
  },
  {
   "cell_type": "markdown",
   "id": "55474188",
   "metadata": {},
   "source": [
    "3. readlines() method:\n",
    "readlines() method will return all the lines in a file in the format of a list where each element is a line in the file."
   ]
  },
  {
   "cell_type": "code",
   "execution_count": 6,
   "id": "46166327",
   "metadata": {},
   "outputs": [
    {
     "name": "stdout",
     "output_type": "stream",
     "text": [
      "I want to become a Data Scientist.\n",
      "\n",
      "Python is the best programming language in the world in 2020.\n",
      "\n",
      "PW Skills Data Science Masters course is the best course.\n"
     ]
    }
   ],
   "source": [
    "with open('mark.txt','r') as f:\n",
    "    file = f.readlines()\n",
    "    for i in file:\n",
    "        print(i)"
   ]
  },
  {
   "cell_type": "markdown",
   "id": "454cfca5",
   "metadata": {},
   "source": [
    "Q5. Explain why with statement is used with open(). What is the advantage of using with statement and \n",
    "open() together?"
   ]
  },
  {
   "cell_type": "markdown",
   "id": "0eb4a5bc",
   "metadata": {},
   "source": [
    "Ans. The 'with' statement works with the open() function to open a file. Unlike open() where you have to close the file with the close() method, the with statement closes the file for you without you telling it to. This is because the with statement calls 2 built-in methods behind the scene – enter() and exit() . \n",
    "\n",
    "The advantage of using 'with' statement and open() together because with statement close the file automatically."
   ]
  },
  {
   "cell_type": "markdown",
   "id": "faab75c8",
   "metadata": {},
   "source": [
    "Q6. Explain the write() and writelines() functions. Give a suitable example."
   ]
  },
  {
   "cell_type": "markdown",
   "id": "8daf863f",
   "metadata": {},
   "source": [
    "Ans- write() function:-\n",
    "The write() function will write the content in the file without adding any extra characters.\n",
    "\n",
    "Syntax:\n",
    "\n",
    "    file_name.write(content)"
   ]
  },
  {
   "cell_type": "code",
   "execution_count": 7,
   "id": "a40dd23d",
   "metadata": {},
   "outputs": [],
   "source": [
    "with open('last1.txt','w') as f:\n",
    "    f.write('PW Skills Data Science Masters course is the best course.')"
   ]
  },
  {
   "cell_type": "code",
   "execution_count": 8,
   "id": "b8002a30",
   "metadata": {},
   "outputs": [
    {
     "name": "stdout",
     "output_type": "stream",
     "text": [
      "PW Skills Data Science Masters course is the best course.\n"
     ]
    }
   ],
   "source": [
    "with open('last1.txt','r') as f:\n",
    "    file = f.read()\n",
    "    print(file)"
   ]
  },
  {
   "cell_type": "markdown",
   "id": "31d81f9f",
   "metadata": {},
   "source": [
    "2. writelines() function:-\n",
    "This function writes the content of a list to a file.\n",
    "\n",
    "Syntax:\n",
    "\n",
    "    file_name.writelines(list_of_lines)."
   ]
  },
  {
   "cell_type": "code",
   "execution_count": 9,
   "id": "2a3b895b",
   "metadata": {},
   "outputs": [
    {
     "name": "stdout",
     "output_type": "stream",
     "text": [
      "Written opertaion is done.\n"
     ]
    }
   ],
   "source": [
    "lst = []\n",
    "for i in range(3):\n",
    "    lst.append('PW Skills Data Science Masters course is the best course.\\n')\n",
    "\n",
    "with open('last2.txt','w') as f:\n",
    "    f.writelines(lst)\n",
    "    print('Written opertaion is done.')"
   ]
  },
  {
   "cell_type": "code",
   "execution_count": 10,
   "id": "9ca93b1d",
   "metadata": {},
   "outputs": [
    {
     "name": "stdout",
     "output_type": "stream",
     "text": [
      "PW Skills Data Science Masters course is the best course.\n",
      "\n",
      "PW Skills Data Science Masters course is the best course.\n",
      "\n",
      "PW Skills Data Science Masters course is the best course.\n",
      "\n"
     ]
    }
   ],
   "source": [
    "with open('last2.txt','r') as f:\n",
    "    file = f.readlines()\n",
    "    for i in file:\n",
    "        print(i)"
   ]
  }
 ],
 "metadata": {
  "kernelspec": {
   "display_name": "Python 3 (ipykernel)",
   "language": "python",
   "name": "python3"
  },
  "language_info": {
   "codemirror_mode": {
    "name": "ipython",
    "version": 3
   },
   "file_extension": ".py",
   "mimetype": "text/x-python",
   "name": "python",
   "nbconvert_exporter": "python",
   "pygments_lexer": "ipython3",
   "version": "3.9.16"
  }
 },
 "nbformat": 4,
 "nbformat_minor": 5
}
