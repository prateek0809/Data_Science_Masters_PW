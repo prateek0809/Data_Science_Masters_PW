{
 "cells": [
  {
   "cell_type": "markdown",
   "id": "f734a4be-481d-403f-aa8c-ff2bf6832ea9",
   "metadata": {},
   "source": [
    "# PW Data Science Masters"
   ]
  },
  {
   "cell_type": "markdown",
   "id": "bd2ac83a-5d4b-4146-b568-91da66961e82",
   "metadata": {},
   "source": [
    "## Assignment - 23"
   ]
  },
  {
   "cell_type": "code",
   "execution_count": 3,
   "id": "da798571-f170-4c8b-9804-56cf66dd83c2",
   "metadata": {},
   "outputs": [],
   "source": [
    "import pandas as pd"
   ]
  },
  {
   "cell_type": "markdown",
   "id": "2f7ee747-8937-4003-b021-17b54d32170b",
   "metadata": {},
   "source": [
    "Q1. List any five functions of the pandas library with execution."
   ]
  },
  {
   "cell_type": "markdown",
   "id": "2e585f0c-ab38-41ee-bd40-a339539c8828",
   "metadata": {},
   "source": [
    "ANS. 1. pd.DataFrame() : It is used to create a new dataframe."
   ]
  },
  {
   "cell_type": "code",
   "execution_count": 4,
   "id": "3fc86977-0d6b-4b55-b087-769e0866cdd8",
   "metadata": {},
   "outputs": [
    {
     "data": {
      "text/html": [
       "<div>\n",
       "<style scoped>\n",
       "    .dataframe tbody tr th:only-of-type {\n",
       "        vertical-align: middle;\n",
       "    }\n",
       "\n",
       "    .dataframe tbody tr th {\n",
       "        vertical-align: top;\n",
       "    }\n",
       "\n",
       "    .dataframe thead th {\n",
       "        text-align: right;\n",
       "    }\n",
       "</style>\n",
       "<table border=\"1\" class=\"dataframe\">\n",
       "  <thead>\n",
       "    <tr style=\"text-align: right;\">\n",
       "      <th></th>\n",
       "      <th>Name</th>\n",
       "      <th>Age</th>\n",
       "      <th>Course</th>\n",
       "    </tr>\n",
       "  </thead>\n",
       "  <tbody>\n",
       "    <tr>\n",
       "      <th>0</th>\n",
       "      <td>Prateek</td>\n",
       "      <td>29</td>\n",
       "      <td>Data Science Masters</td>\n",
       "    </tr>\n",
       "    <tr>\n",
       "      <th>1</th>\n",
       "      <td>Prashika</td>\n",
       "      <td>8</td>\n",
       "      <td>Machine Learning Specialist</td>\n",
       "    </tr>\n",
       "    <tr>\n",
       "      <th>2</th>\n",
       "      <td>Anshika</td>\n",
       "      <td>28</td>\n",
       "      <td>Artificial Intelligence Expert</td>\n",
       "    </tr>\n",
       "  </tbody>\n",
       "</table>\n",
       "</div>"
      ],
      "text/plain": [
       "       Name  Age                          Course\n",
       "0   Prateek   29            Data Science Masters\n",
       "1  Prashika    8     Machine Learning Specialist\n",
       "2   Anshika   28  Artificial Intelligence Expert"
      ]
     },
     "execution_count": 4,
     "metadata": {},
     "output_type": "execute_result"
    }
   ],
   "source": [
    "#Example:-\n",
    "data = {\n",
    "    'Name' : ['Prateek', 'Prashika', 'Anshika'],\n",
    "    'Age': [29, 8, 28],\n",
    "    'Course': ['Data Science Masters', 'Machine Learning Specialist', 'Artificial Intelligence Expert']\n",
    "}\n",
    "pd.DataFrame(data)"
   ]
  },
  {
   "cell_type": "markdown",
   "id": "3d41f834-63b3-4b59-ad95-4dc460898ed9",
   "metadata": {},
   "source": [
    "2. pd.read_csv(): It is used to read a csv file in pandas"
   ]
  },
  {
   "cell_type": "code",
   "execution_count": 5,
   "id": "d0b197b5-a099-4f11-a63c-9c733031ef4d",
   "metadata": {},
   "outputs": [
    {
     "data": {
      "text/html": [
       "<div>\n",
       "<style scoped>\n",
       "    .dataframe tbody tr th:only-of-type {\n",
       "        vertical-align: middle;\n",
       "    }\n",
       "\n",
       "    .dataframe tbody tr th {\n",
       "        vertical-align: top;\n",
       "    }\n",
       "\n",
       "    .dataframe thead th {\n",
       "        text-align: right;\n",
       "    }\n",
       "</style>\n",
       "<table border=\"1\" class=\"dataframe\">\n",
       "  <thead>\n",
       "    <tr style=\"text-align: right;\">\n",
       "      <th></th>\n",
       "      <th>Region</th>\n",
       "      <th>Date</th>\n",
       "      <th>Frequency</th>\n",
       "      <th>Estimated Unemployment Rate (%)</th>\n",
       "      <th>Estimated Employed</th>\n",
       "      <th>Estimated Labour Participation Rate (%)</th>\n",
       "      <th>Region.1</th>\n",
       "      <th>longitude</th>\n",
       "      <th>latitude</th>\n",
       "    </tr>\n",
       "  </thead>\n",
       "  <tbody>\n",
       "    <tr>\n",
       "      <th>0</th>\n",
       "      <td>Andhra Pradesh</td>\n",
       "      <td>31-01-2020</td>\n",
       "      <td>M</td>\n",
       "      <td>5.48</td>\n",
       "      <td>16635535</td>\n",
       "      <td>41.02</td>\n",
       "      <td>South</td>\n",
       "      <td>15.9129</td>\n",
       "      <td>79.740</td>\n",
       "    </tr>\n",
       "    <tr>\n",
       "      <th>1</th>\n",
       "      <td>Andhra Pradesh</td>\n",
       "      <td>29-02-2020</td>\n",
       "      <td>M</td>\n",
       "      <td>5.83</td>\n",
       "      <td>16545652</td>\n",
       "      <td>40.90</td>\n",
       "      <td>South</td>\n",
       "      <td>15.9129</td>\n",
       "      <td>79.740</td>\n",
       "    </tr>\n",
       "    <tr>\n",
       "      <th>2</th>\n",
       "      <td>Andhra Pradesh</td>\n",
       "      <td>31-03-2020</td>\n",
       "      <td>M</td>\n",
       "      <td>5.79</td>\n",
       "      <td>15881197</td>\n",
       "      <td>39.18</td>\n",
       "      <td>South</td>\n",
       "      <td>15.9129</td>\n",
       "      <td>79.740</td>\n",
       "    </tr>\n",
       "    <tr>\n",
       "      <th>3</th>\n",
       "      <td>Andhra Pradesh</td>\n",
       "      <td>30-04-2020</td>\n",
       "      <td>M</td>\n",
       "      <td>20.51</td>\n",
       "      <td>11336911</td>\n",
       "      <td>33.10</td>\n",
       "      <td>South</td>\n",
       "      <td>15.9129</td>\n",
       "      <td>79.740</td>\n",
       "    </tr>\n",
       "    <tr>\n",
       "      <th>4</th>\n",
       "      <td>Andhra Pradesh</td>\n",
       "      <td>31-05-2020</td>\n",
       "      <td>M</td>\n",
       "      <td>17.43</td>\n",
       "      <td>12988845</td>\n",
       "      <td>36.46</td>\n",
       "      <td>South</td>\n",
       "      <td>15.9129</td>\n",
       "      <td>79.740</td>\n",
       "    </tr>\n",
       "    <tr>\n",
       "      <th>...</th>\n",
       "      <td>...</td>\n",
       "      <td>...</td>\n",
       "      <td>...</td>\n",
       "      <td>...</td>\n",
       "      <td>...</td>\n",
       "      <td>...</td>\n",
       "      <td>...</td>\n",
       "      <td>...</td>\n",
       "      <td>...</td>\n",
       "    </tr>\n",
       "    <tr>\n",
       "      <th>262</th>\n",
       "      <td>West Bengal</td>\n",
       "      <td>30-06-2020</td>\n",
       "      <td>M</td>\n",
       "      <td>7.29</td>\n",
       "      <td>30726310</td>\n",
       "      <td>40.39</td>\n",
       "      <td>East</td>\n",
       "      <td>22.9868</td>\n",
       "      <td>87.855</td>\n",
       "    </tr>\n",
       "    <tr>\n",
       "      <th>263</th>\n",
       "      <td>West Bengal</td>\n",
       "      <td>31-07-2020</td>\n",
       "      <td>M</td>\n",
       "      <td>6.83</td>\n",
       "      <td>35372506</td>\n",
       "      <td>46.17</td>\n",
       "      <td>East</td>\n",
       "      <td>22.9868</td>\n",
       "      <td>87.855</td>\n",
       "    </tr>\n",
       "    <tr>\n",
       "      <th>264</th>\n",
       "      <td>West Bengal</td>\n",
       "      <td>31-08-2020</td>\n",
       "      <td>M</td>\n",
       "      <td>14.87</td>\n",
       "      <td>33298644</td>\n",
       "      <td>47.48</td>\n",
       "      <td>East</td>\n",
       "      <td>22.9868</td>\n",
       "      <td>87.855</td>\n",
       "    </tr>\n",
       "    <tr>\n",
       "      <th>265</th>\n",
       "      <td>West Bengal</td>\n",
       "      <td>30-09-2020</td>\n",
       "      <td>M</td>\n",
       "      <td>9.35</td>\n",
       "      <td>35707239</td>\n",
       "      <td>47.73</td>\n",
       "      <td>East</td>\n",
       "      <td>22.9868</td>\n",
       "      <td>87.855</td>\n",
       "    </tr>\n",
       "    <tr>\n",
       "      <th>266</th>\n",
       "      <td>West Bengal</td>\n",
       "      <td>31-10-2020</td>\n",
       "      <td>M</td>\n",
       "      <td>9.98</td>\n",
       "      <td>33962549</td>\n",
       "      <td>45.63</td>\n",
       "      <td>East</td>\n",
       "      <td>22.9868</td>\n",
       "      <td>87.855</td>\n",
       "    </tr>\n",
       "  </tbody>\n",
       "</table>\n",
       "<p>267 rows × 9 columns</p>\n",
       "</div>"
      ],
      "text/plain": [
       "             Region         Date  Frequency   Estimated Unemployment Rate (%)  \\\n",
       "0    Andhra Pradesh   31-01-2020          M                              5.48   \n",
       "1    Andhra Pradesh   29-02-2020          M                              5.83   \n",
       "2    Andhra Pradesh   31-03-2020          M                              5.79   \n",
       "3    Andhra Pradesh   30-04-2020          M                             20.51   \n",
       "4    Andhra Pradesh   31-05-2020          M                             17.43   \n",
       "..              ...          ...        ...                               ...   \n",
       "262     West Bengal   30-06-2020          M                              7.29   \n",
       "263     West Bengal   31-07-2020          M                              6.83   \n",
       "264     West Bengal   31-08-2020          M                             14.87   \n",
       "265     West Bengal   30-09-2020          M                              9.35   \n",
       "266     West Bengal   31-10-2020          M                              9.98   \n",
       "\n",
       "      Estimated Employed   Estimated Labour Participation Rate (%) Region.1  \\\n",
       "0               16635535                                     41.02    South   \n",
       "1               16545652                                     40.90    South   \n",
       "2               15881197                                     39.18    South   \n",
       "3               11336911                                     33.10    South   \n",
       "4               12988845                                     36.46    South   \n",
       "..                   ...                                       ...      ...   \n",
       "262             30726310                                     40.39     East   \n",
       "263             35372506                                     46.17     East   \n",
       "264             33298644                                     47.48     East   \n",
       "265             35707239                                     47.73     East   \n",
       "266             33962549                                     45.63     East   \n",
       "\n",
       "     longitude  latitude  \n",
       "0      15.9129    79.740  \n",
       "1      15.9129    79.740  \n",
       "2      15.9129    79.740  \n",
       "3      15.9129    79.740  \n",
       "4      15.9129    79.740  \n",
       "..         ...       ...  \n",
       "262    22.9868    87.855  \n",
       "263    22.9868    87.855  \n",
       "264    22.9868    87.855  \n",
       "265    22.9868    87.855  \n",
       "266    22.9868    87.855  \n",
       "\n",
       "[267 rows x 9 columns]"
      ]
     },
     "execution_count": 5,
     "metadata": {},
     "output_type": "execute_result"
    }
   ],
   "source": [
    "#Example:-\n",
    "d = pd.read_csv('Unemployment_Rate_upto_11_2020.csv')\n",
    "d"
   ]
  },
  {
   "cell_type": "markdown",
   "id": "8273b7ca-4278-41d8-ad06-48f8361d1405",
   "metadata": {},
   "source": [
    "3. The describe() method:- It returns description of the data in the DataFrame."
   ]
  },
  {
   "cell_type": "code",
   "execution_count": 6,
   "id": "2752cfaf-a616-438b-938d-57c7584e2df5",
   "metadata": {},
   "outputs": [
    {
     "data": {
      "text/html": [
       "<div>\n",
       "<style scoped>\n",
       "    .dataframe tbody tr th:only-of-type {\n",
       "        vertical-align: middle;\n",
       "    }\n",
       "\n",
       "    .dataframe tbody tr th {\n",
       "        vertical-align: top;\n",
       "    }\n",
       "\n",
       "    .dataframe thead th {\n",
       "        text-align: right;\n",
       "    }\n",
       "</style>\n",
       "<table border=\"1\" class=\"dataframe\">\n",
       "  <thead>\n",
       "    <tr style=\"text-align: right;\">\n",
       "      <th></th>\n",
       "      <th>Estimated Unemployment Rate (%)</th>\n",
       "      <th>Estimated Employed</th>\n",
       "      <th>Estimated Labour Participation Rate (%)</th>\n",
       "      <th>longitude</th>\n",
       "      <th>latitude</th>\n",
       "    </tr>\n",
       "  </thead>\n",
       "  <tbody>\n",
       "    <tr>\n",
       "      <th>count</th>\n",
       "      <td>267.000000</td>\n",
       "      <td>2.670000e+02</td>\n",
       "      <td>267.000000</td>\n",
       "      <td>267.000000</td>\n",
       "      <td>267.000000</td>\n",
       "    </tr>\n",
       "    <tr>\n",
       "      <th>mean</th>\n",
       "      <td>12.236929</td>\n",
       "      <td>1.396211e+07</td>\n",
       "      <td>41.681573</td>\n",
       "      <td>22.826048</td>\n",
       "      <td>80.532425</td>\n",
       "    </tr>\n",
       "    <tr>\n",
       "      <th>std</th>\n",
       "      <td>10.803283</td>\n",
       "      <td>1.336632e+07</td>\n",
       "      <td>7.845419</td>\n",
       "      <td>6.270731</td>\n",
       "      <td>5.831738</td>\n",
       "    </tr>\n",
       "    <tr>\n",
       "      <th>min</th>\n",
       "      <td>0.500000</td>\n",
       "      <td>1.175420e+05</td>\n",
       "      <td>16.770000</td>\n",
       "      <td>10.850500</td>\n",
       "      <td>71.192400</td>\n",
       "    </tr>\n",
       "    <tr>\n",
       "      <th>25%</th>\n",
       "      <td>4.845000</td>\n",
       "      <td>2.838930e+06</td>\n",
       "      <td>37.265000</td>\n",
       "      <td>18.112400</td>\n",
       "      <td>76.085600</td>\n",
       "    </tr>\n",
       "    <tr>\n",
       "      <th>50%</th>\n",
       "      <td>9.650000</td>\n",
       "      <td>9.732417e+06</td>\n",
       "      <td>40.390000</td>\n",
       "      <td>23.610200</td>\n",
       "      <td>79.019300</td>\n",
       "    </tr>\n",
       "    <tr>\n",
       "      <th>75%</th>\n",
       "      <td>16.755000</td>\n",
       "      <td>2.187869e+07</td>\n",
       "      <td>44.055000</td>\n",
       "      <td>27.278400</td>\n",
       "      <td>85.279900</td>\n",
       "    </tr>\n",
       "    <tr>\n",
       "      <th>max</th>\n",
       "      <td>75.850000</td>\n",
       "      <td>5.943376e+07</td>\n",
       "      <td>69.690000</td>\n",
       "      <td>33.778200</td>\n",
       "      <td>92.937600</td>\n",
       "    </tr>\n",
       "  </tbody>\n",
       "</table>\n",
       "</div>"
      ],
      "text/plain": [
       "        Estimated Unemployment Rate (%)   Estimated Employed  \\\n",
       "count                        267.000000         2.670000e+02   \n",
       "mean                          12.236929         1.396211e+07   \n",
       "std                           10.803283         1.336632e+07   \n",
       "min                            0.500000         1.175420e+05   \n",
       "25%                            4.845000         2.838930e+06   \n",
       "50%                            9.650000         9.732417e+06   \n",
       "75%                           16.755000         2.187869e+07   \n",
       "max                           75.850000         5.943376e+07   \n",
       "\n",
       "        Estimated Labour Participation Rate (%)   longitude    latitude  \n",
       "count                                267.000000  267.000000  267.000000  \n",
       "mean                                  41.681573   22.826048   80.532425  \n",
       "std                                    7.845419    6.270731    5.831738  \n",
       "min                                   16.770000   10.850500   71.192400  \n",
       "25%                                   37.265000   18.112400   76.085600  \n",
       "50%                                   40.390000   23.610200   79.019300  \n",
       "75%                                   44.055000   27.278400   85.279900  \n",
       "max                                   69.690000   33.778200   92.937600  "
      ]
     },
     "execution_count": 6,
     "metadata": {},
     "output_type": "execute_result"
    }
   ],
   "source": [
    "#Example:-\n",
    "d.describe()"
   ]
  },
  {
   "cell_type": "markdown",
   "id": "b592dd90-2915-45d8-a10f-c8917600adb6",
   "metadata": {},
   "source": [
    "4. The duplicated() method:- It returns a Boolean values for each row whether it contain value or not."
   ]
  },
  {
   "cell_type": "code",
   "execution_count": 7,
   "id": "1dee457f-c289-4254-a5c7-00439cf75224",
   "metadata": {},
   "outputs": [
    {
     "data": {
      "text/plain": [
       "0      False\n",
       "1      False\n",
       "2      False\n",
       "3      False\n",
       "4      False\n",
       "       ...  \n",
       "262    False\n",
       "263    False\n",
       "264    False\n",
       "265    False\n",
       "266    False\n",
       "Length: 267, dtype: bool"
      ]
     },
     "execution_count": 7,
     "metadata": {},
     "output_type": "execute_result"
    }
   ],
   "source": [
    "#Example:-\n",
    "d.duplicated()"
   ]
  },
  {
   "cell_type": "markdown",
   "id": "74cb30f6-a54e-4f7e-86fd-9b4dcfaebd7d",
   "metadata": {},
   "source": [
    "5. The isnull() method:- It returns a DataFrame object where all the values are replaced with a Boolean value True for NULL values, and otherwise False."
   ]
  },
  {
   "cell_type": "code",
   "execution_count": 8,
   "id": "8216ee09-e380-471d-9793-0ebff07280d2",
   "metadata": {},
   "outputs": [
    {
     "data": {
      "text/html": [
       "<div>\n",
       "<style scoped>\n",
       "    .dataframe tbody tr th:only-of-type {\n",
       "        vertical-align: middle;\n",
       "    }\n",
       "\n",
       "    .dataframe tbody tr th {\n",
       "        vertical-align: top;\n",
       "    }\n",
       "\n",
       "    .dataframe thead th {\n",
       "        text-align: right;\n",
       "    }\n",
       "</style>\n",
       "<table border=\"1\" class=\"dataframe\">\n",
       "  <thead>\n",
       "    <tr style=\"text-align: right;\">\n",
       "      <th></th>\n",
       "      <th>Region</th>\n",
       "      <th>Date</th>\n",
       "      <th>Frequency</th>\n",
       "      <th>Estimated Unemployment Rate (%)</th>\n",
       "      <th>Estimated Employed</th>\n",
       "      <th>Estimated Labour Participation Rate (%)</th>\n",
       "      <th>Region.1</th>\n",
       "      <th>longitude</th>\n",
       "      <th>latitude</th>\n",
       "    </tr>\n",
       "  </thead>\n",
       "  <tbody>\n",
       "    <tr>\n",
       "      <th>0</th>\n",
       "      <td>False</td>\n",
       "      <td>False</td>\n",
       "      <td>False</td>\n",
       "      <td>False</td>\n",
       "      <td>False</td>\n",
       "      <td>False</td>\n",
       "      <td>False</td>\n",
       "      <td>False</td>\n",
       "      <td>False</td>\n",
       "    </tr>\n",
       "    <tr>\n",
       "      <th>1</th>\n",
       "      <td>False</td>\n",
       "      <td>False</td>\n",
       "      <td>False</td>\n",
       "      <td>False</td>\n",
       "      <td>False</td>\n",
       "      <td>False</td>\n",
       "      <td>False</td>\n",
       "      <td>False</td>\n",
       "      <td>False</td>\n",
       "    </tr>\n",
       "    <tr>\n",
       "      <th>2</th>\n",
       "      <td>False</td>\n",
       "      <td>False</td>\n",
       "      <td>False</td>\n",
       "      <td>False</td>\n",
       "      <td>False</td>\n",
       "      <td>False</td>\n",
       "      <td>False</td>\n",
       "      <td>False</td>\n",
       "      <td>False</td>\n",
       "    </tr>\n",
       "    <tr>\n",
       "      <th>3</th>\n",
       "      <td>False</td>\n",
       "      <td>False</td>\n",
       "      <td>False</td>\n",
       "      <td>False</td>\n",
       "      <td>False</td>\n",
       "      <td>False</td>\n",
       "      <td>False</td>\n",
       "      <td>False</td>\n",
       "      <td>False</td>\n",
       "    </tr>\n",
       "    <tr>\n",
       "      <th>4</th>\n",
       "      <td>False</td>\n",
       "      <td>False</td>\n",
       "      <td>False</td>\n",
       "      <td>False</td>\n",
       "      <td>False</td>\n",
       "      <td>False</td>\n",
       "      <td>False</td>\n",
       "      <td>False</td>\n",
       "      <td>False</td>\n",
       "    </tr>\n",
       "    <tr>\n",
       "      <th>...</th>\n",
       "      <td>...</td>\n",
       "      <td>...</td>\n",
       "      <td>...</td>\n",
       "      <td>...</td>\n",
       "      <td>...</td>\n",
       "      <td>...</td>\n",
       "      <td>...</td>\n",
       "      <td>...</td>\n",
       "      <td>...</td>\n",
       "    </tr>\n",
       "    <tr>\n",
       "      <th>262</th>\n",
       "      <td>False</td>\n",
       "      <td>False</td>\n",
       "      <td>False</td>\n",
       "      <td>False</td>\n",
       "      <td>False</td>\n",
       "      <td>False</td>\n",
       "      <td>False</td>\n",
       "      <td>False</td>\n",
       "      <td>False</td>\n",
       "    </tr>\n",
       "    <tr>\n",
       "      <th>263</th>\n",
       "      <td>False</td>\n",
       "      <td>False</td>\n",
       "      <td>False</td>\n",
       "      <td>False</td>\n",
       "      <td>False</td>\n",
       "      <td>False</td>\n",
       "      <td>False</td>\n",
       "      <td>False</td>\n",
       "      <td>False</td>\n",
       "    </tr>\n",
       "    <tr>\n",
       "      <th>264</th>\n",
       "      <td>False</td>\n",
       "      <td>False</td>\n",
       "      <td>False</td>\n",
       "      <td>False</td>\n",
       "      <td>False</td>\n",
       "      <td>False</td>\n",
       "      <td>False</td>\n",
       "      <td>False</td>\n",
       "      <td>False</td>\n",
       "    </tr>\n",
       "    <tr>\n",
       "      <th>265</th>\n",
       "      <td>False</td>\n",
       "      <td>False</td>\n",
       "      <td>False</td>\n",
       "      <td>False</td>\n",
       "      <td>False</td>\n",
       "      <td>False</td>\n",
       "      <td>False</td>\n",
       "      <td>False</td>\n",
       "      <td>False</td>\n",
       "    </tr>\n",
       "    <tr>\n",
       "      <th>266</th>\n",
       "      <td>False</td>\n",
       "      <td>False</td>\n",
       "      <td>False</td>\n",
       "      <td>False</td>\n",
       "      <td>False</td>\n",
       "      <td>False</td>\n",
       "      <td>False</td>\n",
       "      <td>False</td>\n",
       "      <td>False</td>\n",
       "    </tr>\n",
       "  </tbody>\n",
       "</table>\n",
       "<p>267 rows × 9 columns</p>\n",
       "</div>"
      ],
      "text/plain": [
       "     Region   Date   Frequency   Estimated Unemployment Rate (%)  \\\n",
       "0     False  False       False                             False   \n",
       "1     False  False       False                             False   \n",
       "2     False  False       False                             False   \n",
       "3     False  False       False                             False   \n",
       "4     False  False       False                             False   \n",
       "..      ...    ...         ...                               ...   \n",
       "262   False  False       False                             False   \n",
       "263   False  False       False                             False   \n",
       "264   False  False       False                             False   \n",
       "265   False  False       False                             False   \n",
       "266   False  False       False                             False   \n",
       "\n",
       "      Estimated Employed   Estimated Labour Participation Rate (%)  Region.1  \\\n",
       "0                  False                                     False     False   \n",
       "1                  False                                     False     False   \n",
       "2                  False                                     False     False   \n",
       "3                  False                                     False     False   \n",
       "4                  False                                     False     False   \n",
       "..                   ...                                       ...       ...   \n",
       "262                False                                     False     False   \n",
       "263                False                                     False     False   \n",
       "264                False                                     False     False   \n",
       "265                False                                     False     False   \n",
       "266                False                                     False     False   \n",
       "\n",
       "     longitude  latitude  \n",
       "0        False     False  \n",
       "1        False     False  \n",
       "2        False     False  \n",
       "3        False     False  \n",
       "4        False     False  \n",
       "..         ...       ...  \n",
       "262      False     False  \n",
       "263      False     False  \n",
       "264      False     False  \n",
       "265      False     False  \n",
       "266      False     False  \n",
       "\n",
       "[267 rows x 9 columns]"
      ]
     },
     "execution_count": 8,
     "metadata": {},
     "output_type": "execute_result"
    }
   ],
   "source": [
    "#Example:-\n",
    "d.isnull()"
   ]
  },
  {
   "cell_type": "markdown",
   "id": "2fcba492-784d-461a-9351-6d1a4c6844ac",
   "metadata": {},
   "source": [
    "Q2. Given a Pandas DataFrame df with columns 'A', 'B', and 'C', write a Python function to re-index the \n",
    "DataFrame with a new index that starts from 1 and increments by 2 for each row."
   ]
  },
  {
   "cell_type": "code",
   "execution_count": 9,
   "id": "ba7b362c-ac36-4ca0-aff2-a92325f93533",
   "metadata": {},
   "outputs": [],
   "source": [
    "data = {\n",
    "    'A' : ['Prateek', 'Prashika', 'Anshika'],\n",
    "    'B': [29, 8, 28],\n",
    "    'C': ['Data Science Masters', 'Machine Learning Specialist', 'Artificial Intelligence Expert']\n",
    "}\n",
    "df = pd.DataFrame(data)"
   ]
  },
  {
   "cell_type": "code",
   "execution_count": 10,
   "id": "bd12156e-720f-407a-81fe-4040d61895e9",
   "metadata": {},
   "outputs": [
    {
     "data": {
      "text/html": [
       "<div>\n",
       "<style scoped>\n",
       "    .dataframe tbody tr th:only-of-type {\n",
       "        vertical-align: middle;\n",
       "    }\n",
       "\n",
       "    .dataframe tbody tr th {\n",
       "        vertical-align: top;\n",
       "    }\n",
       "\n",
       "    .dataframe thead th {\n",
       "        text-align: right;\n",
       "    }\n",
       "</style>\n",
       "<table border=\"1\" class=\"dataframe\">\n",
       "  <thead>\n",
       "    <tr style=\"text-align: right;\">\n",
       "      <th></th>\n",
       "      <th>A</th>\n",
       "      <th>B</th>\n",
       "      <th>C</th>\n",
       "    </tr>\n",
       "  </thead>\n",
       "  <tbody>\n",
       "    <tr>\n",
       "      <th>1</th>\n",
       "      <td>Prashika</td>\n",
       "      <td>8.0</td>\n",
       "      <td>Machine Learning Specialist</td>\n",
       "    </tr>\n",
       "    <tr>\n",
       "      <th>2</th>\n",
       "      <td>Anshika</td>\n",
       "      <td>28.0</td>\n",
       "      <td>Artificial Intelligence Expert</td>\n",
       "    </tr>\n",
       "    <tr>\n",
       "      <th>3</th>\n",
       "      <td>NaN</td>\n",
       "      <td>NaN</td>\n",
       "      <td>NaN</td>\n",
       "    </tr>\n",
       "  </tbody>\n",
       "</table>\n",
       "</div>"
      ],
      "text/plain": [
       "          A     B                               C\n",
       "1  Prashika   8.0     Machine Learning Specialist\n",
       "2   Anshika  28.0  Artificial Intelligence Expert\n",
       "3       NaN   NaN                             NaN"
      ]
     },
     "execution_count": 10,
     "metadata": {},
     "output_type": "execute_result"
    }
   ],
   "source": [
    "df.reindex([1,2,3])"
   ]
  },
  {
   "cell_type": "markdown",
   "id": "eb5c795c-0557-44f7-b6b6-f789f8c1137a",
   "metadata": {},
   "source": [
    "Q3. You have a Pandas DataFrame df with a column named 'Values'. Write a Python function that \n",
    "iterates over the DataFrame and calculates the sum of the first three values in the 'Values' column. The \n",
    "function should print the sum to the console.\n",
    "\n",
    "    \n",
    " For example, if the 'Values' column of df contains the values [10, 20, 30, 40, 50], your function should \n",
    "calculate and print the sum of the first three values, which is 60."
   ]
  },
  {
   "cell_type": "code",
   "execution_count": 11,
   "id": "d5b2b4c5-6287-42ec-9f68-595d53484fd0",
   "metadata": {},
   "outputs": [],
   "source": [
    "def sum_series(df):\n",
    "    sum = df.iloc[:3].sum()\n",
    "    return sum"
   ]
  },
  {
   "cell_type": "code",
   "execution_count": 12,
   "id": "0451998d-783e-49f7-8f60-164e7fdafced",
   "metadata": {},
   "outputs": [
    {
     "name": "stdout",
     "output_type": "stream",
     "text": [
      "Values    60\n",
      "dtype: int64\n"
     ]
    }
   ],
   "source": [
    "data = {'Values' : [10, 20, 30, 40 ,50]}\n",
    "df = pd.DataFrame(data)\n",
    "print(sum_series(df))"
   ]
  },
  {
   "cell_type": "markdown",
   "id": "c280fb8d-a4b0-428b-a6f8-391e2f653bbb",
   "metadata": {},
   "source": [
    "Q4. Given a Pandas DataFrame df with a column 'Text', write a Python function to create a new column \r\n",
    "'Word_Count' that contains the number of words in each row of the 'Text' column."
   ]
  },
  {
   "cell_type": "code",
   "execution_count": 13,
   "id": "69b6cc19-f4fd-4cf8-84f2-4cb2de32a962",
   "metadata": {},
   "outputs": [],
   "source": [
    "def count_words(df):\n",
    "    c = len(df)\n",
    "    return c"
   ]
  },
  {
   "cell_type": "code",
   "execution_count": 14,
   "id": "04297cba-dcc7-4ad3-92f1-a54dd75b3693",
   "metadata": {},
   "outputs": [
    {
     "name": "stdout",
     "output_type": "stream",
     "text": [
      "10\n"
     ]
    }
   ],
   "source": [
    "data = {'Text' : ['My', 'name', 'is', 'Prateek', 'Singh', 'I', 'am', 'a', 'Data', 'Scientist']}\n",
    "df = pd.DataFrame(data)\n",
    "print(count_words(df))"
   ]
  },
  {
   "cell_type": "markdown",
   "id": "9f667cd6-b173-4d86-9a94-deebc0644ab2",
   "metadata": {},
   "source": [
    " Q5. How are DataFrame.size() and DataFrame.shape() different?"
   ]
  },
  {
   "cell_type": "markdown",
   "id": "27273bde-5d20-438c-9804-5d2a36ffae8b",
   "metadata": {},
   "source": [
    "Ans. DataFrame.size:- it is used to return number_row*number_column"
   ]
  },
  {
   "cell_type": "code",
   "execution_count": 15,
   "id": "94894561-f7f3-49e9-8f01-432bdb6a4743",
   "metadata": {},
   "outputs": [
    {
     "data": {
      "text/plain": [
       "9"
      ]
     },
     "execution_count": 15,
     "metadata": {},
     "output_type": "execute_result"
    }
   ],
   "source": [
    "#Example:-\n",
    "data = {\n",
    "    'A' : ['Prateek', 'Prashika', 'Anshika'],\n",
    "    'B': [29, 8, 28],\n",
    "    'C': ['Data Science Masters', 'Machine Learning Specialist', 'Artificial Intelligence Expert']\n",
    "}\n",
    "df1 = pd.DataFrame(data)\n",
    "df1.size"
   ]
  },
  {
   "cell_type": "markdown",
   "id": "4b30c009-4947-4b5c-a87f-6dfb077e9fdf",
   "metadata": {},
   "source": [
    "DataFrame.shape:- it is used to return number_row,number_column"
   ]
  },
  {
   "cell_type": "code",
   "execution_count": 16,
   "id": "950f3784-d4e2-47f0-8ff7-314e458f2014",
   "metadata": {},
   "outputs": [
    {
     "data": {
      "text/plain": [
       "(3, 3)"
      ]
     },
     "execution_count": 16,
     "metadata": {},
     "output_type": "execute_result"
    }
   ],
   "source": [
    "#Example:-\n",
    "data = {\n",
    "    'A' : ['Prateek', 'Prashika', 'Anshika'],\n",
    "    'B': [29, 8, 28],\n",
    "    'C': ['Data Science Masters', 'Machine Learning Specialist', 'Artificial Intelligence Expert']\n",
    "}\n",
    "df = pd.DataFrame(data)\n",
    "df1.shape"
   ]
  },
  {
   "cell_type": "markdown",
   "id": "d4a49c3c-1f96-4094-8afc-41d2528a1b17",
   "metadata": {},
   "source": [
    "Q6. Which function of pandas do we use to read an excel file?"
   ]
  },
  {
   "cell_type": "markdown",
   "id": "6423ffe0-3316-498e-a9a0-c94d546a61c8",
   "metadata": {},
   "source": [
    "Ans. read_excel(). This function takes the file path or URL as input and returns a DataFrame, which is a two-dimensional data structure in pandas used to store and manipulate tabular data."
   ]
  },
  {
   "cell_type": "code",
   "execution_count": 17,
   "id": "c3c0da5b-3664-4e3e-bb5b-1bfe8cc27eb9",
   "metadata": {},
   "outputs": [
    {
     "data": {
      "text/html": [
       "<div>\n",
       "<style scoped>\n",
       "    .dataframe tbody tr th:only-of-type {\n",
       "        vertical-align: middle;\n",
       "    }\n",
       "\n",
       "    .dataframe tbody tr th {\n",
       "        vertical-align: top;\n",
       "    }\n",
       "\n",
       "    .dataframe thead th {\n",
       "        text-align: right;\n",
       "    }\n",
       "</style>\n",
       "<table border=\"1\" class=\"dataframe\">\n",
       "  <thead>\n",
       "    <tr style=\"text-align: right;\">\n",
       "      <th></th>\n",
       "      <th>Unnamed: 0</th>\n",
       "      <th>Unnamed: 1</th>\n",
       "      <th>Unnamed: 2</th>\n",
       "      <th>Unnamed: 3</th>\n",
       "      <th>Unnamed: 4</th>\n",
       "      <th>Unnamed: 5</th>\n",
       "      <th>Unnamed: 6</th>\n",
       "      <th>Unnamed: 7</th>\n",
       "      <th>Unnamed: 8</th>\n",
       "      <th>Unnamed: 9</th>\n",
       "    </tr>\n",
       "  </thead>\n",
       "  <tbody>\n",
       "    <tr>\n",
       "      <th>0</th>\n",
       "      <td>NaN</td>\n",
       "      <td>NaN</td>\n",
       "      <td>NaN</td>\n",
       "      <td>NaN</td>\n",
       "      <td>NaN</td>\n",
       "      <td>NaN</td>\n",
       "      <td>NaN</td>\n",
       "      <td>NaN</td>\n",
       "      <td>NaN</td>\n",
       "      <td>NaN</td>\n",
       "    </tr>\n",
       "    <tr>\n",
       "      <th>1</th>\n",
       "      <td>NaN</td>\n",
       "      <td>NaN</td>\n",
       "      <td>NaN</td>\n",
       "      <td>Datetimes in LUSID</td>\n",
       "      <td>NaN</td>\n",
       "      <td>NaN</td>\n",
       "      <td>NaN</td>\n",
       "      <td>NaN</td>\n",
       "      <td>NaN</td>\n",
       "      <td>NaN</td>\n",
       "    </tr>\n",
       "    <tr>\n",
       "      <th>2</th>\n",
       "      <td>NaN</td>\n",
       "      <td>NaN</td>\n",
       "      <td>NaN</td>\n",
       "      <td>NaN</td>\n",
       "      <td>NaN</td>\n",
       "      <td>NaN</td>\n",
       "      <td>NaN</td>\n",
       "      <td>NaN</td>\n",
       "      <td>NaN</td>\n",
       "      <td>NaN</td>\n",
       "    </tr>\n",
       "    <tr>\n",
       "      <th>3</th>\n",
       "      <td>NaN</td>\n",
       "      <td>NaN</td>\n",
       "      <td>NaN</td>\n",
       "      <td>This sheet allows you to format datetimes for...</td>\n",
       "      <td>NaN</td>\n",
       "      <td>NaN</td>\n",
       "      <td>NaN</td>\n",
       "      <td>NaN</td>\n",
       "      <td>NaN</td>\n",
       "      <td>NaN</td>\n",
       "    </tr>\n",
       "    <tr>\n",
       "      <th>4</th>\n",
       "      <td>NaN</td>\n",
       "      <td>NaN</td>\n",
       "      <td>NaN</td>\n",
       "      <td>If you have any questions please visit our:</td>\n",
       "      <td>NaN</td>\n",
       "      <td>NaN</td>\n",
       "      <td>NaN</td>\n",
       "      <td>NaN</td>\n",
       "      <td>NaN</td>\n",
       "      <td>NaN</td>\n",
       "    </tr>\n",
       "  </tbody>\n",
       "</table>\n",
       "</div>"
      ],
      "text/plain": [
       "   Unnamed: 0  Unnamed: 1  Unnamed: 2  \\\n",
       "0         NaN         NaN         NaN   \n",
       "1         NaN         NaN         NaN   \n",
       "2         NaN         NaN         NaN   \n",
       "3         NaN         NaN         NaN   \n",
       "4         NaN         NaN         NaN   \n",
       "\n",
       "                                          Unnamed: 3 Unnamed: 4 Unnamed: 5  \\\n",
       "0                                                NaN        NaN        NaN   \n",
       "1                                 Datetimes in LUSID        NaN        NaN   \n",
       "2                                                NaN        NaN        NaN   \n",
       "3   This sheet allows you to format datetimes for...        NaN        NaN   \n",
       "4        If you have any questions please visit our:        NaN        NaN   \n",
       "\n",
       "   Unnamed: 6 Unnamed: 7 Unnamed: 8 Unnamed: 9  \n",
       "0         NaN        NaN        NaN        NaN  \n",
       "1         NaN        NaN        NaN        NaN  \n",
       "2         NaN        NaN        NaN        NaN  \n",
       "3         NaN        NaN        NaN        NaN  \n",
       "4         NaN        NaN        NaN        NaN  "
      ]
     },
     "execution_count": 17,
     "metadata": {},
     "output_type": "execute_result"
    }
   ],
   "source": [
    "#Example:-\n",
    "d = pd.read_excel('LUSID Excel - Setting up your market data.xlsx')\n",
    "d.head()"
   ]
  },
  {
   "cell_type": "markdown",
   "id": "e742c3e4-3ac9-4679-aa2c-6bcd4d5cbd1b",
   "metadata": {},
   "source": [
    " Q7. You have a Pandas DataFrame df that contains a column named 'Email' that contains email \n",
    "addresses in the format 'username@domain.com'. Write a Python function that creates a new column \n",
    "'Username' in df that contains only the username part of each email address.\n",
    "\n",
    "The username is the part of the email address that appears before the '@' symbol. For example, if the \r\n",
    "email address is 'john.doe@example.com', the 'Username' column should contain 'john.doe'. Your \r\n",
    "function should extract the username from each email address and store it in the new 'Username' \r\n",
    "column."
   ]
  },
  {
   "cell_type": "code",
   "execution_count": 24,
   "id": "1454b1f4-a4c2-4ab2-a98d-5a744ffdb734",
   "metadata": {},
   "outputs": [],
   "source": [
    "def create_username(df):\n",
    "    df[['Username','Domains']] = df['Email'].str.split('@', expand = True)\n",
    "    df.drop(df.columns[2], axis = 1, inplace = True)\n",
    "    return df"
   ]
  },
  {
   "cell_type": "code",
   "execution_count": 25,
   "id": "c65bc823-9aaf-4c1f-9299-e06827477b18",
   "metadata": {},
   "outputs": [
    {
     "name": "stdout",
     "output_type": "stream",
     "text": [
      "                        Email          Username\n",
      "0  prateeksingh0809@gmail.com  prateeksingh0809\n",
      "1       prateek2975@gmail.com       prateek2975\n",
      "2  silentknight0809@gmail.com  silentknight0809\n"
     ]
    }
   ],
   "source": [
    "data = {'Email' : ['prateeksingh0809@gmail.com', 'prateek2975@gmail.com', 'silentknight0809@gmail.com']}\n",
    "df = pd.DataFrame(data)\n",
    "print(create_username(df))"
   ]
  },
  {
   "cell_type": "markdown",
   "id": "2097aaf2-93dd-44b1-a44e-17f35f8fe5e3",
   "metadata": {},
   "source": [
    " Q8. You have a Pandas DataFrame df with columns 'A', 'B', and 'C'. Write a Python function that selects \n",
    "all rows where the value in column 'A' is greater than 5 and the value in column 'B' is less than 10. The \n",
    "function should return a new DataFrame that contains only the selected rows.\n",
    " For example, if df contains the following values:\n",
    " \n",
    " A   B   C\n",
    " \n",
    " 0  3   5   1\n",
    " \n",
    " 1  8   2   7\n",
    " \n",
    " 2  6   9   4\n",
    " \n",
    " 3  2   3   5\n",
    " \n",
    " 4  9   1   2\n",
    "\n",
    "  Your function should select the following rows:   A   B   C\n",
    "  \r\n",
    " 1  8   2   7\r\n",
    " \n",
    " 4  9   1   2\n",
    " \r\n",
    " The function should return a new DataFrame that contains only the selected rows."
   ]
  },
  {
   "cell_type": "code",
   "execution_count": 29,
   "id": "41a929ad-6a18-4a79-91a6-4e73a42d43e6",
   "metadata": {},
   "outputs": [],
   "source": [
    "def create_dataframe(df):\n",
    "    new_df = df[(df['A'] > 5) & (df['B'] < 10)]\n",
    "    return new_df"
   ]
  },
  {
   "cell_type": "code",
   "execution_count": 30,
   "id": "99f47699-1ce3-465b-a973-fd687a265a3e",
   "metadata": {},
   "outputs": [
    {
     "name": "stdout",
     "output_type": "stream",
     "text": [
      "   A  B  C\n",
      "1  8  2  7\n",
      "2  6  9  4\n",
      "4  9  1  2\n"
     ]
    }
   ],
   "source": [
    "data = [[ 3, 5, 1],[8, 2, 7],[6, 9, 4],[2, 3, 5],[9, 1, 2]]\n",
    "df = pd.DataFrame(data, columns = ['A', 'B', 'C'])\n",
    "print(create_dataframe(df))"
   ]
  },
  {
   "cell_type": "markdown",
   "id": "155e8de4-aa1f-4a7c-8525-2572bb37f23d",
   "metadata": {},
   "source": [
    "Q9. Given a Pandas DataFrame df with a column 'Values', write a Python function to calculate the mean, \n",
    "median, and standard deviation of the values in the 'Values' column."
   ]
  },
  {
   "cell_type": "code",
   "execution_count": 32,
   "id": "4d98ae13-ba35-4b68-a1f6-47db93db120e",
   "metadata": {},
   "outputs": [],
   "source": [
    "def stats(df):\n",
    "    mean = df['Values'].mean()\n",
    "    median = df['Values'].median()\n",
    "    std = df['Values'].std()\n",
    "    return mean, median, std"
   ]
  },
  {
   "cell_type": "code",
   "execution_count": 35,
   "id": "9cb84a59-422a-4d36-8966-dc0a3730d897",
   "metadata": {},
   "outputs": [
    {
     "name": "stdout",
     "output_type": "stream",
     "text": [
      "(5.5, 5.5, 2.449489742783178)\n"
     ]
    }
   ],
   "source": [
    "data = {'Values' : [2,3,4,5,6,7,8,9]}\n",
    "df = pd.DataFrame(data)\n",
    "print(stats(df))"
   ]
  },
  {
   "cell_type": "markdown",
   "id": "a180c93f-a4d2-4504-a026-b6e4d0dfbf67",
   "metadata": {},
   "source": [
    " Q10. Given a Pandas DataFrame df with a column 'Sales' and a column 'Date', write a Python function to \n",
    "create a new column 'MovingAverage' that contains the moving average of the sales for the past 7 days \n",
    "for each row in the DataFrame. The moving average should be calculated using a window of size 7 and \n",
    "should include the current day."
   ]
  },
  {
   "cell_type": "code",
   "execution_count": 44,
   "id": "99cec96e-1457-4e7f-8ae7-767d4556dbfd",
   "metadata": {},
   "outputs": [],
   "source": [
    "def average(df):\n",
    "    df['Moving Average'] = df['Sales'].rolling(window = 7).mean().round(2)\n",
    "    return df"
   ]
  },
  {
   "cell_type": "code",
   "execution_count": 45,
   "id": "3e47e063-5663-4137-b95b-27d8cb7724bd",
   "metadata": {},
   "outputs": [],
   "source": [
    "import numpy as np"
   ]
  },
  {
   "cell_type": "code",
   "execution_count": 49,
   "id": "70a3806f-c2ab-441d-a719-6ffbf1c917cb",
   "metadata": {},
   "outputs": [
    {
     "name": "stdout",
     "output_type": "stream",
     "text": [
      "         Date  Sales  Moving Average\n",
      "0  2024-03-25    353             NaN\n",
      "1  2024-03-26    930             NaN\n",
      "2  2024-03-27    239             NaN\n",
      "3  2024-03-28    756             NaN\n",
      "4  2024-03-29    641             NaN\n",
      "5  2024-03-30    313             NaN\n",
      "6  2024-03-31    673          557.86\n",
      "7  2024-04-01    906          636.86\n",
      "8  2024-04-02    791          617.00\n",
      "9  2024-04-03    884          709.14\n",
      "10 2024-04-04    122          618.57\n",
      "11 2024-04-05    661          621.43\n",
      "12 2024-04-06    476          644.71\n",
      "13 2024-04-07    383          603.29\n",
      "14 2024-04-08    958          610.71\n",
      "15 2024-04-09    787          610.14\n",
      "16 2024-04-10    604          570.14\n",
      "17 2024-04-11    765          662.00\n",
      "18 2024-04-12    811          683.43\n",
      "19 2024-04-13    320          661.14\n",
      "20 2024-04-14    989          747.71\n",
      "21 2024-04-15    510          683.71\n",
      "22 2024-04-16    216          602.14\n",
      "23 2024-04-17    721          618.86\n",
      "24 2024-04-18    925          641.71\n",
      "25 2024-04-19    426          586.71\n",
      "26 2024-04-20    720          643.86\n",
      "27 2024-04-21    841          622.71\n",
      "28 2024-04-22    844          670.43\n",
      "29 2024-04-23    976          779.00\n",
      "30 2024-04-24    844          796.57\n",
      "31 2024-04-25    921          796.00\n",
      "32 2024-04-26    415          794.43\n",
      "33 2024-04-27    424          752.14\n"
     ]
    }
   ],
   "source": [
    "df = pd.DataFrame(pd.date_range(start = '2024-03-25', end = '2024-04-27'), columns = ['Date'])\n",
    "df['Sales'] = np.random.randint(100, 1000, size = (34))\n",
    "print(average(df))"
   ]
  },
  {
   "cell_type": "markdown",
   "id": "a8000144-3def-4ea1-ba37-1cf53ed62ffa",
   "metadata": {},
   "source": [
    "Q11. You have a Pandas DataFrame df with a column 'Date'. Write a Python function that creates a new \n",
    "column 'Weekday' in the DataFrame. The 'Weekday' column should contain the weekday name (e.g. \n",
    "Monday, Tuesday) corresponding to each date in the 'Date' column.\n",
    "\n",
    " For example, if df contains the following values:\n",
    "\n",
    " Date\n",
    " \n",
    " 0  2023-01-01\n",
    " \n",
    " 1  2023-01-02\n",
    " \n",
    " 2  2023-01-03\n",
    " \n",
    " 3  2023-01-04\n",
    " \n",
    " 4  2023-01-05\n",
    " \n",
    " Your function should create the following DataFrame:\n",
    " \n",
    " Date             Weekday\n",
    " \n",
    " 0  2023-01-01     Sunday\n",
    " \n",
    " 1  2023-01-02     Monday\n",
    " \n",
    " 2  2023-01-03    Tuesday\n",
    " \n",
    " 3  2023-01-04    Wednesday\n",
    " \n",
    " 4  2023-01-05    Thursday\n",
    " \n",
    " Data Science Masters\n",
    " \n",
    " The function should return the modified DataFrame."
   ]
  },
  {
   "cell_type": "code",
   "execution_count": 50,
   "id": "3527ab73-fda6-4800-9f3f-03be12494b93",
   "metadata": {},
   "outputs": [],
   "source": [
    "def weekday_name(df):\n",
    "    df['Weekday'] = df['Date'].dt.day_name()\n",
    "    return df"
   ]
  },
  {
   "cell_type": "code",
   "execution_count": 51,
   "id": "4b272656-d7e3-483d-85e9-5270b6fffa68",
   "metadata": {},
   "outputs": [
    {
     "name": "stdout",
     "output_type": "stream",
     "text": [
      "         Date    Weekday\n",
      "0  2024-03-25     Monday\n",
      "1  2024-03-26    Tuesday\n",
      "2  2024-03-27  Wednesday\n",
      "3  2024-03-28   Thursday\n",
      "4  2024-03-29     Friday\n",
      "5  2024-03-30   Saturday\n",
      "6  2024-03-31     Sunday\n",
      "7  2024-04-01     Monday\n",
      "8  2024-04-02    Tuesday\n",
      "9  2024-04-03  Wednesday\n",
      "10 2024-04-04   Thursday\n",
      "11 2024-04-05     Friday\n",
      "12 2024-04-06   Saturday\n",
      "13 2024-04-07     Sunday\n",
      "14 2024-04-08     Monday\n",
      "15 2024-04-09    Tuesday\n",
      "16 2024-04-10  Wednesday\n",
      "17 2024-04-11   Thursday\n",
      "18 2024-04-12     Friday\n",
      "19 2024-04-13   Saturday\n",
      "20 2024-04-14     Sunday\n",
      "21 2024-04-15     Monday\n",
      "22 2024-04-16    Tuesday\n",
      "23 2024-04-17  Wednesday\n",
      "24 2024-04-18   Thursday\n",
      "25 2024-04-19     Friday\n",
      "26 2024-04-20   Saturday\n",
      "27 2024-04-21     Sunday\n",
      "28 2024-04-22     Monday\n",
      "29 2024-04-23    Tuesday\n",
      "30 2024-04-24  Wednesday\n",
      "31 2024-04-25   Thursday\n",
      "32 2024-04-26     Friday\n",
      "33 2024-04-27   Saturday\n"
     ]
    }
   ],
   "source": [
    "df = pd.DataFrame(pd.date_range(start = '2024-03-25', end = '2024-04-27'), columns = ['Date'])\n",
    "print(weekday_name(df))"
   ]
  },
  {
   "cell_type": "markdown",
   "id": "c9515c5c-f3ce-4121-80e3-0fe37f913b7e",
   "metadata": {},
   "source": [
    " Q12. Given a Pandas DataFrame df with a column 'Date' that contains timestamps, write a Python \n",
    "function to select all rows where the date is between '2023-01-01' and '2023-01-31'."
   ]
  },
  {
   "cell_type": "code",
   "execution_count": 67,
   "id": "20cb334b-deea-4706-8c83-439d0a4fad49",
   "metadata": {},
   "outputs": [],
   "source": [
    "def check_day(df):\n",
    "    df = df.loc[(df['Date'] > '2023-01-01') & (df['Date'] < '2023-01-31')]\n",
    "    return df"
   ]
  },
  {
   "cell_type": "code",
   "execution_count": 73,
   "id": "d0d53a68-beac-45b4-bdb6-15cce516f9e0",
   "metadata": {},
   "outputs": [
    {
     "name": "stdout",
     "output_type": "stream",
     "text": [
      "         Date\n",
      "32 2023-01-02\n",
      "33 2023-01-03\n",
      "34 2023-01-04\n",
      "35 2023-01-05\n",
      "36 2023-01-06\n",
      "37 2023-01-07\n",
      "38 2023-01-08\n",
      "39 2023-01-09\n",
      "40 2023-01-10\n",
      "41 2023-01-11\n",
      "42 2023-01-12\n",
      "43 2023-01-13\n",
      "44 2023-01-14\n",
      "45 2023-01-15\n",
      "46 2023-01-16\n",
      "47 2023-01-17\n",
      "48 2023-01-18\n",
      "49 2023-01-19\n",
      "50 2023-01-20\n",
      "51 2023-01-21\n",
      "52 2023-01-22\n",
      "53 2023-01-23\n",
      "54 2023-01-24\n",
      "55 2023-01-25\n",
      "56 2023-01-26\n",
      "57 2023-01-27\n",
      "58 2023-01-28\n",
      "59 2023-01-29\n",
      "60 2023-01-30\n"
     ]
    }
   ],
   "source": [
    "df = pd.DataFrame(pd.date_range(start = '2022-12-01', end = '2023-02-28'), columns = ['Date'])\n",
    "print(check_day(df))"
   ]
  },
  {
   "cell_type": "markdown",
   "id": "7299e6b5-c3bb-407e-8488-100703102f7e",
   "metadata": {},
   "source": [
    " Q13. To use the basic functions of pandas, what is the first and foremost necessary library that needs to \n",
    "be imported?"
   ]
  },
  {
   "cell_type": "markdown",
   "id": "9a55c645-411e-4c8d-ba0d-f91a5e695f48",
   "metadata": {},
   "source": [
    "Ans. The first and foremost necessary library that needs to be imported is Pandas Library."
   ]
  },
  {
   "cell_type": "code",
   "execution_count": 74,
   "id": "21a7981a-04c6-4281-8941-8fdf13ff31a3",
   "metadata": {},
   "outputs": [],
   "source": [
    "import pandas as pd"
   ]
  }
 ],
 "metadata": {
  "kernelspec": {
   "display_name": "Python 3 (ipykernel)",
   "language": "python",
   "name": "python3"
  },
  "language_info": {
   "codemirror_mode": {
    "name": "ipython",
    "version": 3
   },
   "file_extension": ".py",
   "mimetype": "text/x-python",
   "name": "python",
   "nbconvert_exporter": "python",
   "pygments_lexer": "ipython3",
   "version": "3.9.18"
  }
 },
 "nbformat": 4,
 "nbformat_minor": 5
}
