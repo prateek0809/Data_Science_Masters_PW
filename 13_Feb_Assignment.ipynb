{
 "cells": [
  {
   "cell_type": "markdown",
   "id": "6634df14",
   "metadata": {},
   "source": [
    "# PW Data Science Masters"
   ]
  },
  {
   "cell_type": "markdown",
   "id": "0ebe236c",
   "metadata": {},
   "source": [
    "## Assignment - 12"
   ]
  },
  {
   "cell_type": "markdown",
   "id": "2c549cc9",
   "metadata": {},
   "source": [
    "Q1. Explain why we have to use the Exception class while creating a Custom Exception.\n",
    "\n",
    "Note: Here Exception class refers to the base class for all the exceptions."
   ]
  },
  {
   "cell_type": "markdown",
   "id": "fd85368c-2ad5-4909-a23c-80c22b8276ca",
   "metadata": {},
   "source": [
    "Ans- Built-in exceptions offer information about Python-related problems, and custom exceptions will add information about project-related problems. That way, we can design our code (and traceback, if an exception is raised) in a way that combines Python code with the language of the project. using custom exceptions can help us improve this even more, especially when we are designing our package. If you decide to avoid, at all costs, custom exceptions by using only built-in ones, you risk decreasing Python's readability."
   ]
  },
  {
   "cell_type": "code",
   "execution_count": 1,
   "id": "9e782784-e441-4ddc-938a-87375bb578f8",
   "metadata": {},
   "outputs": [],
   "source": [
    "class InvalidAgeException(Exception):\n",
    "    \n",
    "    def __init__(self, msg):\n",
    "        self.msg = msg"
   ]
  },
  {
   "cell_type": "code",
   "execution_count": 2,
   "id": "8a279347-667b-4740-8121-8565c84d0ad5",
   "metadata": {},
   "outputs": [],
   "source": [
    "def validate_age(age):\n",
    "    \n",
    "    if age < 0:\n",
    "        raise InvalidAgeException('Age cannot be negative.')\n",
    "    elif age == 0:\n",
    "        raise InvalidAgeException('Age cannot be Zero.')\n",
    "    elif age > 0 and age < 18:\n",
    "        raise InvalidAgeException('Person does not eligible for Voting.')\n",
    "    else:\n",
    "        print('Person is eligible for Voting.')"
   ]
  },
  {
   "cell_type": "code",
   "execution_count": 4,
   "id": "62a4f15d-be8a-421e-a317-43eafed09910",
   "metadata": {},
   "outputs": [
    {
     "name": "stdin",
     "output_type": "stream",
     "text": [
      "Enter a number:  16\n"
     ]
    },
    {
     "name": "stdout",
     "output_type": "stream",
     "text": [
      "Exception occurred:  Person does not eligible for Voting.\n"
     ]
    }
   ],
   "source": [
    "try:\n",
    "    age = int(input(\"Enter a number: \"))\n",
    "    validate_age(age)\n",
    "        \n",
    "except InvalidAgeException as e:\n",
    "    print(\"Exception occurred: \", e)"
   ]
  },
  {
   "cell_type": "markdown",
   "id": "d010c90a",
   "metadata": {},
   "source": [
    "Q2. Write a python program to print Python Exception Hierarchy."
   ]
  },
  {
   "cell_type": "code",
   "execution_count": 5,
   "id": "52951c20",
   "metadata": {},
   "outputs": [
    {
     "name": "stdout",
     "output_type": "stream",
     "text": [
      "Hierarchy for Built-in exceptions is : \n",
      " BaseException\n",
      "--- Exception\n",
      "------ TypeError\n",
      "--------- FloatOperation\n",
      "--------- MultipartConversionError\n",
      "------ StopAsyncIteration\n",
      "------ StopIteration\n",
      "------ ImportError\n",
      "--------- ModuleNotFoundError\n",
      "------------ PackageNotFoundError\n",
      "--------- ZipImportError\n",
      "------ OSError\n",
      "--------- ConnectionError\n",
      "------------ BrokenPipeError\n",
      "------------ ConnectionAbortedError\n",
      "------------ ConnectionRefusedError\n",
      "------------ ConnectionResetError\n",
      "--------------- RemoteDisconnected\n",
      "--------- BlockingIOError\n",
      "--------- ChildProcessError\n",
      "--------- FileExistsError\n",
      "--------- FileNotFoundError\n",
      "--------- IsADirectoryError\n",
      "--------- NotADirectoryError\n",
      "--------- InterruptedError\n",
      "------------ InterruptedSystemCall\n",
      "--------- PermissionError\n",
      "--------- ProcessLookupError\n",
      "--------- TimeoutError\n",
      "--------- UnsupportedOperation\n",
      "--------- herror\n",
      "--------- gaierror\n",
      "--------- timeout\n",
      "--------- SSLError\n",
      "------------ SSLCertVerificationError\n",
      "------------ SSLZeroReturnError\n",
      "------------ SSLWantReadError\n",
      "------------ SSLWantWriteError\n",
      "------------ SSLSyscallError\n",
      "------------ SSLEOFError\n",
      "--------- Error\n",
      "------------ SameFileError\n",
      "--------- SpecialFileError\n",
      "--------- ExecError\n",
      "--------- ReadError\n",
      "--------- URLError\n",
      "------------ HTTPError\n",
      "------------ ContentTooShortError\n",
      "--------- BadGzipFile\n",
      "------ EOFError\n",
      "--------- IncompleteReadError\n",
      "------ RuntimeError\n",
      "--------- RecursionError\n",
      "--------- NotImplementedError\n",
      "------------ ZMQVersionError\n",
      "------------ StdinNotImplementedError\n",
      "--------- _DeadlockError\n",
      "--------- BrokenBarrierError\n",
      "--------- BrokenExecutor\n",
      "------------ BrokenThreadPool\n",
      "--------- SendfileNotAvailableError\n",
      "--------- ExtractionError\n",
      "--------- VariableError\n",
      "------ NameError\n",
      "--------- UnboundLocalError\n",
      "------ AttributeError\n",
      "--------- FrozenInstanceError\n",
      "------ SyntaxError\n",
      "--------- IndentationError\n",
      "------------ TabError\n",
      "------ LookupError\n",
      "--------- IndexError\n",
      "--------- KeyError\n",
      "------------ NoSuchKernel\n",
      "------------ UnknownBackend\n",
      "--------- CodecRegistryError\n",
      "------ ValueError\n",
      "--------- UnicodeError\n",
      "------------ UnicodeEncodeError\n",
      "------------ UnicodeDecodeError\n",
      "------------ UnicodeTranslateError\n",
      "--------- UnsupportedOperation\n",
      "--------- JSONDecodeError\n",
      "--------- SSLCertVerificationError\n",
      "--------- Error\n",
      "--------- IllegalMonthError\n",
      "--------- IllegalWeekdayError\n",
      "--------- ParserError\n",
      "--------- MessageDefect\n",
      "------------ NoBoundaryInMultipartDefect\n",
      "------------ StartBoundaryNotFoundDefect\n",
      "------------ CloseBoundaryNotFoundDefect\n",
      "------------ FirstHeaderLineIsContinuationDefect\n",
      "------------ MisplacedEnvelopeHeaderDefect\n",
      "------------ MissingHeaderBodySeparatorDefect\n",
      "------------ MultipartInvariantViolationDefect\n",
      "------------ InvalidMultipartContentTransferEncodingDefect\n",
      "------------ UndecodableBytesDefect\n",
      "------------ InvalidBase64PaddingDefect\n",
      "------------ InvalidBase64CharactersDefect\n",
      "------------ InvalidBase64LengthDefect\n",
      "------------ HeaderDefect\n",
      "--------------- InvalidHeaderDefect\n",
      "--------------- HeaderMissingRequiredValue\n",
      "--------------- NonPrintableDefect\n",
      "--------------- ObsoleteHeaderDefect\n",
      "--------------- NonASCIILocalPartDefect\n",
      "--------- ClassNotFound\n",
      "--------- ClipboardEmpty\n",
      "--------- MacroToEdit\n",
      "--------- InvalidFileException\n",
      "--------- UnequalIterablesError\n",
      "--------- InvalidVersion\n",
      "--------- ELFInvalid\n",
      "--------- InvalidWheelFilename\n",
      "--------- InvalidSdistFilename\n",
      "--------- InvalidSpecifier\n",
      "--------- InvalidMarker\n",
      "--------- UndefinedComparison\n",
      "--------- UndefinedEnvironmentName\n",
      "--------- InvalidRequirement\n",
      "------------ RequirementParseError\n",
      "--------- InvalidVersion\n",
      "------ AssertionError\n",
      "------ ArithmeticError\n",
      "--------- FloatingPointError\n",
      "--------- OverflowError\n",
      "--------- ZeroDivisionError\n",
      "------------ DivisionByZero\n",
      "------------ DivisionUndefined\n",
      "--------- DecimalException\n",
      "------------ Clamped\n",
      "------------ Rounded\n",
      "--------------- Underflow\n",
      "--------------- Overflow\n",
      "------------ Inexact\n",
      "--------------- Underflow\n",
      "--------------- Overflow\n",
      "------------ Subnormal\n",
      "--------------- Underflow\n",
      "------------ DivisionByZero\n",
      "------------ FloatOperation\n",
      "------------ InvalidOperation\n",
      "--------------- ConversionSyntax\n",
      "--------------- DivisionImpossible\n",
      "--------------- DivisionUndefined\n",
      "--------------- InvalidContext\n",
      "------ SystemError\n",
      "--------- CodecRegistryError\n",
      "------ ReferenceError\n",
      "------ MemoryError\n",
      "------ BufferError\n",
      "------ Warning\n",
      "--------- UserWarning\n",
      "------------ GetPassWarning\n",
      "------------ FormatterWarning\n",
      "--------- DeprecationWarning\n",
      "------------ ProvisionalWarning\n",
      "--------- PendingDeprecationWarning\n",
      "--------- SyntaxWarning\n",
      "--------- RuntimeWarning\n",
      "------------ ProactorSelectorThreadWarning\n",
      "------------ UnknownTimezoneWarning\n",
      "------------ PEP440Warning\n",
      "--------- FutureWarning\n",
      "------------ ProvisionalCompleterWarning\n",
      "--------- ImportWarning\n",
      "--------- UnicodeWarning\n",
      "--------- BytesWarning\n",
      "--------- ResourceWarning\n",
      "--------- DeprecatedTzFormatWarning\n",
      "--------- PkgResourcesDeprecationWarning\n",
      "------ Error\n",
      "------ _OptionError\n",
      "------ error\n",
      "------ Verbose\n",
      "------ _Error\n",
      "------ SubprocessError\n",
      "--------- CalledProcessError\n",
      "--------- TimeoutExpired\n",
      "------ ZMQBaseError\n",
      "--------- ZMQError\n",
      "------------ ContextTerminated\n",
      "------------ Again\n",
      "------------ InterruptedSystemCall\n",
      "--------- ZMQBindError\n",
      "--------- NotDone\n",
      "------ Error\n",
      "------ error\n",
      "------ PickleError\n",
      "--------- PicklingError\n",
      "--------- UnpicklingError\n",
      "------ _Stop\n",
      "------ TokenError\n",
      "------ StopTokenizing\n",
      "------ Error\n",
      "--------- CancelledError\n",
      "--------- TimeoutError\n",
      "--------- InvalidStateError\n",
      "------ _GiveupOnSendfile\n",
      "------ Incomplete\n",
      "------ ClassFoundException\n",
      "------ EndOfBlock\n",
      "------ TimeoutError\n",
      "------ InvalidStateError\n",
      "------ LimitOverrunError\n",
      "------ QueueEmpty\n",
      "------ QueueFull\n",
      "------ error\n",
      "------ LZMAError\n",
      "------ RegistryError\n",
      "------ _GiveupOnFastCopy\n",
      "------ TraitError\n",
      "------ Empty\n",
      "------ Full\n",
      "------ COMError\n",
      "------ ArgumentError\n",
      "------ ReturnValueIgnoredError\n",
      "------ ArgumentError\n",
      "------ ArgumentTypeError\n",
      "------ ConfigError\n",
      "--------- ConfigLoaderError\n",
      "------------ ArgumentError\n",
      "--------- ConfigFileNotFound\n",
      "------ ConfigurableError\n",
      "--------- MultipleInstanceError\n",
      "------ ApplicationError\n",
      "------ InvalidPortNumber\n",
      "------ NoIPAddresses\n",
      "------ Error\n",
      "------ BadZipFile\n",
      "------ LargeZipFile\n",
      "------ Error\n",
      "------ MessageError\n",
      "--------- MessageParseError\n",
      "------------ HeaderParseError\n",
      "------------ BoundaryError\n",
      "--------- MultipartConversionError\n",
      "--------- CharsetError\n",
      "------ DuplicateKernelError\n",
      "------ ErrorDuringImport\n",
      "------ NotOneValueFound\n",
      "------ CannotEval\n",
      "------ OptionError\n",
      "------ BdbQuit\n",
      "------ Restart\n",
      "------ FindCmdError\n",
      "------ HomeDirError\n",
      "------ ProfileDirError\n",
      "------ IPythonCoreError\n",
      "--------- TryNext\n",
      "--------- UsageError\n",
      "--------- StdinNotImplementedError\n",
      "------ InputRejected\n",
      "------ GetoptError\n",
      "------ ErrorToken\n",
      "------ PrefilterError\n",
      "------ AliasError\n",
      "--------- InvalidAliasError\n",
      "------ Error\n",
      "--------- InterfaceError\n",
      "--------- DatabaseError\n",
      "------------ InternalError\n",
      "------------ OperationalError\n",
      "------------ ProgrammingError\n",
      "------------ IntegrityError\n",
      "------------ DataError\n",
      "------------ NotSupportedError\n",
      "------ Warning\n",
      "------ ExceptionGroup\n",
      "------ SpaceInInput\n",
      "------ DOMException\n",
      "--------- IndexSizeErr\n",
      "--------- DomstringSizeErr\n",
      "--------- HierarchyRequestErr\n",
      "--------- WrongDocumentErr\n",
      "--------- InvalidCharacterErr\n",
      "--------- NoDataAllowedErr\n",
      "--------- NoModificationAllowedErr\n",
      "--------- NotFoundErr\n",
      "--------- NotSupportedErr\n",
      "--------- InuseAttributeErr\n",
      "--------- InvalidStateErr\n",
      "--------- SyntaxErr\n",
      "--------- InvalidModificationErr\n",
      "--------- NamespaceErr\n",
      "--------- InvalidAccessErr\n",
      "--------- ValidationErr\n",
      "------ ValidationError\n",
      "------ EditReadOnlyBuffer\n",
      "------ _Retry\n",
      "------ InvalidLayoutError\n",
      "------ HeightIsUnknownError\n",
      "------ GuardRejection\n",
      "------ ParserSyntaxError\n",
      "------ InternalParseError\n",
      "------ _PositionUpdatingFinished\n",
      "------ SimpleGetItemNotFound\n",
      "------ UncaughtAttributeError\n",
      "------ HasNoContext\n",
      "------ ParamIssue\n",
      "------ _JediError\n",
      "--------- InternalError\n",
      "--------- WrongVersion\n",
      "--------- RefactoringError\n",
      "------ OnErrorLeaf\n",
      "------ InvalidPythonEnvironment\n",
      "------ HTTPException\n",
      "--------- NotConnected\n",
      "--------- InvalidURL\n",
      "--------- UnknownProtocol\n",
      "--------- UnknownTransferEncoding\n",
      "--------- UnimplementedFileMode\n",
      "--------- IncompleteRead\n",
      "--------- ImproperConnectionState\n",
      "------------ CannotSendRequest\n",
      "------------ CannotSendHeader\n",
      "------------ ResponseNotReady\n",
      "--------- BadStatusLine\n",
      "------------ RemoteDisconnected\n",
      "--------- LineTooLong\n",
      "------ InteractivelyDefined\n",
      "------ KillEmbedded\n",
      "------ Error\n",
      "--------- NoSuchProcess\n",
      "------------ ZombieProcess\n",
      "--------- AccessDenied\n",
      "--------- TimeoutExpired\n",
      "------ Error\n",
      "------ TimeoutExpired\n",
      "------ TimeoutAbandoned\n",
      "------ KeyReuseError\n",
      "------ UnknownKeyError\n",
      "------ LeakedCallbackError\n",
      "------ BadYieldError\n",
      "------ ReturnValueIgnoredError\n",
      "------ Return\n",
      "------ QueueEmpty\n",
      "------ QueueFull\n",
      "------ DebuggerInitializationError\n",
      "------ ExpatError\n",
      "------ Error\n",
      "--------- ProtocolError\n",
      "--------- ResponseError\n",
      "--------- Fault\n",
      "------ ParserSyntaxError\n",
      "------ ResolutionError\n",
      "--------- VersionConflict\n",
      "------------ ContextualVersionConflict\n",
      "--------- DistributionNotFound\n",
      "--------- UnknownExtra\n",
      "------ _Error\n",
      "------ UnableToResolveVariableException\n",
      "------ InvalidTypeInArgsException\n",
      "------ InvalidAgeException\n",
      "--- GeneratorExit\n",
      "--- SystemExit\n",
      "--- KeyboardInterrupt\n",
      "--- CancelledError\n",
      "--- BaseExceptionGroup\n",
      "------ ExceptionGroup\n",
      "--- AbortThread\n"
     ]
    }
   ],
   "source": [
    "import inspect\n",
    "  \n",
    "# our treeClass function\n",
    "def treeClass(cls, ind = 0):\n",
    "\n",
    "    print ('-' * ind, cls.__name__)\n",
    "      \n",
    "    for i in cls.__subclasses__():\n",
    "        treeClass(i, ind + 3)\n",
    "        \n",
    "print(\"Hierarchy for Built-in exceptions is : \")\n",
    "\n",
    "inspect.getclasstree(inspect.getmro(BaseException))\n",
    "  \n",
    "treeClass(BaseException)"
   ]
  },
  {
   "cell_type": "markdown",
   "id": "dcc3c998",
   "metadata": {},
   "source": [
    "Q3. What errors are defined in the ArithmeticError class? Explain any two with an example."
   ]
  },
  {
   "cell_type": "markdown",
   "id": "9cda58fa-7e1d-4c56-aa6b-b26c9bc12429",
   "metadata": {},
   "source": [
    "Ans-ArithmeticError is simply an error that occurs during numeric calculations.\n",
    "    \n",
    "ArithmeticError types in Python include:\n",
    "\n",
    "OverFlowError\n",
    "\n",
    "ZeroDivisionError\n",
    "\n",
    "FloatingPointError"
   ]
  },
  {
   "cell_type": "code",
   "execution_count": 6,
   "id": "42397b08-7304-4223-adc9-09dbc777536a",
   "metadata": {},
   "outputs": [
    {
     "name": "stdout",
     "output_type": "stream",
     "text": [
      "The Exception occur:  division by zero\n"
     ]
    }
   ],
   "source": [
    "try:\n",
    "    a = 5/0\n",
    "    print(a)\n",
    "\n",
    "except ZeroDivisionError as e:\n",
    "    print('The Exception occur: ',e)"
   ]
  },
  {
   "cell_type": "code",
   "execution_count": 7,
   "id": "62aaa7ee-850f-4282-a9ad-3d7d6f937773",
   "metadata": {},
   "outputs": [
    {
     "name": "stdout",
     "output_type": "stream",
     "text": [
      "The Exception occur:  math range error\n"
     ]
    }
   ],
   "source": [
    "import math\n",
    "\n",
    "try:\n",
    "    print(math.exp(1000))\n",
    "\n",
    "except OverflowError as e:\n",
    "    print('The Exception occur: ',e)"
   ]
  },
  {
   "cell_type": "markdown",
   "id": "e5ca2a52",
   "metadata": {},
   "source": [
    "Q4. Why LookupError class is used? Explain with an example KeyError and IndexError."
   ]
  },
  {
   "cell_type": "markdown",
   "id": "a0c8e305-a93a-44c3-91db-8f736b9cda6f",
   "metadata": {},
   "source": [
    "Ans- Lookup Error acts as a base class for the exceptions that occur when a key or index used on a mapping or sequence of a list/dictionary is invalid or does not exists. \n",
    "\n",
    "The two types of exceptions raised are: IndexError and KeyError."
   ]
  },
  {
   "cell_type": "code",
   "execution_count": 8,
   "id": "08d6bae8-e13f-4d9e-b0d3-c3351ddd9b7e",
   "metadata": {},
   "outputs": [
    {
     "name": "stdout",
     "output_type": "stream",
     "text": [
      "45\n",
      "51\n",
      "67\n",
      "The Key Exception occur:  'D'\n"
     ]
    }
   ],
   "source": [
    "try:\n",
    "    ages={'A':45,'B':51,'C':67}  \n",
    "    print(ages['A'])  \n",
    "    print(ages['B'])  \n",
    "    print(ages['C'])  \n",
    "    print(ages['D'])  \n",
    "\n",
    "except KeyError as e:\n",
    "    print('The Key Exception occur: ',e)"
   ]
  },
  {
   "cell_type": "code",
   "execution_count": 9,
   "id": "430fa272-568d-424e-bf9f-e8c1ab87a3ca",
   "metadata": {},
   "outputs": [
    {
     "name": "stdout",
     "output_type": "stream",
     "text": [
      "The list is: [1, 2, 3, 4, 5, 6, 7, 8, 9, 10]\n",
      "The Index Exception occur:  list index out of range\n"
     ]
    }
   ],
   "source": [
    "try:\n",
    "    myList = [1, 2, 3, 4, 5, 6, 7, 8, 9, 10]\n",
    "    print(\"The list is:\", myList)\n",
    "    index = 10\n",
    "    element = myList[index]\n",
    "    print(\"Element at index {} is {}\".format(index,element))\n",
    "\n",
    "except IndexError as e:\n",
    "    print('The Index Exception occur: ',e)"
   ]
  },
  {
   "cell_type": "markdown",
   "id": "86463e19",
   "metadata": {},
   "source": [
    "Q5. Explain ImportError. What is ModuleNotFoundError?"
   ]
  },
  {
   "cell_type": "markdown",
   "id": "17d596a2-0a53-4d6d-814a-80f35091e83f",
   "metadata": {},
   "source": [
    "Ans:- The ImportError is raised when an import statement has trouble successfully importing the specified module. Typically, such a problem is due to an invalid or incorrect path, which will raise a ModuleNotFoundError in Python.\n",
    "\n",
    "ModuleNotFoundError occurs when you're trying to access or use a module that cannot be found."
   ]
  },
  {
   "cell_type": "markdown",
   "id": "9afe7f77",
   "metadata": {},
   "source": [
    "Q6. List down some best practices for exception handling in python."
   ]
  },
  {
   "cell_type": "code",
   "execution_count": 10,
   "id": "16cf91b0",
   "metadata": {},
   "outputs": [
    {
     "name": "stdout",
     "output_type": "stream",
     "text": [
      "division by zero\n"
     ]
    }
   ],
   "source": [
    "# use always a specific exception\n",
    "try:\n",
    "    10 / 0\n",
    "except Exception as e:\n",
    "    print(e)"
   ]
  },
  {
   "cell_type": "code",
   "execution_count": 11,
   "id": "feefcbd2-c3a4-403c-ac19-960e1b1f689a",
   "metadata": {},
   "outputs": [
    {
     "name": "stdout",
     "output_type": "stream",
     "text": [
      "This is a ZeroDivision error i am handling division by zero\n"
     ]
    }
   ],
   "source": [
    "# use always a valid message for exception\n",
    "try:\n",
    "    10 / 0\n",
    "except ZeroDivisionError as e:\n",
    "    print(\"This is a ZeroDivision error i am handling\",e)"
   ]
  },
  {
   "cell_type": "code",
   "execution_count": 12,
   "id": "f65bc1a8-6166-4543-86de-c18eb13d57e5",
   "metadata": {},
   "outputs": [
    {
     "name": "stdout",
     "output_type": "stream",
     "text": [
      "Error: something went wrong\n"
     ]
    }
   ],
   "source": [
    "class CustomError(Exception): \n",
    "    def __init__(self, value): \n",
    "        self.value = value\n",
    "    def __str__(self): \n",
    "        return \"Error: %s\" % self.value\n",
    "try:\n",
    "    raise CustomError(\"something went wrong\")\n",
    "    \n",
    "except CustomError as e:\n",
    "    print(e)"
   ]
  },
  {
   "cell_type": "code",
   "execution_count": 13,
   "id": "8ef0f3b3-865c-4d87-b6f1-0b9391f00e51",
   "metadata": {},
   "outputs": [],
   "source": [
    "# always try to log\n",
    "import logging\n",
    "logging.basicConfig(filename=\"error.log\", level= logging.ERROR)\n",
    "try:\n",
    "    10/0\n",
    "except ZeroDivisionError as e:\n",
    "    logging.error(\"This is a ZeroDivision error i am handling {}\".format(e))"
   ]
  },
  {
   "cell_type": "code",
   "execution_count": 14,
   "id": "ce59c15f-d667-4704-82af-fac3ce404af1",
   "metadata": {},
   "outputs": [
    {
     "name": "stdout",
     "output_type": "stream",
     "text": [
      "something went wrong\n"
     ]
    }
   ],
   "source": [
    "try:\n",
    "    a = 20\n",
    "    assert a < 10, \"something went wrong\"\n",
    "except AssertionError as e:\n",
    "    print(e)"
   ]
  },
  {
   "cell_type": "code",
   "execution_count": 15,
   "id": "24a640ae-c464-4d20-a3cc-f9d713580b62",
   "metadata": {},
   "outputs": [],
   "source": [
    "# always avoid to write a multiple exception handling\n",
    "import logging\n",
    "logging.basicConfig(filename=\"error.log\", level= logging.ERROR)\n",
    "try:\n",
    "    10/0\n",
    "except ZeroDivisionError as e:\n",
    "    logging.error(\"This is a ZeroDivision error  {}\".format(e))\n",
    "except AttributeError as e:\n",
    "    logging.error(\"This is a AttributeError error  {}\".format(e))\n",
    "except FileNotFoundError as e:\n",
    "    logging.error(\"This is a FileNotFoundError i am handling {}\".format(e))"
   ]
  },
  {
   "cell_type": "code",
   "execution_count": 16,
   "id": "7c7bcd4d-31af-4fb5-8f4d-e5b80dac6207",
   "metadata": {},
   "outputs": [],
   "source": [
    "# prepare a proper documentation"
   ]
  },
  {
   "cell_type": "code",
   "execution_count": 17,
   "id": "ceb68684-4620-413c-a6cb-a9286f33c5ce",
   "metadata": {},
   "outputs": [],
   "source": [
    "# cleanup the resources \n",
    "\n",
    "try:\n",
    "    with open('test12.txt','w') as f:\n",
    "        f.write('thisn is my msg to file.')\n",
    "        \n",
    "except FileNotFoundError as e:\n",
    "    logging.error('this is my file not found error {}'.format(e))\n",
    "    \n",
    "finally:\n",
    "    f.close()"
   ]
  },
  {
   "cell_type": "code",
   "execution_count": 18,
   "id": "67a28b47-8055-44e4-9791-48ec117b2462",
   "metadata": {},
   "outputs": [],
   "source": [
    "logging.shutdown()"
   ]
  }
 ],
 "metadata": {
  "kernelspec": {
   "display_name": "Python 3 (ipykernel)",
   "language": "python",
   "name": "python3"
  },
  "language_info": {
   "codemirror_mode": {
    "name": "ipython",
    "version": 3
   },
   "file_extension": ".py",
   "mimetype": "text/x-python",
   "name": "python",
   "nbconvert_exporter": "python",
   "pygments_lexer": "ipython3",
   "version": "3.9.18"
  }
 },
 "nbformat": 4,
 "nbformat_minor": 5
}
