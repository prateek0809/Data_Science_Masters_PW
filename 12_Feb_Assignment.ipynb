{
 "cells": [
  {
   "cell_type": "markdown",
   "id": "a27e9117",
   "metadata": {},
   "source": [
    "# PW Data Science Masters"
   ]
  },
  {
   "cell_type": "markdown",
   "id": "255d9463",
   "metadata": {},
   "source": [
    "## Assignment - 11"
   ]
  },
  {
   "cell_type": "markdown",
   "id": "040a9058",
   "metadata": {},
   "source": [
    "Q1. What is an Exception in python? Write the difference between Exceptions and syntax errors?"
   ]
  },
  {
   "cell_type": "markdown",
   "id": "15a2af62",
   "metadata": {},
   "source": [
    "Ans- An exception is an event, which occurs during the execution of a program that disrupts the normal flow of the program's instructions. "
   ]
  },
  {
   "cell_type": "markdown",
   "id": "44f74723",
   "metadata": {},
   "source": [
    "The main difference between them that Errors cannot be handled, while Python exceptions can be handled at the run time. An error can be a syntax (parsing) error, while there can be many types of exceptions that could occur during the execution and are not unconditionally inoperable."
   ]
  },
  {
   "cell_type": "markdown",
   "id": "1328306d",
   "metadata": {},
   "source": [
    "Q2. What happens when an exception is not handled? Explain with an example?"
   ]
  },
  {
   "cell_type": "markdown",
   "id": "41ec9053",
   "metadata": {},
   "source": [
    "Ans- If an exception occurs during execution of the try clause, the exception may be handled by an except clause. If the exception is not handled by an except clause, the exception is re-raised after the finally clause has been executed."
   ]
  },
  {
   "cell_type": "code",
   "execution_count": 3,
   "id": "2751b010",
   "metadata": {},
   "outputs": [
    {
     "name": "stdout",
     "output_type": "stream",
     "text": [
      "This is the finally  block.\n"
     ]
    },
    {
     "ename": "ZeroDivisionError",
     "evalue": "division by zero",
     "output_type": "error",
     "traceback": [
      "\u001b[1;31m---------------------------------------------------------------------------\u001b[0m",
      "\u001b[1;31mZeroDivisionError\u001b[0m                         Traceback (most recent call last)",
      "\u001b[1;32m~\\AppData\\Local\\Temp\\ipykernel_22900\\1008386250.py\u001b[0m in \u001b[0;36m<module>\u001b[1;34m\u001b[0m\n\u001b[0;32m      1\u001b[0m \u001b[1;32mtry\u001b[0m\u001b[1;33m:\u001b[0m\u001b[1;33m\u001b[0m\u001b[1;33m\u001b[0m\u001b[0m\n\u001b[1;32m----> 2\u001b[1;33m     \u001b[1;36m10\u001b[0m\u001b[1;33m/\u001b[0m\u001b[1;36m0\u001b[0m\u001b[1;33m\u001b[0m\u001b[1;33m\u001b[0m\u001b[0m\n\u001b[0m\u001b[0;32m      3\u001b[0m \u001b[1;32mfinally\u001b[0m\u001b[1;33m:\u001b[0m\u001b[1;33m\u001b[0m\u001b[1;33m\u001b[0m\u001b[0m\n\u001b[0;32m      4\u001b[0m     \u001b[0mprint\u001b[0m\u001b[1;33m(\u001b[0m\u001b[1;34m'This is the finally  block.'\u001b[0m\u001b[1;33m)\u001b[0m\u001b[1;33m\u001b[0m\u001b[1;33m\u001b[0m\u001b[0m\n",
      "\u001b[1;31mZeroDivisionError\u001b[0m: division by zero"
     ]
    }
   ],
   "source": [
    "try:\n",
    "    10/0\n",
    "finally:\n",
    "    print('This is the finally  block.')"
   ]
  },
  {
   "cell_type": "markdown",
   "id": "b09311f8",
   "metadata": {},
   "source": [
    "Q3. Which Python statements are used to catch and handle exceptions? Explain with an example?"
   ]
  },
  {
   "cell_type": "markdown",
   "id": "a3f197f7",
   "metadata": {},
   "source": [
    "Ans- In Python, we catch exceptions and handle them using try and except code blocks. The try clause contains the code that can raise an exception, while the except clause contains the code lines that handle the exception."
   ]
  },
  {
   "cell_type": "code",
   "execution_count": 4,
   "id": "ef7ac09e",
   "metadata": {},
   "outputs": [
    {
     "name": "stdout",
     "output_type": "stream",
     "text": [
      "This is the error occur due to the division of zero. division by zero\n"
     ]
    }
   ],
   "source": [
    "try:\n",
    "    10/0\n",
    "except ZeroDivisionError as e:  \n",
    "    print (\"This is the error occur due to the division of zero.\",e)  "
   ]
  },
  {
   "cell_type": "markdown",
   "id": "ad3f0a4f",
   "metadata": {},
   "source": [
    "Q4. Explain with an example:-"
   ]
  },
  {
   "cell_type": "markdown",
   "id": "1bad7e76",
   "metadata": {},
   "source": [
    "a) try and else"
   ]
  },
  {
   "cell_type": "markdown",
   "id": "c488bf13",
   "metadata": {},
   "source": [
    "Ans- Try: This block will test the excepted error to occur. "
   ]
  },
  {
   "cell_type": "code",
   "execution_count": 6,
   "id": "34942e66",
   "metadata": {},
   "outputs": [
    {
     "name": "stdout",
     "output_type": "stream",
     "text": [
      "This is the error occur due to the division of zero. division by zero\n"
     ]
    }
   ],
   "source": [
    "try:\n",
    "    10/0\n",
    "    \n",
    "except ZeroDivisionError as e:  \n",
    "    print (\"This is the error occur due to the division of zero.\",e)  "
   ]
  },
  {
   "cell_type": "markdown",
   "id": "53a3a183",
   "metadata": {},
   "source": [
    "Else: If there is no exception then this block will be executed."
   ]
  },
  {
   "cell_type": "code",
   "execution_count": 8,
   "id": "95644f95",
   "metadata": {},
   "outputs": [
    {
     "name": "stdout",
     "output_type": "stream",
     "text": [
      "The Value of a is 5.\n"
     ]
    }
   ],
   "source": [
    "try:\n",
    "    a = 10 // 2\n",
    "    \n",
    "except ZeroDivisionError as e:  \n",
    "    print (\"This is the error occur due to the division of zero.\",e)  \n",
    "    \n",
    "else:\n",
    "    print('The Value of a is {}.'.format(a))"
   ]
  },
  {
   "cell_type": "markdown",
   "id": "d28f27c0",
   "metadata": {},
   "source": [
    "b) Finally"
   ]
  },
  {
   "cell_type": "markdown",
   "id": "c70c2477",
   "metadata": {},
   "source": [
    "Finally: Finally block always gets executed either exception is generated or not."
   ]
  },
  {
   "cell_type": "code",
   "execution_count": 9,
   "id": "0bbeeb71",
   "metadata": {},
   "outputs": [
    {
     "name": "stdout",
     "output_type": "stream",
     "text": [
      "The Value of a is 5.\n",
      "This is the division operaton.\n"
     ]
    }
   ],
   "source": [
    "try:\n",
    "    a = 10 // 2\n",
    "    \n",
    "except ZeroDivisionError as e:  \n",
    "    print (\"This is the error occur due to the division of zero.\",e)  \n",
    "    \n",
    "else:\n",
    "    print('The Value of a is {}.'.format(a))\n",
    "    \n",
    "finally:\n",
    "    print('This is the division operaton.')"
   ]
  },
  {
   "cell_type": "markdown",
   "id": "1a5c5940",
   "metadata": {},
   "source": [
    "c) Raise"
   ]
  },
  {
   "cell_type": "markdown",
   "id": "ccd8f595",
   "metadata": {},
   "source": [
    "raise: The raise statement specifies an argument which initializes the exception object. Here, a comma follows the exception name, and argument or tuple of the argument that follows the comma."
   ]
  },
  {
   "cell_type": "code",
   "execution_count": 10,
   "id": "9737f5dc",
   "metadata": {},
   "outputs": [],
   "source": [
    "class validate_height(Exception):\n",
    "    \n",
    "    def __init__(self, msg):\n",
    "        self.msg = msg"
   ]
  },
  {
   "cell_type": "code",
   "execution_count": 11,
   "id": "e8ae1bea",
   "metadata": {},
   "outputs": [],
   "source": [
    "def height(h):\n",
    "    \n",
    "    if h < 0:\n",
    "        raise validate_height('Height cannot be negative.')\n",
    "    elif h == 0:\n",
    "        raise validate_height('Height cannot be Zero.')\n",
    "    elif h > 0 and h < 200:\n",
    "        print('Valid height.')\n",
    "    else:\n",
    "        raise validate_height('Invalid Height.')"
   ]
  },
  {
   "cell_type": "code",
   "execution_count": 12,
   "id": "ddea2def",
   "metadata": {},
   "outputs": [
    {
     "name": "stdout",
     "output_type": "stream",
     "text": [
      "Enter the height in cm: -170\n",
      "Height cannot be negative.\n"
     ]
    }
   ],
   "source": [
    "try:\n",
    "    h = int(input('Enter the height in cm: '))\n",
    "    height(h)\n",
    "    \n",
    "except validate_height as e:\n",
    "    print(e)"
   ]
  },
  {
   "cell_type": "markdown",
   "id": "3dbd77f8",
   "metadata": {},
   "source": [
    "Q5. What are Custom Exceptions in python? Why do we need Custom Exceptions? Explain with an example?"
   ]
  },
  {
   "cell_type": "markdown",
   "id": "5532d9d3",
   "metadata": {},
   "source": [
    "Ans. Custom exceptions in Python are user-defined exceptions that allow developers to create their own exception classes for specific error conditions. \n",
    "\n",
    "They are useful for improving code clarity, modularity, and maintainability by providing descriptive error messages, modularizing error handling logic, centralizing error handling, enabling granular control over error conditions, and integrating seamlessly with frameworks and libraries."
   ]
  },
  {
   "cell_type": "code",
   "execution_count": 19,
   "id": "9271b30c",
   "metadata": {},
   "outputs": [],
   "source": [
    "class InvalidAgeException(Exception):\n",
    "    \n",
    "    def __init__(self, msg):\n",
    "        self.msg = msg"
   ]
  },
  {
   "cell_type": "code",
   "execution_count": 23,
   "id": "429a8ae5",
   "metadata": {},
   "outputs": [],
   "source": [
    "def validate_age(age):\n",
    "    \n",
    "    if age < 0:\n",
    "        raise InvalidAgeException('Age cannot be negative.')\n",
    "    elif age == 0:\n",
    "        raise InvalidAgeException('Age cannot be Zero.')\n",
    "    elif age > 0 and age < 18:\n",
    "        raise InvalidAgeException('Person does not eligible for Voting.')\n",
    "    else:\n",
    "        print('Person is eligible for Voting.')"
   ]
  },
  {
   "cell_type": "code",
   "execution_count": 24,
   "id": "0d17d6b1",
   "metadata": {},
   "outputs": [
    {
     "name": "stdout",
     "output_type": "stream",
     "text": [
      "Enter a number: 16\n",
      "Exception occurred:  Person does not eligible for Voting.\n"
     ]
    }
   ],
   "source": [
    "try:\n",
    "    age = int(input(\"Enter a number: \"))\n",
    "    validate_age(age)\n",
    "        \n",
    "except InvalidAgeException as e:\n",
    "    print(\"Exception occurred: \", e)"
   ]
  },
  {
   "cell_type": "markdown",
   "id": "ee8e67f9",
   "metadata": {},
   "source": [
    "Q6. Create a custom exception class. Use this class to handle an exception."
   ]
  },
  {
   "cell_type": "markdown",
   "id": "74371412",
   "metadata": {},
   "source": [
    "Ans- In Python, we can define custom exceptions by creating a new class that is derived from the built-in Exception class.\n",
    "\n",
    "Syntax:\n",
    "\n",
    "class CustomError(Exception): ... pass\n",
    "\n",
    "try: ...\n",
    "\n",
    "except CustomError:"
   ]
  },
  {
   "cell_type": "code",
   "execution_count": 25,
   "id": "f06f34df",
   "metadata": {},
   "outputs": [],
   "source": [
    "class SalaryNotInRangeError(Exception):\n",
    "\n",
    "    def __init__(self, salary, message = \"Salary is not in (5000, 15000) range\"):\n",
    "        self.salary = salary\n",
    "        self.message = message\n",
    "        super().__init__(self.message)\n"
   ]
  },
  {
   "cell_type": "code",
   "execution_count": 26,
   "id": "f7fcdb28",
   "metadata": {},
   "outputs": [
    {
     "name": "stdout",
     "output_type": "stream",
     "text": [
      "Enter salary amount: 2000\n"
     ]
    },
    {
     "ename": "SalaryNotInRangeError",
     "evalue": "Salary is not in (5000, 15000) range",
     "output_type": "error",
     "traceback": [
      "\u001b[1;31m---------------------------------------------------------------------------\u001b[0m",
      "\u001b[1;31mSalaryNotInRangeError\u001b[0m                     Traceback (most recent call last)",
      "\u001b[1;32m~\\AppData\\Local\\Temp\\ipykernel_22900\\3487948990.py\u001b[0m in \u001b[0;36m<module>\u001b[1;34m\u001b[0m\n\u001b[0;32m      1\u001b[0m \u001b[0msalary\u001b[0m \u001b[1;33m=\u001b[0m \u001b[0mint\u001b[0m\u001b[1;33m(\u001b[0m\u001b[0minput\u001b[0m\u001b[1;33m(\u001b[0m\u001b[1;34m\"Enter salary amount: \"\u001b[0m\u001b[1;33m)\u001b[0m\u001b[1;33m)\u001b[0m\u001b[1;33m\u001b[0m\u001b[1;33m\u001b[0m\u001b[0m\n\u001b[0;32m      2\u001b[0m \u001b[1;32mif\u001b[0m \u001b[1;32mnot\u001b[0m \u001b[1;36m5000\u001b[0m \u001b[1;33m<\u001b[0m \u001b[0msalary\u001b[0m \u001b[1;33m<\u001b[0m \u001b[1;36m15000\u001b[0m\u001b[1;33m:\u001b[0m\u001b[1;33m\u001b[0m\u001b[1;33m\u001b[0m\u001b[0m\n\u001b[1;32m----> 3\u001b[1;33m     \u001b[1;32mraise\u001b[0m \u001b[0mSalaryNotInRangeError\u001b[0m\u001b[1;33m(\u001b[0m\u001b[0msalary\u001b[0m\u001b[1;33m)\u001b[0m\u001b[1;33m\u001b[0m\u001b[1;33m\u001b[0m\u001b[0m\n\u001b[0m",
      "\u001b[1;31mSalaryNotInRangeError\u001b[0m: Salary is not in (5000, 15000) range"
     ]
    }
   ],
   "source": [
    "salary = int(input(\"Enter salary amount: \"))\n",
    "if not 5000 < salary < 15000:\n",
    "    raise SalaryNotInRangeError(salary)"
   ]
  }
 ],
 "metadata": {
  "kernelspec": {
   "display_name": "Python 3 (ipykernel)",
   "language": "python",
   "name": "python3"
  },
  "language_info": {
   "codemirror_mode": {
    "name": "ipython",
    "version": 3
   },
   "file_extension": ".py",
   "mimetype": "text/x-python",
   "name": "python",
   "nbconvert_exporter": "python",
   "pygments_lexer": "ipython3",
   "version": "3.9.16"
  }
 },
 "nbformat": 4,
 "nbformat_minor": 5
}
