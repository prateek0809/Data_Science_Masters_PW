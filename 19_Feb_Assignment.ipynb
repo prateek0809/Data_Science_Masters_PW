{
 "cells": [
  {
   "cell_type": "markdown",
   "id": "457fb7fb-1be4-4a0a-9eac-7c779797de3f",
   "metadata": {},
   "source": [
    "# PW Data Science Masters"
   ]
  },
  {
   "cell_type": "markdown",
   "id": "8927660c-5148-4a41-bab3-525bcdaa807a",
   "metadata": {},
   "source": [
    "## Assignment - 18"
   ]
  },
  {
   "cell_type": "markdown",
   "id": "7d43fb0e-cbe6-40ea-aa42-db9cd7bda920",
   "metadata": {},
   "source": [
    "Q1. What is Flask Framework? What are the advantages of Flask Framework?"
   ]
  },
  {
   "cell_type": "markdown",
   "id": "974ade7c-e17d-4bde-b118-e9b5bb3389bb",
   "metadata": {},
   "source": [
    "Ans- Flask is a web framework. This means flask provides you with tools, libraries and technologies that allow you to build a web application."
   ]
  },
  {
   "cell_type": "markdown",
   "id": "374d5e1b-2b95-40df-b45a-3b517e4c7ea7",
   "metadata": {},
   "source": [
    "Advantages of Flask:-\n",
    "\n",
    "Scalable.\n",
    "\n",
    "Flexible.\n",
    "\n",
    "Easy to negotiate.\n",
    "\n",
    "Lightweight.\n",
    "\n",
    "Documentation.\n"
   ]
  },
  {
   "cell_type": "markdown",
   "id": "e3865002-42ae-4d80-88c7-db19cfcae278",
   "metadata": {},
   "source": [
    "Q2. Create a simple Flask application to display ‘Hello World!!’. Attach the screenshot of the output in \n",
    "Jupyter Notebook."
   ]
  },
  {
   "cell_type": "code",
   "execution_count": 2,
   "id": "802f5189-5a1a-4544-a6d1-cf8094ac82f7",
   "metadata": {},
   "outputs": [
    {
     "name": "stdout",
     "output_type": "stream",
     "text": [
      " * Serving Flask app '__main__'\n",
      " * Debug mode: off\n"
     ]
    },
    {
     "name": "stderr",
     "output_type": "stream",
     "text": [
      "WARNING: This is a development server. Do not use it in a production deployment. Use a production WSGI server instead.\n",
      " * Running on all addresses (0.0.0.0)\n",
      " * Running on http://127.0.0.1:5000\n",
      " * Running on http://192.168.227.104:5000\n",
      "Press CTRL+C to quit\n",
      "127.0.0.1 - - [16/Feb/2024 21:48:47] \"GET / HTTP/1.1\" 404 -\n",
      "127.0.0.1 - - [16/Feb/2024 21:49:03] \"GET / HTTP/1.1\" 200 -\n",
      "127.0.0.1 - - [16/Feb/2024 21:52:44] \"GET / HTTP/1.1\" 200 -\n"
     ]
    }
   ],
   "source": [
    "from flask import Flask\n",
    "\n",
    "app = Flask(__name__)\n",
    "\n",
    "@app.route('/')\n",
    "def test():\n",
    "    return 'Hello World!!'\n",
    "\n",
    "if __name__ == '__main__':\n",
    "    app.run(host = '0.0.0.0')"
   ]
  },
  {
   "cell_type": "markdown",
   "id": "5941ac8f-67c4-432c-bf83-7d48414d6923",
   "metadata": {},
   "source": [
    "![HelloWorld](HelloWorld.png)\n"
   ]
  },
  {
   "cell_type": "markdown",
   "id": "9e84a9c9-810f-4918-a5ce-8b6ffa2ee04c",
   "metadata": {},
   "source": [
    "Q3. What is App routing in Flask? Why do we use app routes?"
   ]
  },
  {
   "cell_type": "markdown",
   "id": "0f39ce9c-752f-40b6-91db-370fd4f988e9",
   "metadata": {},
   "source": [
    "Ans- App Routing means mapping the URLs to a specific function that will handle the logic for that URL. \n",
    "\n",
    "We use app routes because Modern web frameworks use more meaningful URLs to help users remember the URLs and make navigation simpler."
   ]
  },
  {
   "cell_type": "markdown",
   "id": "ffd768b0-09b6-4726-8168-698afc10d17d",
   "metadata": {},
   "source": [
    "Q4.  Create a “/welcome” route to display the welcome message “Welcome to ABC Corporation” and a “/” \n",
    "route to show the following details:\n",
    "\n",
    "    Company Name: ABC Corporation\n",
    "\n",
    "    Location: India\n",
    "\n",
    "    Contact Detail: 999-999-9999 \n",
    "\n",
    "\n",
    "Attach the screenshot of the output in Jupyter Notebook."
   ]
  },
  {
   "cell_type": "code",
   "execution_count": 1,
   "id": "f705eb26-290f-41ca-a8af-c1ffd873c942",
   "metadata": {},
   "outputs": [
    {
     "name": "stdout",
     "output_type": "stream",
     "text": [
      " * Serving Flask app '__main__'\n",
      " * Debug mode: off\n"
     ]
    },
    {
     "name": "stderr",
     "output_type": "stream",
     "text": [
      "WARNING: This is a development server. Do not use it in a production deployment. Use a production WSGI server instead.\n",
      " * Running on all addresses (0.0.0.0)\n",
      " * Running on http://127.0.0.1:5000\n",
      " * Running on http://192.168.227.104:5000\n",
      "Press CTRL+C to quit\n",
      "127.0.0.1 - - [16/Feb/2024 22:15:59] \"GET / HTTP/1.1\" 200 -\n",
      "127.0.0.1 - - [16/Feb/2024 22:16:00] \"GET / HTTP/1.1\" 200 -\n"
     ]
    }
   ],
   "source": [
    "from flask import Flask\n",
    "\n",
    "app = Flask(__name__)\n",
    "\n",
    "@app.route('/')\n",
    "def company_details():\n",
    "    details = \"\"\"Company Name: ABC Corporation\n",
    "    Location: India\n",
    "    Contact Detail: 999-999-9999\"\"\"\n",
    "    return details\n",
    "\n",
    "@app.route('/welcome')\n",
    "def company():\n",
    "    return 'Welcome to ABC Corporation'\n",
    "\n",
    "if __name__ == '__main__':\n",
    "    app.run(host = '0.0.0.0')"
   ]
  },
  {
   "cell_type": "markdown",
   "id": "836b0527-1feb-49a8-93f3-d7721f00e24d",
   "metadata": {},
   "source": [
    "![company_details](company_details.png)"
   ]
  },
  {
   "cell_type": "markdown",
   "id": "6a7c96b6-aeda-45c5-a1ca-88db4c7b333f",
   "metadata": {},
   "source": [
    "![Welcome](Welcome.png)"
   ]
  },
  {
   "cell_type": "markdown",
   "id": "5b0ef94e-2318-4e07-b780-71af4eb513aa",
   "metadata": {},
   "source": [
    "Q5. What function is used in Flask for URL Building? Write a Python code to demonstrate the working of the \n",
    "url_for() function."
   ]
  },
  {
   "cell_type": "markdown",
   "id": "36bbfede-1cb8-462f-acf5-5fbb3e56fb28",
   "metadata": {},
   "source": [
    "Ans- To build a URL to a specific function,  we use the url_for() function. It accepts the name of the function as its first argument and any number of keyword arguments, each corresponding to a variable part of the URL rule."
   ]
  },
  {
   "cell_type": "code",
   "execution_count": 8,
   "id": "8f8f87c7-68bf-4c85-8ec2-c21a34e053be",
   "metadata": {},
   "outputs": [
    {
     "name": "stdout",
     "output_type": "stream",
     "text": [
      "/login\n"
     ]
    }
   ],
   "source": [
    "from flask import url_for, Flask\n",
    "\n",
    "appFlask = Flask(__name__)\n",
    "\n",
    "@appFlask.route('/home')\n",
    "def home():\n",
    "    return 'We are in Home Page!'\n",
    "\n",
    "@appFlask.route('/login')\n",
    "def login():\n",
    "    return 'Login Page'\n",
    "\n",
    "with appFlask.test_request_context():\n",
    "    print(url_for('login'))\n"
   ]
  }
 ],
 "metadata": {
  "kernelspec": {
   "display_name": "Python 3 (ipykernel)",
   "language": "python",
   "name": "python3"
  },
  "language_info": {
   "codemirror_mode": {
    "name": "ipython",
    "version": 3
   },
   "file_extension": ".py",
   "mimetype": "text/x-python",
   "name": "python",
   "nbconvert_exporter": "python",
   "pygments_lexer": "ipython3",
   "version": "3.9.18"
  }
 },
 "nbformat": 4,
 "nbformat_minor": 5
}
