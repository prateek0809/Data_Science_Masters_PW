{
 "cells": [
  {
   "cell_type": "markdown",
   "id": "15c7c63c",
   "metadata": {},
   "source": [
    "# PW Data Science Matsers"
   ]
  },
  {
   "cell_type": "markdown",
   "id": "5db27911",
   "metadata": {},
   "source": [
    "## Assignment - 8"
   ]
  },
  {
   "cell_type": "markdown",
   "id": "d5d49037",
   "metadata": {},
   "source": [
    "Q1. You are writing code for a company. The requirement of the company is that you create a python \n",
    "function that will check whether the password entered by the user is correct or not. The function should \n",
    "take the password as input and return the string “Valid Password” if the entered password follows the \n",
    "below-given password guidelines else it should return “Invalid Password”.\n",
    "\n",
    "Note: \n",
    "1. The Password should contain at least two uppercase letters and at least two lowercase letters.\n",
    "\n",
    "2. The Password should contain at least a number and three special characters.\n",
    "\n",
    "3. The length of the password should be 10 characters long."
   ]
  },
  {
   "cell_type": "code",
   "execution_count": 1,
   "id": "cd7f577c",
   "metadata": {},
   "outputs": [
    {
     "name": "stdout",
     "output_type": "stream",
     "text": [
      "Enter the Password: SilenT@8@#\n",
      "Valid Password\n"
     ]
    }
   ],
   "source": [
    "def validity(password):\n",
    "    if len(password) != 10:\n",
    "        return 'Invalid Password'\n",
    "    else:\n",
    "        upper, lower, digit, character = 0,0,0,0 \n",
    "        for i in password:\n",
    "            if i.isupper():\n",
    "                upper += 1\n",
    "            elif i.islower():\n",
    "                lower += 1\n",
    "            elif i.isdigit():\n",
    "                digit += 1\n",
    "            else:\n",
    "                character += 1\n",
    "                \n",
    "        if upper < 2 or lower < 2 or digit < 1 or character < 3:\n",
    "            return 'Invalid Password'\n",
    "        else:\n",
    "            return 'Valid Password'\n",
    "\n",
    "password = input('Enter the Password: ')\n",
    "print(validity(password))"
   ]
  },
  {
   "cell_type": "markdown",
   "id": "feeaad72",
   "metadata": {},
   "source": [
    "Q2. Solve the below-given questions using at least one of the following: \n",
    "\n",
    "1. Lambda function\n",
    "2. Filter function\n",
    "3. Map function\n",
    "4. List Comprehension"
   ]
  },
  {
   "cell_type": "markdown",
   "id": "d4c49958",
   "metadata": {},
   "source": [
    "-> Check if the string starts with a particular letter."
   ]
  },
  {
   "cell_type": "code",
   "execution_count": 2,
   "id": "4f6316e7",
   "metadata": {},
   "outputs": [
    {
     "name": "stdout",
     "output_type": "stream",
     "text": [
      "Enter the String: Prateek Singh\n",
      "True\n"
     ]
    }
   ],
   "source": [
    "task1 = lambda x : True if s.startswith('P') else False \n",
    "\n",
    "s = input('Enter the String: ')\n",
    "print(task1(s))"
   ]
  },
  {
   "cell_type": "markdown",
   "id": "e3fdf213",
   "metadata": {},
   "source": [
    "-> Check if the string is numeric."
   ]
  },
  {
   "cell_type": "code",
   "execution_count": 3,
   "id": "d3943380",
   "metadata": {},
   "outputs": [
    {
     "name": "stdout",
     "output_type": "stream",
     "text": [
      "Enter the String: Prateek Singh\n",
      "False\n"
     ]
    }
   ],
   "source": [
    "task2 = lambda x : True if s.isnumeric() else False \n",
    "\n",
    "s = input('Enter the String: ')\n",
    "print(task2(s))"
   ]
  },
  {
   "cell_type": "markdown",
   "id": "82208086",
   "metadata": {},
   "source": [
    "-> Sort a list of tuples having fruit names and their quantity.\n",
    "[(\"mango\",99),(\"orange\",80), (\"grapes\", 1000)]"
   ]
  },
  {
   "cell_type": "code",
   "execution_count": 4,
   "id": "288d3f09",
   "metadata": {},
   "outputs": [
    {
     "name": "stdout",
     "output_type": "stream",
     "text": [
      "[('orange', 80), ('mango', 99), ('grapes', 1000)]\n"
     ]
    }
   ],
   "source": [
    "t = [(\"mango\",99), (\"orange\",80), (\"grapes\", 1000)]\n",
    "t.sort(key = lambda x : x[1])\n",
    "print(t)"
   ]
  },
  {
   "cell_type": "markdown",
   "id": "7d2084cc",
   "metadata": {},
   "source": [
    "-> Find the squares of numbers from 1 to 10."
   ]
  },
  {
   "cell_type": "code",
   "execution_count": 5,
   "id": "e4230854",
   "metadata": {},
   "outputs": [
    {
     "name": "stdout",
     "output_type": "stream",
     "text": [
      "[1, 4, 9, 16, 25, 36, 49, 64, 81, 100]\n"
     ]
    }
   ],
   "source": [
    "l = list(range(1,11))\n",
    "square = list(map(lambda x : x*x,l))\n",
    "print(square)"
   ]
  },
  {
   "cell_type": "markdown",
   "id": "7f4041f7",
   "metadata": {},
   "source": [
    "-> Find the cube root of numbers from 1 to 10."
   ]
  },
  {
   "cell_type": "code",
   "execution_count": 6,
   "id": "5f9ce867",
   "metadata": {},
   "outputs": [
    {
     "name": "stdout",
     "output_type": "stream",
     "text": [
      "[1, 8, 27, 64, 125, 216, 343, 512, 729, 1000]\n"
     ]
    }
   ],
   "source": [
    "l = list(range(1,11))\n",
    "cubes = list(map(lambda x : pow(x,3),l))\n",
    "print(cubes)"
   ]
  },
  {
   "cell_type": "markdown",
   "id": "a91ac8c4",
   "metadata": {},
   "source": [
    "-> Check if a given number is even."
   ]
  },
  {
   "cell_type": "code",
   "execution_count": 7,
   "id": "3d2d94e2",
   "metadata": {},
   "outputs": [
    {
     "name": "stdout",
     "output_type": "stream",
     "text": [
      "Enter the number: 256\n",
      "True\n"
     ]
    }
   ],
   "source": [
    "task6 = lambda x: True if n % 2 == 0 else False\n",
    "\n",
    "n = int(input('Enter the number: '))\n",
    "print(task6(n))"
   ]
  },
  {
   "cell_type": "markdown",
   "id": "7d3d23e0",
   "metadata": {},
   "source": [
    "-> Filter odd numbers from the given list.\n",
    " [1,2,3,4,5,6,7,8,9,10]"
   ]
  },
  {
   "cell_type": "code",
   "execution_count": 8,
   "id": "c7093a72",
   "metadata": {},
   "outputs": [
    {
     "name": "stdout",
     "output_type": "stream",
     "text": [
      "[1, 3, 5, 7, 9]\n"
     ]
    }
   ],
   "source": [
    "l = list(range(1,11))\n",
    "task7 = list(filter(lambda x : x % 2 != 0,l))\n",
    "print(task7)"
   ]
  },
  {
   "cell_type": "markdown",
   "id": "ca37a8a1",
   "metadata": {},
   "source": [
    "-> Sort a list of integers into positive and negative integers lists.\n",
    " [1,2,3,4,5,6,-1,-2,-3,-4,-5,0]"
   ]
  },
  {
   "cell_type": "code",
   "execution_count": 9,
   "id": "e38c4a9a",
   "metadata": {},
   "outputs": [
    {
     "name": "stdout",
     "output_type": "stream",
     "text": [
      "List of Positive integers:  [1, 2, 3, 4, 5, 6]\n",
      "List of Negative integers:  [-5, -4, -3, -2, -1]\n"
     ]
    }
   ],
   "source": [
    "l = [1,2,3,4,5,6,-1,-2,-3,-4,-5,0]\n",
    "\n",
    "p = sorted(list(filter(lambda x : x > 0, l)))\n",
    "n = sorted(list(filter(lambda x : x < 0, l)))\n",
    "\n",
    "print('List of Positive integers: ', p)\n",
    "print('List of Negative integers: ', n)"
   ]
  }
 ],
 "metadata": {
  "kernelspec": {
   "display_name": "Python 3 (ipykernel)",
   "language": "python",
   "name": "python3"
  },
  "language_info": {
   "codemirror_mode": {
    "name": "ipython",
    "version": 3
   },
   "file_extension": ".py",
   "mimetype": "text/x-python",
   "name": "python",
   "nbconvert_exporter": "python",
   "pygments_lexer": "ipython3",
   "version": "3.9.16"
  }
 },
 "nbformat": 4,
 "nbformat_minor": 5
}
