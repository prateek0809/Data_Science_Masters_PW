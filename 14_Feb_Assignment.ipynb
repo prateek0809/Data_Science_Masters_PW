{
 "cells": [
  {
   "cell_type": "markdown",
   "id": "68b30c5a",
   "metadata": {},
   "source": [
    "# PW Data Science Masters"
   ]
  },
  {
   "cell_type": "markdown",
   "id": "a84e51e8",
   "metadata": {},
   "source": [
    "## Assignment - 13"
   ]
  },
  {
   "cell_type": "markdown",
   "id": "76377ce6",
   "metadata": {},
   "source": [
    "Q1. What is multithreading in python? Why is it used? Name the module used to handle threads in python?"
   ]
  },
  {
   "cell_type": "markdown",
   "id": "d466f7dd-8b59-472c-92eb-4157819b5e31",
   "metadata": {},
   "source": [
    "Ans- Multithreading is a threading technique in Python programming to run multiple threads concurrently by rapidly switching between threads with the help of CPU.\n",
    "\r\n",
    "It is a very useful technique for time-saving and improving the performance of an application. Multithreading allows the programmer to divide application tasks into sub-tasks and simultaneously run them in a program. It allows threads to communicate and share resources such as files, data, and memory to the same processorhreading module is used for creating, controlling and managing threads in python\n",
    "\n",
    "\r\n",
    "The Threading module is used for creating, controlling and managing threads in python."
   ]
  },
  {
   "cell_type": "markdown",
   "id": "d4c878c0",
   "metadata": {},
   "source": [
    "Q2. Why threading module used? Write the use of the following functions:-"
   ]
  },
  {
   "cell_type": "markdown",
   "id": "ddf92ebc-5c60-4b1e-855d-62729928b9a6",
   "metadata": {},
   "source": [
    "Ans- Python threads are used in cases where the execution of a task involves some waiting. One example would be interaction with a service hosted on another computer, such as a webserver. Threading allows python to execute other code while waiting; this is easily simulated with the sleep function."
   ]
  },
  {
   "cell_type": "markdown",
   "id": "511c9081",
   "metadata": {},
   "source": [
    "a. activeCount()"
   ]
  },
  {
   "cell_type": "markdown",
   "id": "3e3d2360-61d7-44f3-9896-646cd63025cd",
   "metadata": {},
   "source": [
    "threading.activeCount() − Returns the number of thread objects that are active."
   ]
  },
  {
   "cell_type": "markdown",
   "id": "022d79f2",
   "metadata": {},
   "source": [
    "b. currentThread()"
   ]
  },
  {
   "cell_type": "markdown",
   "id": "47ca640c-f0c2-4bc0-b05d-9e954499e49e",
   "metadata": {},
   "source": [
    "threading.currentThread() − Returns the number of thread objects in the caller's thread control."
   ]
  },
  {
   "cell_type": "markdown",
   "id": "852cd869",
   "metadata": {},
   "source": [
    "c. enumerate()"
   ]
  },
  {
   "cell_type": "markdown",
   "id": "0795566e-ea0b-46b0-9c36-a749a0abece2",
   "metadata": {},
   "source": [
    "threading.enumerate() − Returns a list of all thread objects that are currently active."
   ]
  },
  {
   "cell_type": "markdown",
   "id": "d3be8d76",
   "metadata": {},
   "source": [
    "Q3. Explain the following functions:-"
   ]
  },
  {
   "cell_type": "markdown",
   "id": "9ce2912a",
   "metadata": {},
   "source": [
    "a. run()"
   ]
  },
  {
   "cell_type": "markdown",
   "id": "5e3f8381-5ef7-4eda-b46a-f4690a7b8374",
   "metadata": {},
   "source": [
    "run() − The run() method is the entry point for a thread."
   ]
  },
  {
   "cell_type": "markdown",
   "id": "3a189d4f",
   "metadata": {},
   "source": [
    "b. start()"
   ]
  },
  {
   "cell_type": "markdown",
   "id": "f2cc4001-5ab5-44b0-b55e-8ef95ad11470",
   "metadata": {},
   "source": [
    "start() − The start() method starts a thread by calling the run method."
   ]
  },
  {
   "cell_type": "markdown",
   "id": "a7325e6e",
   "metadata": {},
   "source": [
    "c. join()"
   ]
  },
  {
   "cell_type": "markdown",
   "id": "a13de5e4-8e07-49f2-b6bd-3b83d7417d54",
   "metadata": {},
   "source": [
    "join([time]) − The join() waits for threads to terminate."
   ]
  },
  {
   "cell_type": "markdown",
   "id": "6a6b7191",
   "metadata": {},
   "source": [
    "d. isAlive()"
   ]
  },
  {
   "cell_type": "markdown",
   "id": "e4480f31-01af-4f1c-b378-16a585da38a3",
   "metadata": {},
   "source": [
    "isAlive() − The isAlive() method checks whether a thread is still executing."
   ]
  },
  {
   "cell_type": "markdown",
   "id": "bbd60397",
   "metadata": {},
   "source": [
    "Q4. Write a python program to create two threads. Thread one must print the list of squares and thread two must print the list of cubes?"
   ]
  },
  {
   "cell_type": "code",
   "execution_count": 20,
   "id": "37a537ed",
   "metadata": {},
   "outputs": [
    {
     "name": "stdout",
     "output_type": "stream",
     "text": [
      "Enter the elements:\n"
     ]
    },
    {
     "name": "stdin",
     "output_type": "stream",
     "text": [
      " 2 3 4 5 6 7 8 9 12 14 16 18\n"
     ]
    },
    {
     "name": "stdout",
     "output_type": "stream",
     "text": [
      "List of Squares:\n",
      " [4, 9, 16, 25, 36, 49, 64, 81, 144, 196, 256, 324]\n",
      "List of Cubes:\n",
      " [8, 27, 64, 125, 216, 343, 512, 729, 1728, 2744, 4096, 5832]\n"
     ]
    }
   ],
   "source": [
    "import threading\n",
    "\n",
    "def square(nums):\n",
    "    squares = [x**2 for x in nums]\n",
    "    print('List of Squares:\\n', squares)\n",
    "\n",
    "def cube(nums):\n",
    "    cubes = [x**3 for x in nums]\n",
    "    print('List of Cubes:\\n', cubes)\n",
    "\n",
    "if __name__ == '__main__':\n",
    "    \n",
    "    print('Enter the elements:')\n",
    "    lst = list(map(int, input().split()))\n",
    "\n",
    "    t1 = threading.Thread(target = square, args = (lst,))\n",
    "    t2 = threading.Thread(target = cube, args = (lst,))\n",
    "    \n",
    "    t1.start()\n",
    "    t2.start()\n",
    "    \n",
    "    t1.join()\n",
    "    t2.join()\n"
   ]
  },
  {
   "cell_type": "markdown",
   "id": "dd2fbeb3",
   "metadata": {},
   "source": [
    "Q5. State advantages and disadvantages of multithreading?"
   ]
  },
  {
   "cell_type": "markdown",
   "id": "386fc3cf-d023-479f-baf8-151c627bcaec",
   "metadata": {},
   "source": [
    "Ans- Advantages:-\r\n",
    "1- Improved performance and concurrenc.y\r\n",
    "2- Improved throughput.\r\n",
    "3- Superior application responsiveness.\r\n",
    "4- Improved server responsiveness.\r\n",
    "5- Minimized system resource usage.\r\n",
    "6- Program structure simplificplification.isting code."
   ]
  },
  {
   "cell_type": "markdown",
   "id": "1eb64579-0bfa-42c3-a552-45dc25662e5e",
   "metadata": {},
   "source": [
    "Disadvantages:-\n",
    "\n",
    "1- Difficulty of writing code. Multithreaded and multicontexted applications are not easy to write.\n",
    "\n",
    "2- Difficulty of debugging.\n",
    "\n",
    "3- Difficulty of managing concurrency.\n",
    "\n",
    "4- Difficulty of testing.\n",
    "\n",
    "5- Difficulty of porting existing code."
   ]
  },
  {
   "cell_type": "markdown",
   "id": "44c55618",
   "metadata": {},
   "source": [
    "Q6. Explain deadlocks and race conditions?"
   ]
  },
  {
   "cell_type": "markdown",
   "id": "c9459205-3779-495f-be0a-05943c593b98",
   "metadata": {},
   "source": [
    "Ans- Deadlock:- When two processes are waiting for each other directly or indirectly, it is called deadlock. This usually occurs when two processes are waiting for shared resources acquired by others. For example, If thread T1 acquired resource R1 and it also needs resource R2 for it to accomplish its task.\n",
    "\n",
    "Race Conditions:- A race condition is an undesirable situation that occurs when a device or system attempts to perform two or more operations at the same time, but because of the nature of the device or system, the operations must be done in the proper sequence to be done correctly. Race conditions are most commonly associated with computer science and programming. They occur when two computer program processes, or threads, attempt to access the same resource at the same time and cause problems in the system. Race conditions are considered a common issue for multithreaded applications."
   ]
  }
 ],
 "metadata": {
  "kernelspec": {
   "display_name": "Python 3 (ipykernel)",
   "language": "python",
   "name": "python3"
  },
  "language_info": {
   "codemirror_mode": {
    "name": "ipython",
    "version": 3
   },
   "file_extension": ".py",
   "mimetype": "text/x-python",
   "name": "python",
   "nbconvert_exporter": "python",
   "pygments_lexer": "ipython3",
   "version": "3.9.18"
  }
 },
 "nbformat": 4,
 "nbformat_minor": 5
}
