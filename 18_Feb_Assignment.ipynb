{
 "cells": [
  {
   "cell_type": "markdown",
   "id": "43c2593d",
   "metadata": {},
   "source": [
    "# PW Data Science Masters"
   ]
  },
  {
   "cell_type": "markdown",
   "id": "7e84c12c",
   "metadata": {},
   "source": [
    "## Assignment - 17"
   ]
  },
  {
   "cell_type": "markdown",
   "id": "19ac0ddc",
   "metadata": {},
   "source": [
    "Q1. What is an API? Give an example, where an API is used in real life."
   ]
  },
  {
   "cell_type": "markdown",
   "id": "5176d9fd-ffed-49b6-b4a7-3ec88a6266d7",
   "metadata": {},
   "source": [
    "Ans- An API is the interface that allows two independent software components to exchange information. An API acts as an intermediary between internal software functions and external ones, creating an exchange of information so seamless that it often goes unnoticed by the end user. "
   ]
  },
  {
   "cell_type": "markdown",
   "id": "d53fa2d7-d94c-4d97-b16b-8f11b40612ba",
   "metadata": {},
   "source": [
    "Common examples of APIs:\n",
    "\n",
    "Sharing flight information between airlines and travel sites\n",
    "\n",
    "Using Google Maps in a rideshare app\n",
    "\n",
    "Building chatbots in a messaging service\n",
    "\n",
    "Embedding YouTube videos into a webpage"
   ]
  },
  {
   "cell_type": "markdown",
   "id": "624aa43e-c575-4d3f-9dc7-e85f78f352fc",
   "metadata": {},
   "source": [
    "APIs are used to abstract the complexity of back-end logic in a variety of software systems. APIs access the data of a particular software and work to make sure it is compatible with interacting software. End users do not have direct interactions with APIs but rather reap the benefits once their request is fulfilled."
   ]
  },
  {
   "cell_type": "markdown",
   "id": "f0df4a2b",
   "metadata": {},
   "source": [
    "Q2. Give advantages and disadvantages of using API."
   ]
  },
  {
   "cell_type": "markdown",
   "id": "9161478f-fd66-41de-8ca6-e0c0fcdd4763",
   "metadata": {},
   "source": [
    "Ans- Advantages of APIs:-\n",
    "\n",
    "Efficiency: - API produces efficient, quicker, and more reliable results than the outputs produced by human beings in an organization.\n",
    "\n",
    "Flexible delivery of services: - API provides fast and flexible delivery of services according to developers’ requirements.\n",
    "\n",
    "Integration: - The best feature of API is that it allows the movement of data between various sites and thus enhances the integrated user experience.\n",
    "\n",
    "Automation: - As API makes use of robotic computers rather than humans, it produces better and more automated results.\n",
    "\n",
    "New functionality: - While using API the developers find new tools and functionality for API exchanges.\n"
   ]
  },
  {
   "cell_type": "markdown",
   "id": "9bb43729-c850-4feb-9c5e-70cf57f0b851",
   "metadata": {},
   "source": [
    "Disadvantages of APIs:-\n",
    "\n",
    "Cost: - Developing and implementing API is costly at times and requires high maintenance and support from developers.\n",
    "\n",
    "Security issues: - Using API adds another layer of surface which is then prone to attacks, and hence the security risk problem is common in APIs."
   ]
  },
  {
   "cell_type": "markdown",
   "id": "f3dc0703",
   "metadata": {},
   "source": [
    "Q3. What is a Web API? Differentiate between API and Web API."
   ]
  },
  {
   "cell_type": "markdown",
   "id": "03de7d6e-2995-4fcf-bda9-d470cd377e7a",
   "metadata": {},
   "source": [
    "Ans:- API stands for Application Programming Interface. A Web API is an application programming interface for the Web. A Browser API can extend the functionality of a web browser. A Server API can extend the functionality of a web server."
   ]
  },
  {
   "cell_type": "markdown",
   "id": "a197236b-ff85-4f1a-8971-10bb95a93aa0",
   "metadata": {},
   "source": [
    "                                                   |Web Services VS Web API| \n",
    "                                                       \n",
    "|1|Web services are a type of API, which must be accessed through a network connection. | APIs are application interfaces, \n",
    "\n",
    "|2|implying that one application can communicate with another application in a standardized manner.| \n",
    "\n",
    "|3|Web service is used for REST, SOAP and XML-RPC for communication. | API is used for any style of communication.| \n",
    "\n",
    "|4|All Web services are APIs.| APIs are not web services.| \n",
    "\n",
    "|5|It doesn’t have lightweight design, needs a SOAP convention to send or receive data over the system.| It has a light-weight architecture furthermore, useful for gadgets which have constrained transmission capacity like smart phones.| \n",
    "\n",
    "|6|It provides supports only for the HTTP protocol.| It provides support for the HTTP/s protocol: URL Request/Response Headers, and so on.| \n",
    "                                                                \n",
    "|7|It is not open source, however, can be devoured by any customer that comprehends xml.| It is an open source and also ships with .NET framework.| \n",
    "                                                                \n",
    "|8|Web service supports only XML. | API supports XML and JSON.| \n",
    "                                                                \n",
    "|9|Web Services can be hosted on IIS. | Web API can be hosted only on IIS and self.|"
   ]
  },
  {
   "cell_type": "markdown",
   "id": "1a59fbad",
   "metadata": {},
   "source": [
    "Q4. Explain REST and SOAP Architecture. Mention shortcomings of SOAP."
   ]
  },
  {
   "cell_type": "markdown",
   "id": "15124f8f-393e-419c-87ec-c2b41352964f",
   "metadata": {},
   "source": [
    "Ans- REST:- It stands for representational state transfer. REST is a set of architectural principles attuned to the needs of lightweight web services and mobile applications. Because it's a set of guidelines, it leaves the implementation of these recommendations to developers. When a request for data is sent to a REST API, it’s usually done through hypertext transfer protocol (commonly referred to as HTTP). Once a request is received, APIs designed for REST (called RESTful APIs or RESTful web services) can return messages in a variety of formats: HTML, XML, plain text, and JSON. JSON (JavaScript object notation) is favored as a message format because it can be read by any programming language (despite the name), is human- and machine-readable, and is lightweight. In this way, RESTful APIs are more flexible and can be easier to set up.\n"
   ]
  },
  {
   "cell_type": "markdown",
   "id": "6db96265-2ef7-4d65-b5ff-c6c3502acc5f",
   "metadata": {},
   "source": [
    "SOAP:- SOAP is a standard protocol that was first designed so that applications built with different languages and on different platforms could communicate. Because it is a protocol, it imposes built-in rules that increase its complexity and overhead, which can lead to longer page load times. However, these standards also offer built-in compliances that can make it preferable for enterprise scenarios. The built-in compliance standards include security, atomicity, consistency, isolation, and durability (ACID), which is a set of properties for ensuring reliable database transactions.\n"
   ]
  },
  {
   "cell_type": "markdown",
   "id": "7322af9c-2dd8-49f2-9f84-80e262f0f7c0",
   "metadata": {},
   "source": [
    "Shortcoming of SOAP:- As SOAP can only transfer messages as XML files, your SOAP API will be less performant, as XML is a verbose format compared to JSON. API calls made to your server will need more bandwidth and it will take more time to process the request and transfer the response back to the client.17-Oct-2022"
   ]
  },
  {
   "cell_type": "markdown",
   "id": "0ce1af56",
   "metadata": {},
   "source": [
    "Q5. Differentiate between REST and SOAP."
   ]
  },
  {
   "cell_type": "markdown",
   "id": "b9d83c87-a662-45b4-acb1-81dbfc71037b",
   "metadata": {},
   "source": [
    "Ans-\n",
    "                                                    SOAP   VS\tSOAP\n",
    "                                                    \n",
    "1\tSOAP (Simple Object Access Protocol) is a protocol with specific requirements like XML messaging.  ||\tREST (Representational State Transfer) is a set of guidelines (architectural style) offering flexible implementation\n",
    "\n",
    "2\tHeavier and needs more bandwidth   ||\tLightweight and needs less bandwidth\n",
    "\n",
    "3\tIt defines its own security  ||\tIt inherits security from the underlying transport\n",
    "\n",
    "4\tIt permits XML-based data format only  ||\tIt permits different data formats such as plain text, HTML, XML, JSON, etc.\n",
    "\n",
    "5\tSOAP calls cannot be cached  ||\tREST calls can be cached"
   ]
  }
 ],
 "metadata": {
  "kernelspec": {
   "display_name": "Python 3 (ipykernel)",
   "language": "python",
   "name": "python3"
  },
  "language_info": {
   "codemirror_mode": {
    "name": "ipython",
    "version": 3
   },
   "file_extension": ".py",
   "mimetype": "text/x-python",
   "name": "python",
   "nbconvert_exporter": "python",
   "pygments_lexer": "ipython3",
   "version": "3.9.18"
  }
 },
 "nbformat": 4,
 "nbformat_minor": 5
}
