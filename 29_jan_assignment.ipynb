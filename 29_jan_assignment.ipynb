{
 "cells": [
  {
   "cell_type": "markdown",
   "id": "5abe24cb",
   "metadata": {},
   "source": [
    "                                      PW Skill Data Science Masters\n",
    "                                            Python Assignment-1"
   ]
  },
  {
   "cell_type": "markdown",
   "id": "ef7e1008",
   "metadata": {},
   "source": [
    "Ques.1- Who developed Python Programming language?\n",
    "\n",
    "Ans- Guido Van Rossum (20 Feb 1991)"
   ]
  },
  {
   "cell_type": "markdown",
   "id": "dfc173f2",
   "metadata": {},
   "source": [
    "Ques.2- Which type of programming does Python support?\n",
    "\n",
    "Ans-  Python is an interpreted language programming language, supporting object-oriented, structured, and functional programming."
   ]
  },
  {
   "cell_type": "markdown",
   "id": "a231ca22",
   "metadata": {},
   "source": [
    "Ques.3- Is Python case sensitive when dealing with identifiers?\n",
    "\n",
    "Ans- Yes, Python is a case-sensitive language, i.e., it treats uppercase and lowercase characters differently. This applies to identifiers too. We must avoid using the same name with different cases while naming identifiers."
   ]
  },
  {
   "cell_type": "markdown",
   "id": "a006a79a",
   "metadata": {},
   "source": [
    "Ques.4- What is the  correct extension of the Python file?\n",
    "\n",
    "Ans- The  correct extension of the Python file is .py."
   ]
  },
  {
   "cell_type": "markdown",
   "id": "8f84b161",
   "metadata": {},
   "source": [
    "Ques.5- Is Python code  compiled or interpreted?\n",
    "\n",
    "Ans-  Python is an interpreted language, which means the source code of a Python program is converted into bytecode that is then executed by the Python virtual machine. Python is different from major compiled languages, such as C and C + +, as Python code is not required to be built and linked like code for these languages."
   ]
  },
  {
   "cell_type": "markdown",
   "id": "734d7722",
   "metadata": {},
   "source": [
    "Ques.6- Name a few blocks  of code used to define in python  language?\n",
    "\n",
    "Ans- The following   are blocks: a module, a function body, and a class definition. Each command typed interactively is a block. A script file is a code block."
   ]
  },
  {
   "cell_type": "markdown",
   "id": "99c2f2b9",
   "metadata": {},
   "source": [
    "Ques.7- State a character to give single line comment in python.\n",
    "\n",
    "Ans- We can write a single line comment by adding a single '#' character before any statement or line of code."
   ]
  },
  {
   "cell_type": "markdown",
   "id": "0d7db13d",
   "metadata": {},
   "source": [
    "Ques.8- Mention the functions which can help us to find the version of python that we are currently working on?\n",
    "\n",
    "Ans-  The function sys.version  can help us to find the version of python that we are currently working on.\n",
    "In windows operating system  we can use the command python--version to check the python version."
   ]
  },
  {
   "cell_type": "markdown",
   "id": "88c35993",
   "metadata": {},
   "source": [
    "Ques.9- Python supports the creation of anonymous function at run time using a construct called________.\n",
    "\n",
    "Ans- Lambda"
   ]
  },
  {
   "cell_type": "markdown",
   "id": "339d5863",
   "metadata": {},
   "source": [
    "Ques.10-  What does pip stand for?\n",
    "\n",
    "Ans- Preferred installer Program."
   ]
  },
  {
   "cell_type": "markdown",
   "id": "73d144e1",
   "metadata": {},
   "source": [
    "Ques.11- Mention  a few  built-in functions in python?\n",
    "\n",
    "Ans- Few built-in functions in python are:-\n",
    "1.\trange()\n",
    "2.\tinput()\n",
    "3.\tlen()\n",
    "4.\tlist()\n",
    "5.\tmap()\n",
    "6.\tmin()\n",
    "7.\tmax()\n",
    "8.\tfloat()\n",
    "9.\tfilter()\n",
    "10.\tenumerate()\n",
    "11.\tdict()\n",
    "12.\tdir()\n",
    "13.\tbool()\n",
    "14.\tabs()"
   ]
  },
  {
   "cell_type": "markdown",
   "id": "e5723612",
   "metadata": {},
   "source": [
    "Ques.12- What is the maximum possible length of an identifier in python?\n",
    "\n",
    "Ans- An identifier can have a maximum length of 79 characters."
   ]
  },
  {
   "cell_type": "markdown",
   "id": "39a71b8d",
   "metadata": {},
   "source": [
    "Ques.13-  What are the benefits  of using python?\n",
    "\n",
    "Ans- Benefits of using python are:-\n",
    "\n",
    " 1.Easy to learn and use.\n",
    " \n",
    " 2.Interpreted language.\n",
    " \n",
    " 3.Hundred of libraries and framework.\n",
    " \n",
    " 4.Open source and large active.\n",
    " \n",
    " 5.User friendly data structures.\n",
    " \n",
    " 6.High level language.\n",
    " \n",
    " 7.Versatility, Efficiency, Reliability and Speed."
   ]
  },
  {
   "cell_type": "markdown",
   "id": "32b40fbb",
   "metadata": {},
   "source": [
    "Ques.14- How memory is managed in python?\n",
    "\n",
    "Ans- Memory management in Python involves a private heap containing all Python objects and data structures. The management of this private heap is ensured internally by the Python memory manager.\n"
   ]
  },
  {
   "cell_type": "markdown",
   "id": "6ddb0818",
   "metadata": {},
   "source": [
    "Ques.15- How to install python on windows and set up path?\n",
    "\n",
    "Ans- Open a browser to the Python website and download the Windows installer. 2. Double click on the downloaded file and install Python for all users, and ensure that Python is added to your path. Click on Install now to begin.\n",
    "The complete path of python.exe can be added by:\n",
    "1.\tRight-clicking This PC and going to Properties.\n",
    "2.\tClicking on the Advanced system settings in the menu on the left.\n",
    "3.\tClicking on the Environment Variables button on the bottom right.\n",
    "4.\tIn the System variables section, selecting the Path variable and clicking on Edit. The next screen will show all the directories that are currently a part of the PATH variable.\n",
    "5.\tClicking on New and entering Python’s install directory."
   ]
  },
  {
   "cell_type": "markdown",
   "id": "e37a8286",
   "metadata": {},
   "source": [
    "Ques.15- Is indentation required in python?\n",
    "\n",
    "Ans- Indentation refers to the spaces at the beginning of a code line. Where in other programming languages the indentation in code is for readability only, the indentation in Python is very important. Python uses indentation to indicate a block of code.\n"
   ]
  },
  {
   "cell_type": "code",
   "execution_count": null,
   "id": "af1e77e5",
   "metadata": {},
   "outputs": [],
   "source": []
  }
 ],
 "metadata": {
  "kernelspec": {
   "display_name": "Python 3 (ipykernel)",
   "language": "python",
   "name": "python3"
  },
  "language_info": {
   "codemirror_mode": {
    "name": "ipython",
    "version": 3
   },
   "file_extension": ".py",
   "mimetype": "text/x-python",
   "name": "python",
   "nbconvert_exporter": "python",
   "pygments_lexer": "ipython3",
   "version": "3.8.12"
  }
 },
 "nbformat": 4,
 "nbformat_minor": 5
}
