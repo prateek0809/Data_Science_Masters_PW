{
 "cells": [
  {
   "cell_type": "markdown",
   "id": "573dcef9",
   "metadata": {},
   "source": [
    "#                                  Data Science Masters"
   ]
  },
  {
   "cell_type": "markdown",
   "id": "8db369aa",
   "metadata": {},
   "source": [
    "##      Assignment 2"
   ]
  },
  {
   "cell_type": "markdown",
   "id": "fcf68e98",
   "metadata": {},
   "source": [
    "Q1. Write a progarm to accept percentage from the user and display the grade according to the following criteria:"
   ]
  },
  {
   "cell_type": "markdown",
   "id": "a79d69e1",
   "metadata": {},
   "source": [
    "Source Code:-"
   ]
  },
  {
   "cell_type": "code",
   "execution_count": 1,
   "id": "fa3cc319",
   "metadata": {},
   "outputs": [
    {
     "name": "stdout",
     "output_type": "stream",
     "text": [
      "Enter the percentage:60\n",
      "Grade is D\n"
     ]
    }
   ],
   "source": [
    "per = int(input(\"Enter the percentage:\"))\n",
    "if per > 90:\n",
    "    grade = 'A'\n",
    "elif per <= 90 and per > 80:\n",
    "    grade = 'B'\n",
    "elif per <= 80 and per > 60:\n",
    "    grade = 'C'    \n",
    "else:\n",
    "    grade = 'D'\n",
    "    \n",
    "print(\"Grade is\",grade)    "
   ]
  },
  {
   "cell_type": "markdown",
   "id": "b6c90ab5",
   "metadata": {},
   "source": [
    "Q2. Write a progarm to accept the cost price of a bike and display the tax to be paid according to the following criteria:"
   ]
  },
  {
   "cell_type": "markdown",
   "id": "6d36fa78",
   "metadata": {},
   "source": [
    "Source Code:-"
   ]
  },
  {
   "cell_type": "code",
   "execution_count": 1,
   "id": "b9406e37",
   "metadata": {},
   "outputs": [
    {
     "name": "stdout",
     "output_type": "stream",
     "text": [
      "Enter the cost price of bike:75000\n",
      "Tax to be paid is 7500.0\n"
     ]
    }
   ],
   "source": [
    "cost = int(input(\"Enter the cost price of bike:\"))\n",
    "if cost > 100000:\n",
    "    tax = cost * 0.15\n",
    "elif cost <= 100000 and cost > 50000:\n",
    "    tax = cost * 0.1\n",
    "else:\n",
    "    tax = cost * 0.05\n",
    "    \n",
    "print('Tax to be paid is',tax)    "
   ]
  },
  {
   "cell_type": "markdown",
   "id": "a46a2e56",
   "metadata": {},
   "source": [
    "Q3. Accept any city from the user and display monuments of that city."
   ]
  },
  {
   "cell_type": "markdown",
   "id": "efe14c7b",
   "metadata": {},
   "source": [
    "Source Code:-"
   ]
  },
  {
   "cell_type": "code",
   "execution_count": 2,
   "id": "fbb02c3c",
   "metadata": {},
   "outputs": [
    {
     "name": "stdout",
     "output_type": "stream",
     "text": [
      "Enter the city:Agra\n",
      "Monument is Taj Mahal\n"
     ]
    }
   ],
   "source": [
    "city = input(\"Enter the city:\")\n",
    "if city == \"Delhi\":\n",
    "    print('Monument is Red Fort')\n",
    "elif city == \"Agra\":\n",
    "    print('Monument is Taj Mahal')\n",
    "elif city == \"Jaipur\":\n",
    "    print('Monument is Jal Mahal')"
   ]
  },
  {
   "cell_type": "markdown",
   "id": "e28b852d",
   "metadata": {},
   "source": [
    "Q4. Check how many times a given number can be divided by 3 before it is less than or equal to 10."
   ]
  },
  {
   "cell_type": "markdown",
   "id": "5990ba43",
   "metadata": {},
   "source": [
    "Source Code:-"
   ]
  },
  {
   "cell_type": "code",
   "execution_count": 7,
   "id": "491d423a",
   "metadata": {},
   "outputs": [
    {
     "name": "stdout",
     "output_type": "stream",
     "text": [
      "Enter the number:1432\n",
      "The number of times 1432 can be divided by 3 before it is less than or equal to 10 is: 5\n"
     ]
    }
   ],
   "source": [
    "num = int(input('Enter the number:'))\n",
    "n = num\n",
    "c = 0\n",
    "while num >= 10:\n",
    "    num //= 3\n",
    "    c += 1\n",
    "print('The number of times', n ,'can be divided by 3 before it is less than or equal to 10 is:',c)    "
   ]
  },
  {
   "cell_type": "markdown",
   "id": "ad574d18",
   "metadata": {},
   "source": [
    "Q5. Why and when to use while loop in python give a detailed description with example?\n",
    "\n",
    "Ans- Python while loop is used to run a block code until a certain condition is met. Here, a while loop evaluates the condition.\n",
    "If the condition evaluates to True , the code inside the while loop is executed."
   ]
  },
  {
   "cell_type": "markdown",
   "id": "6141e64f",
   "metadata": {},
   "source": [
    "Example:-"
   ]
  },
  {
   "cell_type": "code",
   "execution_count": 16,
   "id": "d8435b26",
   "metadata": {},
   "outputs": [
    {
     "name": "stdout",
     "output_type": "stream",
     "text": [
      "1\n",
      "3\n",
      "5\n",
      "7\n",
      "9\n"
     ]
    }
   ],
   "source": [
    "i = 1\n",
    "while i < 10:\n",
    "    print(i)\n",
    "    i += 2"
   ]
  },
  {
   "cell_type": "markdown",
   "id": "4f5bf078",
   "metadata": {},
   "source": [
    "Q6. Use nested while loop to print 3 different pattern."
   ]
  },
  {
   "cell_type": "markdown",
   "id": "3de3551f",
   "metadata": {},
   "source": [
    "Source Code:-"
   ]
  },
  {
   "cell_type": "code",
   "execution_count": 22,
   "id": "ec9f158e",
   "metadata": {},
   "outputs": [
    {
     "name": "stdout",
     "output_type": "stream",
     "text": [
      "* \r\n",
      "* * \r\n",
      "* * * \r\n",
      "* * * * \r\n",
      "* * * * * \r\n",
      "* * * * * * \r\n",
      "* * * * * * * \r\n",
      "* * * * * * * * \r\n"
     ]
    }
   ],
   "source": [
    "# 1. Right Triangle using Nested While Loop \n",
    "\n",
    "i,n = 1,8\n",
    "while i <= n:\n",
    "    j = 1\n",
    "    while j <= i:\n",
    "        print('*',end=' ')\n",
    "        j += 1  \n",
    "    print('\\r')    \n",
    "    i += 1"
   ]
  },
  {
   "cell_type": "code",
   "execution_count": 23,
   "id": "24a9d66b",
   "metadata": {},
   "outputs": [
    {
     "name": "stdout",
     "output_type": "stream",
     "text": [
      "* * * * * * * \r\n",
      "* * * * * * \r\n",
      "* * * * * \r\n",
      "* * * * \r\n",
      "* * * \r\n",
      "* * \r\n",
      "* \r\n"
     ]
    }
   ],
   "source": [
    "# 2. Inverted Right Triangle using Nested While Loop \n",
    "\n",
    "i,n = 1,8\n",
    "while i < n:\n",
    "    j = 1\n",
    "    while j <= n-i:\n",
    "        print('*',end=' ')\n",
    "        j += 1\n",
    "    print('\\r')\n",
    "    i += 1"
   ]
  },
  {
   "cell_type": "code",
   "execution_count": 24,
   "id": "6c23722b",
   "metadata": {},
   "outputs": [
    {
     "name": "stdout",
     "output_type": "stream",
     "text": [
      "              * \r\n",
      "            * * \r\n",
      "          * * * \r\n",
      "        * * * * \r\n",
      "      * * * * * \r\n",
      "    * * * * * * \r\n",
      "  * * * * * * * \r\n",
      "* * * * * * * * \r\n"
     ]
    }
   ],
   "source": [
    "# 3. Triangle Pattern using Nested While loop\n",
    "\n",
    "i,n = 0,8\n",
    "k = (2*n)-2\n",
    "while i < n:\n",
    "    j,l = 0,0\n",
    "    \n",
    "    while j < k:\n",
    "        print(end=' ')\n",
    "        j += 1\n",
    "    k -= 2\n",
    "    \n",
    "    while l < i+1:\n",
    "        print('* ',end='')\n",
    "        l += 1\n",
    "    print('\\r')\n",
    "    i += 1"
   ]
  },
  {
   "cell_type": "markdown",
   "id": "00857aa1",
   "metadata": {},
   "source": [
    "Q7. Reverse a while loop to display numbers from 10 to 1."
   ]
  },
  {
   "cell_type": "code",
   "execution_count": 25,
   "id": "576c6504",
   "metadata": {},
   "outputs": [
    {
     "name": "stdout",
     "output_type": "stream",
     "text": [
      "10\n",
      "9\n",
      "8\n",
      "7\n",
      "6\n",
      "5\n",
      "4\n",
      "3\n",
      "2\n",
      "1\n"
     ]
    }
   ],
   "source": [
    "i = 10\n",
    "while i >=1 :\n",
    "    print(i)\n",
    "    i -= 1"
   ]
  }
 ],
 "metadata": {
  "kernelspec": {
   "display_name": "Python 3 (ipykernel)",
   "language": "python",
   "name": "python3"
  },
  "language_info": {
   "codemirror_mode": {
    "name": "ipython",
    "version": 3
   },
   "file_extension": ".py",
   "mimetype": "text/x-python",
   "name": "python",
   "nbconvert_exporter": "python",
   "pygments_lexer": "ipython3",
   "version": "3.8.12"
  }
 },
 "nbformat": 4,
 "nbformat_minor": 5
}
