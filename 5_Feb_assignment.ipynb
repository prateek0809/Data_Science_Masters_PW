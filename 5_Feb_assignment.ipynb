{
 "cells": [
  {
   "cell_type": "markdown",
   "id": "d2d8908c",
   "metadata": {},
   "source": [
    "# PW Data Science Matsers"
   ]
  },
  {
   "cell_type": "markdown",
   "id": "93d47971",
   "metadata": {},
   "source": [
    "## Assignment - 6"
   ]
  },
  {
   "cell_type": "markdown",
   "id": "6a7b5152",
   "metadata": {},
   "source": [
    "Q1. Explain Class and Object with respect to Object-Oriented Programming. Give a suitable example."
   ]
  },
  {
   "cell_type": "markdown",
   "id": "d7590af1",
   "metadata": {},
   "source": [
    "Ans. An object consists of :-\n",
    "\n",
    "State: It is represented by the attributes of an object. It also reflects the properties of an object.\n",
    "\n",
    "Behaviour: It is represented by the methods of an object. It also reflects the response of an object to other objects.\n",
    "\n",
    "Identity: It gives a unique name to an object and enables one object to interact with other objects.\n",
    "\n",
    "Class:- A class is a user-defined blueprint from which objects are created. Classes consists of data and functionality together. Creating a new class creates a new type of object, allowing new instances of that type to be made. Each class instance can have attributes attached to it for maintaining its state. Class instances can also have methods for modifying their state."
   ]
  },
  {
   "cell_type": "code",
   "execution_count": 1,
   "id": "b8809494",
   "metadata": {},
   "outputs": [
    {
     "name": "stdout",
     "output_type": "stream",
     "text": [
      "BMW\n",
      "This is a BMW\n",
      "This is a Mercedes\n"
     ]
    }
   ],
   "source": [
    "#Example Python Class and Objects\n",
    "class car:\n",
    "    \n",
    "    car1 = 'BMW'\n",
    "    car2 = 'Mercedes'\n",
    "    \n",
    "    def func(self):\n",
    "        print(\"This is a\", self.car1)\n",
    "        print(\"This is a\", self.car2)\n",
    "        \n",
    "prateek = car()\n",
    "print(prateek.car1)\n",
    "prateek.func()"
   ]
  },
  {
   "cell_type": "markdown",
   "id": "c5976426",
   "metadata": {},
   "source": [
    "Q2. Name the four pillers of OOPs."
   ]
  },
  {
   "cell_type": "markdown",
   "id": "3e36bd30",
   "metadata": {},
   "source": [
    "Ans. The four pillars for OOPs are:-\n",
    "(i) Abstraction\n",
    "(ii) Encapsulation\n",
    "(iii) Inheritance\n",
    "(iv) Polymorphism"
   ]
  },
  {
   "cell_type": "markdown",
   "id": "fbed3c8c",
   "metadata": {},
   "source": [
    "Q3. Explain why --init--function is used. Give a suitable example."
   ]
  },
  {
   "cell_type": "markdown",
   "id": "81378eb4",
   "metadata": {},
   "source": [
    "Ans. All classes in Python have a function called __init__(), which is always executed when the class is being initiated.\n",
    "\n",
    "__init__() function is used to assign values to object properties that are necessary to do when the object is being created."
   ]
  },
  {
   "cell_type": "code",
   "execution_count": 2,
   "id": "6daabba3",
   "metadata": {},
   "outputs": [
    {
     "name": "stdout",
     "output_type": "stream",
     "text": [
      "Prateek\n",
      "21\n"
     ]
    }
   ],
   "source": [
    "#Examples of --init--function in Python\n",
    "class student():\n",
    "    \n",
    "    def __init__(self, name, rollno):\n",
    "        self.name = name\n",
    "        self.rollno = rollno\n",
    "\n",
    "s = student('Prateek', 21)\n",
    "\n",
    "print(s.name)\n",
    "print(s.rollno)"
   ]
  },
  {
   "cell_type": "markdown",
   "id": "9b68f8b7",
   "metadata": {},
   "source": [
    "Q4. Why self is used in OOPs?"
   ]
  },
  {
   "cell_type": "markdown",
   "id": "835831db",
   "metadata": {},
   "source": [
    "Ans. The self variable is used to represent the instance of the class which is used in object-oriented programming. It works as a reference to the object. Python uses the self parameter to refer to instance attributes and methods of the class."
   ]
  },
  {
   "cell_type": "markdown",
   "id": "0d7feba6",
   "metadata": {},
   "source": [
    "Q5. What is the inheritance? Give an example for each type of inheritence."
   ]
  },
  {
   "cell_type": "markdown",
   "id": "09bdcabd",
   "metadata": {},
   "source": [
    "Ans. Inheritance is defined as the mechanism of inheriting the data members and properties of the base class to the child class.\n",
    "Inheritance allows you to reuse your code since the derived class or the child class can reuse the members of the base class by inheriting them."
   ]
  },
  {
   "cell_type": "markdown",
   "id": "f08a2051",
   "metadata": {},
   "source": [
    "Types of Inheritance in Python"
   ]
  },
  {
   "cell_type": "markdown",
   "id": "49775397",
   "metadata": {},
   "source": [
    "1. Single Inheritance: \n",
    "Single inheritance enables a derived class to inherit properties from a single parent class, thus enabling code reusability and the addition of new features to existing code."
   ]
  },
  {
   "cell_type": "code",
   "execution_count": 3,
   "id": "1593a1fe",
   "metadata": {},
   "outputs": [
    {
     "name": "stdout",
     "output_type": "stream",
     "text": [
      "Prateek is the strongest in the Family.\n",
      "Prateek is the inspiration of his son.\n"
     ]
    }
   ],
   "source": [
    "#Examples of Single Inheritance: \n",
    "\n",
    "class Parent():\n",
    "    father_name = 'Prateek'\n",
    "    \n",
    "    def dad(self):\n",
    "        print(self.father_name,'is the strongest in the Family.')\n",
    "        \n",
    "class child(Parent):\n",
    "    \n",
    "    def son(self):\n",
    "        print(self.father_name,'is the inspiration of his son.')\n",
    "        \n",
    "rohan = child()\n",
    "rohan.dad()\n",
    "rohan.son()"
   ]
  },
  {
   "cell_type": "markdown",
   "id": "a63ec7e0",
   "metadata": {},
   "source": [
    "2. Multiple Inheritance: \n",
    "When a class can be derived from more than one base class this type of inheritance is called multiple inheritances. In multiple inheritances, all the features of the base classes are inherited into the derived class."
   ]
  },
  {
   "cell_type": "code",
   "execution_count": 4,
   "id": "d8138bca",
   "metadata": {},
   "outputs": [
    {
     "name": "stdout",
     "output_type": "stream",
     "text": [
      "My name is Prateek Singh.\n",
      "My Dad name is Prithvi Pal Singh.\n",
      "My Mother name is Dharamwait Singh.\n"
     ]
    }
   ],
   "source": [
    "#Examples of Multiple Inheritance: \n",
    "\n",
    "class Father():\n",
    "    father_name = ''\n",
    "    def dad(self):\n",
    "        print('My Dad name is',self.father_name)\n",
    "        \n",
    "        \n",
    "class Mother():\n",
    "    mother_name = ''\n",
    "    def mom(self):\n",
    "        print('My Mother name is',self.mother_name)\n",
    "          \n",
    "class child(Father, Mother):\n",
    "    my_name = '' \n",
    "    def son(self):\n",
    "        print('My name is',self.my_name)\n",
    "        print('My Dad name is',self.father_name)\n",
    "        print('My Mother name is',self.mother_name)\n",
    "        \n",
    "prateek = child()\n",
    "prateek.my_name = 'Prateek Singh.'\n",
    "prateek.father_name = 'Prithvi Pal Singh.'\n",
    "prateek.mother_name = 'Dharamwait Singh.' \n",
    "prateek.son()"
   ]
  },
  {
   "cell_type": "markdown",
   "id": "78fd4214",
   "metadata": {},
   "source": [
    "3. Multilevel Inheritance :\n",
    "In multilevel inheritance, features of the base class and the derived class are further inherited into the new derived class. This is similar to a relationship representing a child and a grandfather. "
   ]
  },
  {
   "cell_type": "code",
   "execution_count": 5,
   "id": "744ba66b",
   "metadata": {},
   "outputs": [
    {
     "name": "stdout",
     "output_type": "stream",
     "text": [
      "Rohit Garg is head of the College\n",
      "Manish Gupta is head of Deaprtment.\n",
      "Prateek Singh is the Member of the Class.\n"
     ]
    }
   ],
   "source": [
    "#Examples of Multilevel Inheritance\n",
    "\n",
    "class Director():\n",
    "    \n",
    "    def __init__(self, name):\n",
    "        self.name = name\n",
    "         \n",
    "class HOD(Director):\n",
    "    \n",
    "    def __init__(self, name, h_name):\n",
    "        self.h_name = h_name\n",
    "        Director.__init__(self,name)\n",
    "        \n",
    "class Class(HOD):\n",
    "    \n",
    "    def __init__(self, name, h_name, d_name):\n",
    "        self.d_name = d_name\n",
    "        HOD.__init__(self, name, h_name)\n",
    "        \n",
    "    def Student(self):\n",
    "        print(self.name,'is head of the College')\n",
    "        print(self.h_name,'is head of Deaprtment.')\n",
    "        print(self.d_name,'is the Member of the Class.')\n",
    "        \n",
    "prateek = Class('Rohit Garg', 'Manish Gupta', 'Prateek Singh')\n",
    "prateek.Student()"
   ]
  },
  {
   "cell_type": "markdown",
   "id": "cf578f19",
   "metadata": {},
   "source": [
    "4. Hierarchical Inheritance: \n",
    "When more than one derived class are created from a single base this type of inheritance is called hierarchical inheritance. In this program, we have a parent (base) class and two child (derived) classes."
   ]
  },
  {
   "cell_type": "code",
   "execution_count": 6,
   "id": "edcb9ba8",
   "metadata": {},
   "outputs": [
    {
     "name": "stdout",
     "output_type": "stream",
     "text": [
      "Dad is the Head in the Family.\n",
      "-----------------------------------------\n",
      "Rudra is the eldest son.\n",
      "Dad help Rudra to learn Martial Arts.\n",
      "-----------------------------------------\n",
      "Abhimanyu is the second eldest son.\n",
      "Dad play chess with Abhimanyu.\n",
      "-----------------------------------------\n",
      "Prashika is the youngest Daughter.\n",
      "Dad make a painting with Prashika.\n"
     ]
    }
   ],
   "source": [
    "#Examples of Hierarchical Inheritance\n",
    "\n",
    "class Parent():\n",
    "        \n",
    "    def dad(self):\n",
    "        print('Dad is the Head in the Family.')\n",
    "    def child1(self):\n",
    "        print('Dad help Rudra to learn Martial Arts.')\n",
    "    def child2(self):\n",
    "        print('Dad play chess with Abhimanyu.')\n",
    "    def child3(self):\n",
    "        print('Dad make a painting with Prashika.')\n",
    "        \n",
    "class child1(Parent):\n",
    "    \n",
    "    def __init__(self,son1_name):\n",
    "        self.son1_name = son1_name\n",
    "    \n",
    "    def son1(self):\n",
    "        print(self.son1_name,'is the eldest son.')\n",
    "        \n",
    "class child2(Parent):\n",
    "        \n",
    "    def __init__(self,son2_name):\n",
    "        self.son2_name = son2_name\n",
    "        \n",
    "    def son2(self):\n",
    "        print(self.son2_name,'is the second eldest son.')\n",
    "        \n",
    "class child3(Parent):\n",
    "    \n",
    "    def __init__(self,daughter_name):\n",
    "        self.daughter_name = daughter_name\n",
    "        \n",
    "    def daughter(self):\n",
    "        print(self.daughter_name,'is the youngest Daughter.')\n",
    "        \n",
    "Rudra = child1('Rudra')\n",
    "Abhimanyu = child2('Abhimanyu')       \n",
    "Prashika = child3('Prashika')        \n",
    "\n",
    "Rudra.dad()\n",
    "print('-----------------------------------------')\n",
    "Rudra.son1()\n",
    "Rudra.child1()\n",
    "print('-----------------------------------------')\n",
    "Abhimanyu.son2()\n",
    "Abhimanyu.child2()\n",
    "print('-----------------------------------------')\n",
    "Prashika.daughter()\n",
    "Prashika.child3()"
   ]
  },
  {
   "cell_type": "markdown",
   "id": "e1787142",
   "metadata": {},
   "source": [
    "5. Hybrid Inheritance: \n",
    "Inheritance consisting of multiple types of inheritance is called hybrid inheritance."
   ]
  },
  {
   "cell_type": "code",
   "execution_count": 7,
   "id": "894e673b",
   "metadata": {},
   "outputs": [
    {
     "name": "stdout",
     "output_type": "stream",
     "text": [
      "Prachi is the sister of Prateek.\n",
      "-----------------------------------------\n",
      "My name is Abhimanyu Singh.\n",
      "My Dad name is Prateek Singh.\n",
      "My Mother name is Anshika Singh.\n"
     ]
    }
   ],
   "source": [
    "#Examples of Hybrid Inheritance\n",
    "class Man():\n",
    "    \n",
    "    def __init__(self,name):\n",
    "        self.name = name\n",
    "        \n",
    "class Woman():\n",
    "    \n",
    "    def __init__(self, wife_name):\n",
    "        self.wife_name = wife_name\n",
    "\n",
    "class Sibling(Man):\n",
    "    \n",
    "    def __init__(self, sis_name, name):\n",
    "        self.sis_name = sis_name\n",
    "        Man.__init__(self,name)\n",
    "        \n",
    "    def sibling(self):\n",
    "        print(self.sis_name,'is the sister of',self.name)        \n",
    "\n",
    "        \n",
    "class child(Man, Woman):\n",
    "    \n",
    "    def __init__(self,son_name, wife_name, name):\n",
    "        self.son_name = son_name\n",
    "        Woman.__init__(self,wife_name)\n",
    "        Man.__init__(self,name)\n",
    "        \n",
    "    def son(self):\n",
    "        print('My name is',self.son_name)\n",
    "        print('My Dad name is',self.name)\n",
    "        print('My Mother name is',self.wife_name)\n",
    "        \n",
    "Prachi = Sibling('Prachi','Prateek.')\n",
    "Prachi.sibling()\n",
    "print('-----------------------------------------')\n",
    "Abhimanyu = child('Abhimanyu Singh.', 'Anshika Singh.', 'Prateek Singh.')\n",
    "Abhimanyu.son()"
   ]
  }
 ],
 "metadata": {
  "kernelspec": {
   "display_name": "Python 3 (ipykernel)",
   "language": "python",
   "name": "python3"
  },
  "language_info": {
   "codemirror_mode": {
    "name": "ipython",
    "version": 3
   },
   "file_extension": ".py",
   "mimetype": "text/x-python",
   "name": "python",
   "nbconvert_exporter": "python",
   "pygments_lexer": "ipython3",
   "version": "3.9.16"
  }
 },
 "nbformat": 4,
 "nbformat_minor": 5
}
