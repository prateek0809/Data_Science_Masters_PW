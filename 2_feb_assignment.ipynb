{
 "cells": [
  {
   "cell_type": "markdown",
   "id": "19fedbd3",
   "metadata": {},
   "source": [
    "# PW Data Science Masters"
   ]
  },
  {
   "cell_type": "markdown",
   "id": "d856cdb0",
   "metadata": {},
   "source": [
    "## Assignment - 3"
   ]
  },
  {
   "cell_type": "markdown",
   "id": "018cfe7d",
   "metadata": {},
   "source": [
    "Q1. What are the characteristics of the tuples? Is tuple immutable?"
   ]
  },
  {
   "cell_type": "markdown",
   "id": "215bc64d",
   "metadata": {},
   "source": [
    "Ans. Some of the characteristics of the tuples are:-\n",
    "\n",
    "(i) Tuple items are ordered.\n",
    "(ii) Tuple are unchangeable.\n",
    "(iii) Tuple elements can be accessed by index.\n",
    "(iv) Tuple allow duplicate.\n",
    "\n",
    "YES, Tuple is immutable which means we cannot change items of a tuple once it is assigned to it."
   ]
  },
  {
   "cell_type": "markdown",
   "id": "f1d82462",
   "metadata": {},
   "source": [
    "Q2. What are the two tuple methods in python? Give an example of each method. Give a reason why \n",
    "tuples have only two in-built methods as compared to Lists."
   ]
  },
  {
   "cell_type": "markdown",
   "id": "30b013b2",
   "metadata": {},
   "source": [
    "Ans. The two tuple methods in python are:-\n",
    "\n",
    "1. Count() Method\n",
    "2. Index() Method\n",
    "\n",
    "Tuples have only two in-built methods as compared to Lists because tuples are immutable as opposed to lists which are mutable.\n",
    "So, various kinds of operations can perform on the list due to its mutability. But, tuples cannot perform much operations due to being immutable."
   ]
  },
  {
   "cell_type": "code",
   "execution_count": 15,
   "id": "571e17e9",
   "metadata": {},
   "outputs": [
    {
     "data": {
      "text/plain": [
       "7"
      ]
     },
     "execution_count": 15,
     "metadata": {},
     "output_type": "execute_result"
    }
   ],
   "source": [
    "#   Example of Count Method\n",
    "t = (1,2,3,4,2,1,3,4,2,1,2,3,4,2,1,2,3,4,2)\n",
    "t.count(2)"
   ]
  },
  {
   "cell_type": "code",
   "execution_count": 16,
   "id": "647704a3",
   "metadata": {},
   "outputs": [
    {
     "data": {
      "text/plain": [
       "1"
      ]
     },
     "execution_count": 16,
     "metadata": {},
     "output_type": "execute_result"
    }
   ],
   "source": [
    "#   Example of Index Method\n",
    "t = (1,2,3,4)\n",
    "t.index(2)"
   ]
  },
  {
   "cell_type": "markdown",
   "id": "e1127f59",
   "metadata": {},
   "source": [
    "Q3.  Which collection datatypes in python do not allow duplicate items? Write a code using a set to remove \n",
    "duplicates from the given list.\n",
    "\n",
    "\n",
    "List = [1, 1, 1, 2, 1, 3, 1, 4, 2, 1, 2, 2, 2, 3, 2, 4, 3, 1, 3, 2, 3, 3, 3, 4, 4, 1, 4, 2, 4, 3, 4, 4]"
   ]
  },
  {
   "cell_type": "markdown",
   "id": "8ba02716",
   "metadata": {},
   "source": [
    "Ans. Sets are a collection datatype in python which is unordered and unindexed. They are mutable but do not allow duplicate values in them."
   ]
  },
  {
   "cell_type": "code",
   "execution_count": 17,
   "id": "59eb80b3",
   "metadata": {},
   "outputs": [
    {
     "name": "stdout",
     "output_type": "stream",
     "text": [
      "[1, 2, 3, 4]\n"
     ]
    }
   ],
   "source": [
    "List = [1, 1, 1, 2, 1, 3, 1, 4, 2, 1, 2, 2, 2, 3, 2, 4, 3, 1, 3, 2, 3, 3, 3, 4, 4, 1, 4, 2, 4, 3, 4, 4]\n",
    "\n",
    "List = list(set(List))\n",
    "print(List)"
   ]
  },
  {
   "cell_type": "markdown",
   "id": "bb3c00f5",
   "metadata": {},
   "source": [
    "Q4. Explain the difference between the union() and update() methods for a set. Give an example of \n",
    "each method."
   ]
  },
  {
   "cell_type": "markdown",
   "id": "8546f83a",
   "metadata": {},
   "source": [
    "Ans. The union() method returns a set that contains all items from the original set and specified set.\n",
    "\n",
    "The update() method updates the current set by adding items from another set."
   ]
  },
  {
   "cell_type": "code",
   "execution_count": 18,
   "id": "563a76e5",
   "metadata": {},
   "outputs": [
    {
     "data": {
      "text/plain": [
       "{1, 2, 3, 4, 5, 6, 7, 8, 9}"
      ]
     },
     "execution_count": 18,
     "metadata": {},
     "output_type": "execute_result"
    }
   ],
   "source": [
    "#Example of Union method \n",
    "\n",
    "s3 = {3,4,5,6,7,8,9}\n",
    "s4 = {1,2,5}\n",
    "s3.union(s4)"
   ]
  },
  {
   "cell_type": "code",
   "execution_count": 19,
   "id": "87c08888",
   "metadata": {},
   "outputs": [
    {
     "name": "stdout",
     "output_type": "stream",
     "text": [
      "{1, 2, 3, 4, 5, 6, 7}\n"
     ]
    }
   ],
   "source": [
    "#Example of Update method\n",
    "\n",
    "s1 = {1,2,3,4,5}\n",
    "s2 = {3,6,7}\n",
    "s1.update(s2)\n",
    "print(s1)"
   ]
  },
  {
   "cell_type": "markdown",
   "id": "066abaab",
   "metadata": {},
   "source": [
    "Q5. What is a dictionary? Give an example. Also, state whether a dictionary is ordered or unordered."
   ]
  },
  {
   "cell_type": "markdown",
   "id": "766d298f",
   "metadata": {},
   "source": [
    "Ans. Dictionary is a built-in data structure in which items are stored in key:value pairs and can be referred to certain value by using its key name.\n",
    "\n",
    "\n",
    "Dictionary items are ordered, mutable, and does not allow duplicates."
   ]
  },
  {
   "cell_type": "code",
   "execution_count": 25,
   "id": "eb895915",
   "metadata": {},
   "outputs": [],
   "source": [
    "#Example of Dictionary \n",
    "\n",
    "d = {'key1':'value1','key2':'value2','key3':'value3'}"
   ]
  },
  {
   "cell_type": "code",
   "execution_count": 26,
   "id": "00834f30",
   "metadata": {},
   "outputs": [
    {
     "data": {
      "text/plain": [
       "{'key1': 'value1', 'key2': 'value2', 'key3': 'value3'}"
      ]
     },
     "execution_count": 26,
     "metadata": {},
     "output_type": "execute_result"
    }
   ],
   "source": [
    "d"
   ]
  },
  {
   "cell_type": "markdown",
   "id": "ae7c9c25",
   "metadata": {},
   "source": [
    "Q6. Can we create a nested dictionary? If so, please give an example by creating a simple one-level \n",
    "nested dictionary"
   ]
  },
  {
   "cell_type": "markdown",
   "id": "ac9fd60b",
   "metadata": {},
   "source": [
    "Ans. Yes, we can create a nested dictionary in Python."
   ]
  },
  {
   "cell_type": "code",
   "execution_count": 28,
   "id": "5ea7f1ce",
   "metadata": {},
   "outputs": [
    {
     "data": {
      "text/plain": [
       "{'key': {'key1': 'value1', 'key2': 'value2'}}"
      ]
     },
     "execution_count": 28,
     "metadata": {},
     "output_type": "execute_result"
    }
   ],
   "source": [
    "#Example of Nested Dictionary \n",
    "\n",
    "d = {'key':{'key1':'value1','key2':'value2'}}\n",
    "d"
   ]
  },
  {
   "cell_type": "markdown",
   "id": "078b7080",
   "metadata": {},
   "source": [
    "Q7. Using setdefault() method, create key named topics in the given dictionary and also add the value of \n",
    "the key as this list ['Python', 'Machine Learning’, 'Deep Learning']\n",
    "\n",
    "\n",
    "dict1 = {'language' : 'Python', 'course': 'Data Science Masters'}"
   ]
  },
  {
   "cell_type": "code",
   "execution_count": 30,
   "id": "cf8f6d2f",
   "metadata": {},
   "outputs": [
    {
     "name": "stdout",
     "output_type": "stream",
     "text": [
      "{'language': 'Python', 'course': 'Data Science Masters', 'topics': ['Python', 'Machine Learning', 'Deep Learning']}\n"
     ]
    }
   ],
   "source": [
    "dict1 = {'language' : 'Python', 'course': 'Data Science Masters'}\n",
    "dict1.setdefault('topics',['Python', 'Machine Learning', 'Deep Learning'])\n",
    "print(dict1)"
   ]
  },
  {
   "cell_type": "markdown",
   "id": "10368ddd",
   "metadata": {},
   "source": [
    "Q8. What are the three view objects in dictionaries? Use the three in-built methods in python to display \n",
    "these three view objects for the given dictionary.\n",
    "\n",
    "\n",
    "dict1 = {'Sport': 'Cricket' , 'Teams': ['India', 'Australia', 'England', 'South Africa', 'Sri Lanka', 'New Zealand']}"
   ]
  },
  {
   "cell_type": "markdown",
   "id": "59ea9a5d",
   "metadata": {},
   "source": [
    "Ans. The three view objects of dictionary in python are:-\n",
    "\n",
    "  1. keys() :- The view object keys represent all the keys in a dictionary. We can retrieve the contents of this object using the keys() method.\n",
    "  \n",
    "  2. values() :- values() is an built in method of Python programming language which returns a view object. That view object contains the value of the dictionary as a list.\n",
    "  \n",
    "  3. items() :- The items() method returns a new view of the dictionary’s items ((key, value) pairs) as a list with all dictionary keys with values.\n"
   ]
  },
  {
   "cell_type": "code",
   "execution_count": 31,
   "id": "513c5722",
   "metadata": {},
   "outputs": [
    {
     "name": "stdout",
     "output_type": "stream",
     "text": [
      "dict_keys(['Sport', 'Teams'])\n",
      "dict_values(['Cricket', ['India', 'Australia', 'England', 'South Africa', 'Sri Lanka', 'New Zealand']])\n",
      "dict_items([('Sport', 'Cricket'), ('Teams', ['India', 'Australia', 'England', 'South Africa', 'Sri Lanka', 'New Zealand'])])\n"
     ]
    }
   ],
   "source": [
    "dict1 = {'Sport': 'Cricket' , 'Teams': ['India', 'Australia', 'England', 'South Africa', 'Sri Lanka', 'New Zealand']}\n",
    "print(dict1.keys())\n",
    "print(dict1.values())\n",
    "print(dict1.items())"
   ]
  }
 ],
 "metadata": {
  "kernelspec": {
   "display_name": "Python 3 (ipykernel)",
   "language": "python",
   "name": "python3"
  },
  "language_info": {
   "codemirror_mode": {
    "name": "ipython",
    "version": 3
   },
   "file_extension": ".py",
   "mimetype": "text/x-python",
   "name": "python",
   "nbconvert_exporter": "python",
   "pygments_lexer": "ipython3",
   "version": "3.8.12"
  }
 },
 "nbformat": 4,
 "nbformat_minor": 5
}
