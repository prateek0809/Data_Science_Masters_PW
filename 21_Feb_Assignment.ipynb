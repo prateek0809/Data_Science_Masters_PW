{
 "cells": [
  {
   "cell_type": "markdown",
   "id": "eb04d38b-1c5a-4ab9-9d16-24faaec38410",
   "metadata": {},
   "source": [
    "# PW Data Science Masters"
   ]
  },
  {
   "cell_type": "markdown",
   "id": "41eb8ad1-71d0-485e-8282-08afdfc8dd26",
   "metadata": {},
   "source": [
    "## Assignment - 20"
   ]
  },
  {
   "cell_type": "markdown",
   "id": "d196e41f-a20a-4ff7-a887-9d334e65c0eb",
   "metadata": {},
   "source": [
    "Q1. What is Web Scraping? Why is it Used? Give three areas where Web Scraping is used to get data."
   ]
  },
  {
   "cell_type": "markdown",
   "id": "5cf659dd-c1d3-43fa-b47e-d40c94180bcc",
   "metadata": {},
   "source": [
    "Ans- Web scraping is the process of collecting structured web data in an automated fashion. It's also known as web data extraction. Some of the main use cases of web scraping include price monitoring, price intelligence, news monitoring, lead generation, and market research among many others."
   ]
  },
  {
   "cell_type": "markdown",
   "id": "495b3a09-4de0-49dd-a801-5df451cf756c",
   "metadata": {},
   "source": [
    "Web scraping is used in a variety of digital businesses that rely on data harvesting. Legitimate use cases include: Search engine bots crawling a site, analyzing its content and then ranking it. Price comparison sites deploying bots to auto-fetch prices and product descriptions for allied seller websites."
   ]
  },
  {
   "cell_type": "markdown",
   "id": "29fa780e-42b5-4775-a073-eaf72abd1b8a",
   "metadata": {},
   "source": [
    "Q2. What are the different methods used for Web Scraping?"
   ]
  },
  {
   "cell_type": "markdown",
   "id": "dc72598f-2b16-455f-9ba4-8cf88b1741c5",
   "metadata": {},
   "source": [
    "Ans- Various methods are employed for web scraping, each catering to different needs and scenarios. \n",
    "\n",
    "One common approach is using specialized libraries or frameworks like Beautiful Soup or Scrapy, which provide tools for fetching web pages, parsing HTML or XML content, and extracting desired data elements. \n",
    "\n",
    "Additionally, developers may utilize web scraping APIs offered by certain websites, enabling direct access to structured data without the need for parsing HTML or XML manually. \n",
    "\n",
    "Another method involves browser automation tools such as Selenium WebDriver, allowing for dynamic interaction with web pages to perform scraping tasks like clicking buttons or filling forms. "
   ]
  },
  {
   "cell_type": "markdown",
   "id": "83deeade-a0f4-40d5-af36-8c12b111a35b",
   "metadata": {},
   "source": [
    "Q3. What is Beautiful Soup? Why is it used?"
   ]
  },
  {
   "cell_type": "markdown",
   "id": "d08aea51-b840-48cf-9500-5d5478ba524b",
   "metadata": {},
   "source": [
    "Ans- Beautiful Soup is a Python package used for parsing HTML and XML documents (including having malformed markup, i.e. non-closed tags, so named after tag soup). It creates a parse tree for parsed pages that can be used to extract data from HTML, which is useful for web scraping."
   ]
  },
  {
   "cell_type": "markdown",
   "id": "17ce2fc5-2bd3-436a-9477-8097d3dd9176",
   "metadata": {},
   "source": [
    "Q4. Why is flask used in this Web Scraping project?"
   ]
  },
  {
   "cell_type": "markdown",
   "id": "4bcaff46-c850-4017-8ac7-a82ac4dae972",
   "metadata": {},
   "source": [
    "Ans- Flask is a lightweight framework to build websites. We'll use this to parse our collected data and display it as HTML in a new HTML file. The requests module allows us to send http requests to the website we want to scrape. The first line imports the Flask class and the render_template method from the flask library."
   ]
  },
  {
   "cell_type": "markdown",
   "id": "66d6adfa-a156-4db2-9e9e-6004507ad532",
   "metadata": {},
   "source": [
    "Q5. Write the names of AWS services used in this project. Also, explain the use of each service."
   ]
  },
  {
   "cell_type": "markdown",
   "id": "5006fd98-f59f-469b-8e7d-a12f63416341",
   "metadata": {},
   "source": [
    "Ans- AWS services are Amazon's cloud platform products. They play an inevitable role in the cloud services industry across the globe.\n",
    "1. Amazon EC2 (Elastic Compute Cloud) ·\n",
    "2. Amazon RDS (Relational Database Services)\n",
    "3. Amazon S3 (Simple Storage Service)\n",
    "4. Amazon Lambda\n",
    "5. Amazon Cognito."
   ]
  },
  {
   "cell_type": "markdown",
   "id": "3d5bd8f5-e807-40ba-abf2-cd411801a18d",
   "metadata": {},
   "source": [
    "1. Amazon EC2 (Elastic Compute Cloud):- EC2 is a cloud platform provided by Amazon that offers secure, and resizable compute capacity. Its purpose is to enable easy access and usability to developers for web-scale cloud computing, while allowing for total control of your compute resources. Deploy applications rapidly without the need for investing in hardware upfront; all the while able to launch virtual servers as-needed and at scale.\n",
    "\n",
    "2. Amazon RDS (Relational Database Services):- Amazon Relational Database Service (Amazon RDS) makes database configuration, management, and scaling easy in the cloud. Automate tedious tasks such as hardware provisioning, database arrangement, patching, and backups – cost-effectively and proportionate to your needs. RDS is available on various database instances which are optimized for performance and memory, providing six familiar database engines including Amazon Aurora, PostgreSQL, MySQL, MariaDB, Oracle. database, and SQL server. By leveraging the AWS Database Migration Service, you can easily migrate or reproduce your existing databases to Amazon RDS. Visit Amazon’s RDS page.\n",
    "\n",
    "3. Amazon S3 (Simple Storage Service):- Amazon S3, at its core, facilitates object storage, providing leading scalability, data availability, security, and performance. Businesses of vast sizes can leverage S3 for storage and protect large sums of data for various use cases, such as websites, applications, backup, and more. Amazon S3’s intuitive management features enable the frictionless organization of data and configurable access controls.\n",
    "\n",
    "4. Amazon Lambda:- Lambda permits you to run code without owning or managing servers. Users only pay for the compute time consumed. Operate code for nearly any application or backend utility without administration. Users just upload the code, and Lambda does the rest, which provides precise software scaling and extensive availability.\n",
    "\n",
    "\n",
    "5. Amazon Cognito:- AWS Cognito administers a control access dashboard for on-boarding users through sign-up, and sign-in features to their web and mobile apps. AWS Cognito scales to millions of users and offers sign-in support with social identity providers including Facebook, Google, and Amazon, along with enterprise identity providers via SAML 2.0."
   ]
  }
 ],
 "metadata": {
  "kernelspec": {
   "display_name": "Python 3 (ipykernel)",
   "language": "python",
   "name": "python3"
  },
  "language_info": {
   "codemirror_mode": {
    "name": "ipython",
    "version": 3
   },
   "file_extension": ".py",
   "mimetype": "text/x-python",
   "name": "python",
   "nbconvert_exporter": "python",
   "pygments_lexer": "ipython3",
   "version": "3.9.18"
  }
 },
 "nbformat": 4,
 "nbformat_minor": 5
}
