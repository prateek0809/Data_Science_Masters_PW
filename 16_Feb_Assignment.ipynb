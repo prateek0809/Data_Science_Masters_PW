{
 "cells": [
  {
   "cell_type": "markdown",
   "id": "d5dd01de",
   "metadata": {},
   "source": [
    "# PW Data Science Masters"
   ]
  },
  {
   "cell_type": "markdown",
   "id": "fd5b6944",
   "metadata": {},
   "source": [
    "## Assignment - 15"
   ]
  },
  {
   "cell_type": "markdown",
   "id": "f0cba29d",
   "metadata": {},
   "source": [
    "Q1. What is a database? Differentiate between SQL and NoSQL databases."
   ]
  },
  {
   "cell_type": "markdown",
   "id": "24d50411-36e0-4731-9fd4-366d1db91fe5",
   "metadata": {},
   "source": [
    "Ans- A database is an organized collection of structured information, or data, typically stored electronically in a computer system. A database is usually controlled by a database management system (DBMS). Together, the data and the DBMS, along with the applications that are associated with them, are referred to as a database system, often shortened to just database."
   ]
  },
  {
   "cell_type": "markdown",
   "id": "40a68377-b9e1-4359-8d44-d6b2061a1876",
   "metadata": {},
   "source": [
    "\n",
    "                                               SQL\t      vs\t   NoSQL\n",
    "RELATIONAL DATABASE MANAGEMENT SYSTEM (RDBMS).           ||                     Non-relational or distributed database system. \n",
    "\n",
    "These databases have fixed or static or predefined schema. || They have a dynamic schema. \n",
    "\n",
    "These databases are not suited for hierarchical data storage. || These databases are best suited for hierarchical data storage. \n",
    "\n",
    "These databases are best suited for complex queries. || These databases are not so good for complex queries. \n",
    "\n",
    "Vertically Scalable. || Horizontally scalable. \n",
    "\n",
    "Follows ACID property. || Follows CAP(consistency, availability, partition tolerance. \n",
    "\n",
    "Examples: MySQL, PostgreSQL, Oracle, MS-SQL Server, etc. || Examples: MongoDB, GraphQL, HBase, Neo4j, Cassandra, etc."
   ]
  },
  {
   "cell_type": "markdown",
   "id": "3f53fbdc",
   "metadata": {},
   "source": [
    "Q2. What is DDL? Explain why CREATE, DROP, ALTER, and TRUNCATE are used with an example."
   ]
  },
  {
   "cell_type": "markdown",
   "id": "d6204b51-5883-439a-8b76-8b39d4bd6756",
   "metadata": {},
   "source": [
    "Ans- Data Definition Language(DDL) is a subset of SQL and a part of DBMS(Database Management System). DDL consist of Commands to commands like CREATE, ALTER, TRUNCATE and DROP. These commands are used to create or modify the tables in SQL."
   ]
  },
  {
   "cell_type": "markdown",
   "id": "a4a55376-7358-4e21-91fc-fd385e9ea2f3",
   "metadata": {},
   "source": [
    "CREATE :- This command is used to create a new table in SQL. The user has to give information like table name, column names, and their datatypes.\n",
    "\n",
    "Syntax –\n",
    "\n",
    "CREATE TABLE table_name\n",
    "(\n",
    "column_1 datatype,\n",
    "column_2 datatype,\n",
    "column_3 datatype,\n",
    "....\n",
    ");"
   ]
  },
  {
   "cell_type": "code",
   "execution_count": null,
   "id": "8d4d553d",
   "metadata": {},
   "outputs": [],
   "source": [
    "CREATE TABLE Student_info\n",
    "(\n",
    "College_Id number(2),\n",
    "College_name varchar(30),\n",
    "Branch varchar(10)\n",
    ");"
   ]
  },
  {
   "cell_type": "markdown",
   "id": "8614c5f6-4afc-4024-9c16-87790173defb",
   "metadata": {},
   "source": [
    "ALTER :-This command is used to add, delete or change columns in the existing table. The user needs to know the existing table name and can do add, delete or modify tasks easily.\n",
    "\n",
    "Syntax:-\n",
    "\n",
    "ALTER TABLE table_name\n",
    "ADD column_name datatype;"
   ]
  },
  {
   "cell_type": "code",
   "execution_count": null,
   "id": "259940d4",
   "metadata": {},
   "outputs": [],
   "source": [
    "ALTER TABLE Student_info\n",
    "ADD CGPA number;"
   ]
  },
  {
   "cell_type": "markdown",
   "id": "9cfade89-0033-469a-8569-fdb7570f4656",
   "metadata": {},
   "source": [
    "TRUNCATE :- This command is used to remove all rows from the table, but the structure of the table still exists.\n",
    "\n",
    "Syntax:-\n",
    "\n",
    "TRUNCATE TABLE table_name;"
   ]
  },
  {
   "cell_type": "code",
   "execution_count": null,
   "id": "cbb77df5",
   "metadata": {},
   "outputs": [],
   "source": [
    "TRUNCATE TABLE Student_info;"
   ]
  },
  {
   "cell_type": "markdown",
   "id": "c96af284-7287-42c0-81d2-7d79d70c76ea",
   "metadata": {},
   "source": [
    "DROP:- This command is used to remove an existing table along with its structure from the Database.\n",
    "\n",
    "Syntax –\n",
    "\n",
    "DROP TABLE table_name;"
   ]
  },
  {
   "cell_type": "code",
   "execution_count": null,
   "id": "8f82db55",
   "metadata": {},
   "outputs": [],
   "source": [
    "DROP TABLE Student_info;"
   ]
  },
  {
   "cell_type": "markdown",
   "id": "fa8eded2",
   "metadata": {},
   "source": [
    "Q3. What is DML? Explain INSERT, UPDATE, and DELETE with an example."
   ]
  },
  {
   "cell_type": "markdown",
   "id": "80b5a1b7-fdb7-4ad2-9607-9587c4b86a6d",
   "metadata": {},
   "source": [
    "Ans- The data manipulation language statements are used to retrieve, add, delete, and modify the data that is stored in the objects of database."
   ]
  },
  {
   "cell_type": "markdown",
   "id": "a06c7253-02e2-4e1a-a6cc-f3b198f0f36b",
   "metadata": {},
   "source": [
    "INSERT Command:- To add data to a table the INSERT command is used. \n",
    "\n",
    "The syntax of the INSERT command is given below:\n",
    "\n",
    "INSERT into table-name values (data, data …)"
   ]
  },
  {
   "cell_type": "code",
   "execution_count": null,
   "id": "e7d0bc7a",
   "metadata": {},
   "outputs": [],
   "source": [
    "# lets take the example of EMPLOYEE table\n",
    "\n",
    "INSERT into EMPLOYEE values (01, ‘Prateek Singh’, ‘Data Scientist’, 50000);"
   ]
  },
  {
   "cell_type": "markdown",
   "id": "7782167a-bdb8-4e13-a931-2d38d489ef5e",
   "metadata": {},
   "source": [
    "Update Command: To update a table or row or column in the table we use the update command. \n",
    "\n",
    "The syntax of update command is given below:\n",
    "\n",
    "Update table-name set column-name = value where condition;"
   ]
  },
  {
   "cell_type": "code",
   "execution_count": null,
   "id": "0683fc99",
   "metadata": {},
   "outputs": [],
   "source": [
    "Update employee set EMP_ID = E04 where DEPT_NO = 30"
   ]
  },
  {
   "cell_type": "markdown",
   "id": "ca73282c-e960-46d8-9b9f-3cf4a67620d9",
   "metadata": {},
   "source": [
    "Delete Command: To delete a table row or some data from a table in the database the delete command is used. \n",
    "\n",
    "The syntax of delete command is as follows:-\n",
    "\n",
    "DELETE from table-name;"
   ]
  },
  {
   "cell_type": "code",
   "execution_count": null,
   "id": "ec264ea2",
   "metadata": {},
   "outputs": [],
   "source": [
    "DELETE from employee where DEPT_NO = 40;"
   ]
  },
  {
   "cell_type": "markdown",
   "id": "855dabdb",
   "metadata": {},
   "source": [
    "Q4. What is DQL? Explain SELECT with an example."
   ]
  },
  {
   "cell_type": "markdown",
   "id": "7f4b09bc-e029-4a0e-8a8c-2ee9836f5095",
   "metadata": {},
   "source": [
    "Ans- DQL:- The commands of SQL that are used to retrieve data from the database are collectively called DQL. So all Select statements come under DQL.\n",
    "The purpose of DQL Command is to get some schema relation based on the query passed to it.\n",
    "\n",
    "Example:-\n",
    "\n",
    "SELECT – is used to retrieve data from the database. "
   ]
  },
  {
   "cell_type": "markdown",
   "id": "e12a2748-aa12-4afd-bdf1-8b92714b6754",
   "metadata": {},
   "source": [
    "The SELECT statement is used to select data from a database. The data returned is stored in a result table, called the result-set.\n",
    "\n",
    "SELECT Syntax:-\n",
    "\n",
    "SELECT column1, column2, ...\n",
    "FROM table_name;"
   ]
  },
  {
   "cell_type": "code",
   "execution_count": null,
   "id": "02a6d865",
   "metadata": {},
   "outputs": [],
   "source": [
    "# Example of customer table to retrieve the CustomerName and city.\n",
    "SELECT CustomerName, City FROM Customers;"
   ]
  },
  {
   "cell_type": "markdown",
   "id": "90408dee",
   "metadata": {},
   "source": [
    "Q5. Explain Primary Key and Foreign Key."
   ]
  },
  {
   "cell_type": "markdown",
   "id": "bb99b5e1-ca06-4f1d-ab11-b05b717b6c90",
   "metadata": {},
   "source": [
    "Ans- Primary key:- A primary key generally focuses on the uniqueness of the table. It is a column or a set of columns that uniquely distinguishes every row in the database. It means it should not have any duplicate value. Also, it doesn’t contain a NULL value."
   ]
  },
  {
   "cell_type": "markdown",
   "id": "2b7726d9-9ee7-4de7-8041-a9b4c694a7db",
   "metadata": {},
   "source": [
    "Foreign key:-The foreign key is a group of one or more columns in a database to uniquely identify another database record in some other table to maintain the referential integrity. It is also known as the referencing key that establishes a relationship between two different tables in a database."
   ]
  },
  {
   "cell_type": "markdown",
   "id": "b81421e6",
   "metadata": {},
   "source": [
    "Q6. Write a python code to connect MySQL to python. Explain the cursor() and execute() method."
   ]
  },
  {
   "cell_type": "markdown",
   "id": "4c9401fc-feb7-409c-b68f-e652cfec22a5",
   "metadata": {},
   "source": [
    "Ans- The MySQLCursor of mysql-connector-python (and similar libraries) is used to execute statements to communicate with the MySQL database. Using the methods of it you can execute SQL statements, fetch data from the result sets, call procedures."
   ]
  },
  {
   "cell_type": "markdown",
   "id": "cedcd3c7-d726-412c-811d-24ca3f40fb7b",
   "metadata": {},
   "source": [
    "cursor():-\n",
    "\n",
    "The cursor provides a number of methods to access the data and metadata of an executed SQL statement.\n",
    "\n",
    "execute():-\n",
    "\n",
    "This method accepts a MySQL query as a parameter and executes the given query."
   ]
  },
  {
   "cell_type": "code",
   "execution_count": null,
   "id": "ccb8dee0-1f24-42e3-9ada-cf599ea57a6b",
   "metadata": {},
   "outputs": [],
   "source": [
    "import mysql.connector\n",
    "\n",
    "#establishing the connection\n",
    "conn = mysql.connector.connect(\n",
    "   user='root', password='password', host='localhost', database='mydb'\n",
    ")\n",
    "#Creating a cursor object using the cursor() method\n",
    "cursor = conn.cursor()"
   ]
  },
  {
   "cell_type": "markdown",
   "id": "57ad8541",
   "metadata": {},
   "source": [
    "Q7. Give the order of execution of SQL clauses in an SQL query."
   ]
  },
  {
   "cell_type": "markdown",
   "id": "919e6697-dd99-4139-95fb-9720d3e0c54c",
   "metadata": {},
   "source": [
    "Ans- \n",
    "FROM and JOINs\n",
    "\n",
    "The FROM clause, and subsequent JOINs are first executed to determine the total working set of data that is being queried. This includes subqueries in this clause, and can cause temporary tables to be created under the hood containing all the columns and rows of the tables being joined.\n",
    "\n",
    "2. WHERE\n",
    "\n",
    "Once we have the total working set of data, the first-pass WHERE constraints are applied to the individual rows, and rows that do not satisfy the constraint are discarded. Each of the constraints can only access columns directly from the tables requested in the FROM clause. Aliases in the SELECT part of the query are not accessible in most databases since they may include expressions dependent on parts of the query that have not yet executed.\n",
    "\n",
    "3. GROUP BY\n",
    "\n",
    "The remaining rows after the WHERE constraints are applied are then grouped based on common values in the column specified in the GROUP BY clause. As a result of the grouping, there will only be as many rows as there are unique values in that column. Implicitly, this means that you should only need to use this when you have aggregate functions in your query.\n",
    "\n",
    "4. HAVING\n",
    "\n",
    "If the query has a GROUP BY clause, then the constraints in the HAVING clause are then applied to the grouped rows, discard the grouped rows that don't satisfy the constraint. Like the WHERE clause, aliases are also not accessible from this step in most databases.\n",
    "\n",
    "5. SELECT\n",
    "\n",
    "Any expressions in the SELECT part of the query are finally computed.\n",
    "\n",
    "6. DISTINCT\n",
    "7. \n",
    "Of the remaining rows, rows with duplicate values in the column marked as DISTINCT will be discarded.\n",
    "\n",
    "8. ORDER BY\n",
    "\n",
    "If an order is specified by the ORDER BY clause, the rows are then sorted by the specified data in either ascending or descending order. Since all the expressions in the SELECT part of the query have been computed, you can reference aliases in this clause.\n",
    "\n",
    "8. LIMIT / OFFSET\n",
    "\n",
    "Finally, the rows that fall outside the range specified by the LIMIT and OFFSET are discarded, leaving the final set of rows to be returned from the query."
   ]
  }
 ],
 "metadata": {
  "kernelspec": {
   "display_name": "Python 3 (ipykernel)",
   "language": "python",
   "name": "python3"
  },
  "language_info": {
   "codemirror_mode": {
    "name": "ipython",
    "version": 3
   },
   "file_extension": ".py",
   "mimetype": "text/x-python",
   "name": "python",
   "nbconvert_exporter": "python",
   "pygments_lexer": "ipython3",
   "version": "3.9.18"
  }
 },
 "nbformat": 4,
 "nbformat_minor": 5
}
