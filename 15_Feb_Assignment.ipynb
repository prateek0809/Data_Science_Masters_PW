{
 "cells": [
  {
   "cell_type": "markdown",
   "id": "00cad5c9-2479-4da7-b3fb-14ecfb5e37ca",
   "metadata": {},
   "source": [
    "# PW Data Science Masters"
   ]
  },
  {
   "cell_type": "markdown",
   "id": "347c38c0-1bb0-41bc-9ba1-83057f0b9923",
   "metadata": {},
   "source": [
    "## Assignment - 14"
   ]
  },
  {
   "cell_type": "markdown",
   "id": "e087c409-9eeb-413c-8903-0c5873c3682d",
   "metadata": {},
   "source": [
    "Q1. What is multiprocessing in python? Why is it useful?"
   ]
  },
  {
   "cell_type": "markdown",
   "id": "2477b03c-6af0-49cc-b88a-102afd8603fa",
   "metadata": {},
   "source": [
    "Ans- Multiprocessing in Python is a built-in package that allows the system to run multiple processes simultaneously. It will enable the breaking of applications into smaller threads that can run independently. \n",
    "\n",
    "It is useful because the multiprocessing package offers both local and remote concurrency, effectively side-stepping the Global Interpreter Lock by using subprocesses instead of threads."
   ]
  },
  {
   "cell_type": "markdown",
   "id": "68742879-7bcb-4ee9-84e5-f652fb27c127",
   "metadata": {},
   "source": [
    "Q2. What are the differences between multiprocessing and multithreading?\n"
   ]
  },
  {
   "cell_type": "markdown",
   "id": "83c61788-e390-47b9-a1d9-7acb0f585c6e",
   "metadata": {},
   "source": [
    "Ans-\n",
    "                       Multiprocessing\t\t      vs         Multithreading\n",
    "                       \n",
    "| 1.| In Multiprocessing, CPUs are added for increasing computing power. || While In Multithreading, many threads are created of a single process for increasing computing power. \n",
    "\n",
    "| 2.| In Multiprocessing, Many processes are executed simultaneously. || While in multithreading, many threads of a process are executed simultaneously. \n",
    "\n",
    "| 3.| Multiprocessing are classified into Symmetric and Asymmetric.|| While Multithreading is not classified in any categories. \n",
    "\n",
    "| 4.| In Multiprocessing, Process creation is a time-consuming process. || While in Multithreading, process creation is according to economical. \n",
    "\n",
    "|5.|  In Multiprocessing, every process owned a separate address space.|| While in Multithreading, a common address space is shared by all the threads."
   ]
  },
  {
   "cell_type": "markdown",
   "id": "37ba3b82-b7d9-4be5-991f-0c3b3b7f4014",
   "metadata": {},
   "source": [
    "Q3. Write a python code to create a process using the multiprocessing module."
   ]
  },
  {
   "cell_type": "code",
   "execution_count": 1,
   "id": "a60666d0-2547-4de0-9467-9e435f9f7354",
   "metadata": {},
   "outputs": [
    {
     "name": "stdout",
     "output_type": "stream",
     "text": [
      "this is my main prodram.\n",
      "this is my multiprocessing program.\n"
     ]
    }
   ],
   "source": [
    "#Answer:\n",
    "\n",
    "import multiprocessing\n",
    "\n",
    "def test():\n",
    "    print(\"this is my multiprocessing program.\")\n",
    "\n",
    "if __name__ == \"__main__\":\n",
    "    m = multiprocessing.Process(target=test)\n",
    "    print(\"this is my main prodram.\")\n",
    "    m.start()\n",
    "    m.join()"
   ]
  },
  {
   "cell_type": "markdown",
   "id": "89549624-3328-4b7d-8b72-9ea8e290c252",
   "metadata": {},
   "source": [
    "Q4. What is a multiprocessing pool in python? Why is it used?"
   ]
  },
  {
   "cell_type": "markdown",
   "id": "6af939c3-7f7b-4ffb-8a73-251b8ded57dc",
   "metadata": {},
   "source": [
    "Ans- The Python Multiprocessing Pool class allows you to create and manage process pools in Python. Although the Multiprocessing Pool has been available in Python for a long time, it is not widely used, because of misunderstandings of the capabilities and limitations of Processes and Threads in Python. \n",
    "\n",
    "Python multiprocessing Pool can be used for parallel execution of a function across multiple input values, distributing the input data across processes (data parallelism). "
   ]
  },
  {
   "cell_type": "code",
   "execution_count": 2,
   "id": "3c370bb7-7982-4391-aa6e-a86b82789e76",
   "metadata": {},
   "outputs": [
    {
     "name": "stdout",
     "output_type": "stream",
     "text": [
      "[9, 16, 25, 36, 36, 49, 7569, 64, 64]\n"
     ]
    }
   ],
   "source": [
    "#Example:-\n",
    "\n",
    "import multiprocessing\n",
    "\n",
    "def square(n):\n",
    "    return n**2\n",
    "if __name__ == '__main__':\n",
    "    with multiprocessing.Pool(processes=5) as pool :\n",
    "        out =pool.map(square , [3,4,5,6,6,7,87,8,8])\n",
    "        print(out)"
   ]
  },
  {
   "cell_type": "markdown",
   "id": "cec38614-a438-4847-b3be-627b1b2fd675",
   "metadata": {},
   "source": [
    "Q5. How can we create a pool of worker processes in python using the multiprocessing module?"
   ]
  },
  {
   "cell_type": "code",
   "execution_count": 3,
   "id": "13b32356-1ccc-4a6a-9a68-8b43f0671112",
   "metadata": {},
   "outputs": [
    {
     "name": "stdout",
     "output_type": "stream",
     "text": [
      "ID of main process: 451\n",
      "ID of process running worker1: 487\n",
      "ID of process running worker2: 490\n",
      "ID of process p1: 487\n",
      "ID of process p2: 490\n",
      "Both processes finished execution!\n",
      "Process p1 is alive: False\n",
      "Process p2 is alive: False\n"
     ]
    }
   ],
   "source": [
    "# Answer:-\n",
    "\n",
    "import multiprocessing\n",
    "import os\n",
    "  \n",
    "def worker1():\n",
    "    print(\"ID of process running worker1: {}\".format(os.getpid()))\n",
    "    \n",
    "def worker2():\n",
    "    # printing process id\n",
    "    print(\"ID of process running worker2: {}\".format(os.getpid()))\n",
    "    \n",
    "if __name__ == \"__main__\":\n",
    "    \n",
    "    # printing main program process id\n",
    "    print(\"ID of main process: {}\".format(os.getpid()))\n",
    "  \n",
    "    # creating processes\n",
    "    p1 = multiprocessing.Process(target=worker1)\n",
    "    p2 = multiprocessing.Process(target=worker2)\n",
    "\n",
    "    p1.start()\n",
    "    p2.start()\n",
    "    \n",
    "    print(\"ID of process p1: {}\".format(p1.pid))\n",
    "    print(\"ID of process p2: {}\".format(p2.pid))\n",
    "  \n",
    "    # wait until processes are finished\n",
    "    p1.join()\n",
    "    p2.join()\n",
    "  \n",
    "    # both processes finished\n",
    "    print(\"Both processes finished execution!\")\n",
    "  \n",
    "    # check if processes are alive\n",
    "    print(\"Process p1 is alive: {}\".format(p1.is_alive()))\n",
    "    print(\"Process p2 is alive: {}\".format(p2.is_alive()))"
   ]
  },
  {
   "cell_type": "markdown",
   "id": "40fbd167-dedb-4871-baa3-1487259fb17d",
   "metadata": {},
   "source": [
    "Q6. Write a python program to create 4 processes, each process should print a different number using the multiprocessing module in python."
   ]
  },
  {
   "cell_type": "code",
   "execution_count": 4,
   "id": "f619303d-5414-4fca-b8d0-a6fad48f16c2",
   "metadata": {},
   "outputs": [
    {
     "name": "stdout",
     "output_type": "stream",
     "text": [
      "ID of main process: 451\n",
      "ID of process running worker1: 497\n",
      "ID of process running worker2: 500\n",
      "ID of process running worker3: 507\n",
      "ID of process running worker4: 510\n",
      "ID of process p1: 497\n",
      "ID of process p2: 500\n",
      "ID of process p3: 507\n",
      "ID of process p4: 510\n",
      "Both processes finished execution!\n",
      "Process p1 is alive: False\n",
      "Process p2 is alive: False\n",
      "Process p3 is alive: False\n",
      "Process p4 is alive: False\n"
     ]
    }
   ],
   "source": [
    "# Answer:-\n",
    "\n",
    "import multiprocessing\n",
    "import os\n",
    "  \n",
    "def worker1():\n",
    "    \n",
    "    print(\"ID of process running worker1: {}\".format(os.getpid()))\n",
    "def worker2():\n",
    " \n",
    "    print(\"ID of process running worker2: {}\".format(os.getpid()))\n",
    "def worker3():\n",
    "    \n",
    "    print(\"ID of process running worker3: {}\".format(os.getpid()))\n",
    "def worker4():\n",
    "    \n",
    "    print(\"ID of process running worker4: {}\".format(os.getpid()))\n",
    "if __name__ == \"__main__\":\n",
    "    \n",
    "    print(\"ID of main process: {}\".format(os.getpid()))\n",
    "  \n",
    "    p1 = multiprocessing.Process(target=worker1)\n",
    "    p2 = multiprocessing.Process(target=worker2)\n",
    "    p3 = multiprocessing.Process(target=worker3)\n",
    "    p4 = multiprocessing.Process(target=worker4)\n",
    "    p1.start()\n",
    "    p2.start()\n",
    "    p3.start()\n",
    "    p4.start()\n",
    "    print(\"ID of process p1: {}\".format(p1.pid))\n",
    "    print(\"ID of process p2: {}\".format(p2.pid))\n",
    "    print(\"ID of process p3: {}\".format(p3.pid))\n",
    "    print(\"ID of process p4: {}\".format(p4.pid))\n",
    "\n",
    "    p1.join()\n",
    "    p2.join()\n",
    "    p3.join()\n",
    "    p4.join()\n",
    "\n",
    "    print(\"Both processes finished execution!\")\n",
    "  \n",
    "    print(\"Process p1 is alive: {}\".format(p1.is_alive()))\n",
    "    print(\"Process p2 is alive: {}\".format(p2.is_alive()))\n",
    "    print(\"Process p3 is alive: {}\".format(p3.is_alive()))\n",
    "    print(\"Process p4 is alive: {}\".format(p4.is_alive()))"
   ]
  }
 ],
 "metadata": {
  "kernelspec": {
   "display_name": "Python 3 (ipykernel)",
   "language": "python",
   "name": "python3"
  },
  "language_info": {
   "codemirror_mode": {
    "name": "ipython",
    "version": 3
   },
   "file_extension": ".py",
   "mimetype": "text/x-python",
   "name": "python",
   "nbconvert_exporter": "python",
   "pygments_lexer": "ipython3",
   "version": "3.10.8"
  }
 },
 "nbformat": 4,
 "nbformat_minor": 5
}
