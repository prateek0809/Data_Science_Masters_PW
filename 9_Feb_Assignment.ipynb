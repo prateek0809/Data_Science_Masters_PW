{
 "cells": [
  {
   "cell_type": "markdown",
   "id": "79a29ad7",
   "metadata": {},
   "source": [
    "# PW Data Science Masters"
   ]
  },
  {
   "cell_type": "markdown",
   "id": "05c4602e",
   "metadata": {},
   "source": [
    "## Assignment - 9"
   ]
  },
  {
   "cell_type": "markdown",
   "id": "3f468199",
   "metadata": {},
   "source": [
    "Q1. Create a vehicle class with an init method having instance variables as name_of_vehicle, max_speed \n",
    "and average_of_vehicle."
   ]
  },
  {
   "cell_type": "code",
   "execution_count": 1,
   "id": "500ca341",
   "metadata": {},
   "outputs": [],
   "source": [
    "class vechile:\n",
    "    \n",
    "     def __init__(self, name_of_vechile, max_speed, average_of_vechile):\n",
    "            self.name_of_vechile = name_of_vechile\n",
    "            self.max_speed = max_speed\n",
    "            self.average_of_vechile = average_of_vechile\n",
    "        "
   ]
  },
  {
   "cell_type": "code",
   "execution_count": 2,
   "id": "fb215e71",
   "metadata": {},
   "outputs": [],
   "source": [
    "cars = vechile('BMW', 500, 350)"
   ]
  },
  {
   "cell_type": "code",
   "execution_count": 3,
   "id": "6d411227",
   "metadata": {},
   "outputs": [
    {
     "name": "stdout",
     "output_type": "stream",
     "text": [
      "BMW\n"
     ]
    }
   ],
   "source": [
    "print(cars.name_of_vechile)"
   ]
  },
  {
   "cell_type": "code",
   "execution_count": 4,
   "id": "c78337fb",
   "metadata": {},
   "outputs": [
    {
     "name": "stdout",
     "output_type": "stream",
     "text": [
      "500\n"
     ]
    }
   ],
   "source": [
    "print(cars.max_speed)"
   ]
  },
  {
   "cell_type": "code",
   "execution_count": 5,
   "id": "cb26e374",
   "metadata": {},
   "outputs": [
    {
     "name": "stdout",
     "output_type": "stream",
     "text": [
      "350\n"
     ]
    }
   ],
   "source": [
    "print(cars.average_of_vechile)"
   ]
  },
  {
   "cell_type": "markdown",
   "id": "44038406",
   "metadata": {},
   "source": [
    "Q2.  Create a child class car from the vehicle class created in Que 1, which will inherit the vehicle class. \n",
    "Create a method named seating_capacity which takes capacity as an argument and returns the name of \n",
    "the vehicle and its seating capacity."
   ]
  },
  {
   "cell_type": "code",
   "execution_count": 6,
   "id": "31c84e09",
   "metadata": {},
   "outputs": [],
   "source": [
    "class vechile:\n",
    "    \n",
    "     def __init__(self, name_of_vechile, max_speed, average_of_vechile):\n",
    "            self.name_of_vechile = name_of_vechile\n",
    "            self.max_speed = max_speed\n",
    "            self.average_of_vechile = average_of_vechile\n",
    "\n",
    "class car(vechile):\n",
    "    \n",
    "    def __init__(self, name_of_vechile, max_speed, average_of_vechile):\n",
    "        super().__init__(name_of_vechile, max_speed, average_of_vechile)\n",
    "    \n",
    "    def seating_capacity(self,capacity):\n",
    "        if capacity==2:\n",
    "            return{\"Name \":'Ferrari','seating_capacity ': 2}\n",
    "        elif capacity>2 and capacity<=4:\n",
    "            return{\"Name \":'Mercedes','seating_capacity ': 4}\n",
    "        elif capacity>2 and capacity<=6:\n",
    "            return{\"Name \":'BMW','seating_capacity ': 6}\n",
    "        else:\n",
    "            return{\"Name \":'Scorpio','seating_capacity': 7}"
   ]
  },
  {
   "cell_type": "code",
   "execution_count": 7,
   "id": "8d200a4d",
   "metadata": {},
   "outputs": [],
   "source": [
    "mycar = car('Mercedes', 200, 150)"
   ]
  },
  {
   "cell_type": "code",
   "execution_count": 8,
   "id": "2577bbb8",
   "metadata": {},
   "outputs": [
    {
     "name": "stdout",
     "output_type": "stream",
     "text": [
      "{'Name ': 'Mercedes', 'seating_capacity ': 4}\n"
     ]
    }
   ],
   "source": [
    "print(mycar.seating_capacity(4))"
   ]
  },
  {
   "cell_type": "markdown",
   "id": "c44c29ae",
   "metadata": {},
   "source": [
    "Q3. What is multiple inheritance? Write a python code to demonstrate multiple inheritance."
   ]
  },
  {
   "cell_type": "markdown",
   "id": "22469ba0",
   "metadata": {},
   "source": [
    "Ans- When a class is derived from more than one base class it is called multiple Inheritance. The derived class inherits all the features of the base case.\n",
    "\n",
    "Syntax for multiple inheritance:\n",
    "\n",
    "Class Base1:\n",
    "   \n",
    "          Body of the class\n",
    "\n",
    "Class Base2:\n",
    "   \n",
    "          Body of the class\n",
    "\n",
    "Class Derived(Base1, Base2):\n",
    "   \n",
    "          Body of the class"
   ]
  },
  {
   "cell_type": "markdown",
   "id": "edc29a3a",
   "metadata": {},
   "source": [
    "Example for multiple inheritance:"
   ]
  },
  {
   "cell_type": "code",
   "execution_count": 9,
   "id": "72a2ac99",
   "metadata": {},
   "outputs": [
    {
     "name": "stdout",
     "output_type": "stream",
     "text": [
      "My name is Prateek Singh.\n",
      "My Dad name is Prithvi Pal Singh.\n",
      "My Mother name is Dharamwait Singh.\n"
     ]
    }
   ],
   "source": [
    "class Father():\n",
    "    father_name = ''\n",
    "    def dad(self):\n",
    "        print('My Dad name is',self.father_name)\n",
    "        \n",
    "        \n",
    "class Mother():\n",
    "    mother_name = ''\n",
    "    def mom(self):\n",
    "        print('My Mother name is',self.mother_name)\n",
    "          \n",
    "class child(Father, Mother):\n",
    "    my_name = '' \n",
    "    def son(self):\n",
    "        print('My name is',self.my_name)\n",
    "        print('My Dad name is',self.father_name)\n",
    "        print('My Mother name is',self.mother_name)\n",
    "        \n",
    "prateek = child()\n",
    "prateek.my_name = 'Prateek Singh.'\n",
    "prateek.father_name = 'Prithvi Pal Singh.'\n",
    "prateek.mother_name = 'Dharamwait Singh.' \n",
    "prateek.son()"
   ]
  },
  {
   "cell_type": "markdown",
   "id": "298fce46",
   "metadata": {},
   "source": [
    "Q4. What are getter and setter in python? Create a class and create a getter and a setter method in this \n",
    "class."
   ]
  },
  {
   "cell_type": "markdown",
   "id": "923926b2",
   "metadata": {},
   "source": [
    "Ans- The main purpose of using getters and setters in object-oriented programs is to ensure data encapsulation.\n",
    "We use getters & setters to add validation logic around getting and setting a value."
   ]
  },
  {
   "cell_type": "code",
   "execution_count": 10,
   "id": "853c3cc2",
   "metadata": {},
   "outputs": [],
   "source": [
    "# Example:-\n",
    "\n",
    "class PWSkills:\n",
    "    \n",
    "    def __init__(self, age = 0):\n",
    "         self._age = age\n",
    "      \n",
    "    # getter method\n",
    "    def get_age(self):\n",
    "        return self._age\n",
    "      \n",
    "    # setter method\n",
    "    def set_age(self, x):\n",
    "        self._age = x"
   ]
  },
  {
   "cell_type": "code",
   "execution_count": 11,
   "id": "d0439258",
   "metadata": {},
   "outputs": [
    {
     "name": "stdout",
     "output_type": "stream",
     "text": [
      "21\n",
      "21\n"
     ]
    }
   ],
   "source": [
    "Prateek = PWSkills()  \n",
    "\n",
    "# setting the age using setter\n",
    "Prateek.set_age(21) \n",
    "\n",
    "# retrieving age using getter\n",
    "print(Prateek.get_age())\n",
    "  \n",
    "print(Prateek._age)"
   ]
  },
  {
   "cell_type": "markdown",
   "id": "38449531",
   "metadata": {},
   "source": [
    "Q5.What is method overriding in python? Write a python code to demonstrate method overriding."
   ]
  },
  {
   "cell_type": "markdown",
   "id": "cac25bb5",
   "metadata": {},
   "source": [
    "Ans- Method overriding is a feature of object-oriented programming languages where the subclass or child class can provide the program with specific characteristics or a specific implementation process of data provided that are already defined in the parent class or superclass."
   ]
  },
  {
   "cell_type": "code",
   "execution_count": 12,
   "id": "ece9c8bc",
   "metadata": {},
   "outputs": [
    {
     "name": "stdout",
     "output_type": "stream",
     "text": [
      "Inside Parent\n",
      "Inside Child\n"
     ]
    }
   ],
   "source": [
    "# Example:-\n",
    "\n",
    "class Parent():\n",
    "\n",
    "    def __init__(self):\n",
    "        self.value = \"Inside Parent\"\n",
    "\n",
    "    def show(self):\n",
    "        print(self.value)\n",
    "\n",
    "class Child(Parent):\n",
    "    \n",
    "    def __init__(self):\n",
    "        self.value = \"Inside Child\"\n",
    "\n",
    "    def show(self):\n",
    "        print(self.value)\n",
    "\n",
    "obj1 = Parent()\n",
    "obj2 = Child()\n",
    "  \n",
    "obj1.show()\n",
    "obj2.show()"
   ]
  }
 ],
 "metadata": {
  "kernelspec": {
   "display_name": "Python 3 (ipykernel)",
   "language": "python",
   "name": "python3"
  },
  "language_info": {
   "codemirror_mode": {
    "name": "ipython",
    "version": 3
   },
   "file_extension": ".py",
   "mimetype": "text/x-python",
   "name": "python",
   "nbconvert_exporter": "python",
   "pygments_lexer": "ipython3",
   "version": "3.9.16"
  }
 },
 "nbformat": 4,
 "nbformat_minor": 5
}
